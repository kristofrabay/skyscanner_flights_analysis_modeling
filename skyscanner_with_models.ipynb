{
 "cells": [
  {
   "cell_type": "markdown",
   "metadata": {},
   "source": [
    "## Assignment for Coding 3 - Python course\n",
    "\n",
    "### by Kristof F Rabay\n",
    "---\n",
    "#### Focus\n",
    "Scrape flights data via the SkyScanner API for given date ranges in 2020 summer, all departing from Vienna\n",
    "\n",
    "#### Summary of tasks needed\n",
    "1. Scrape raw data via API call, turn JSONs into pandas.DFs, merge them to have a complete dataset to 'play with'\n",
    "2. Basic exploration\n",
    "3. Enrich with airport distance data via HTML scraping\n",
    "4. Visualize results\n",
    "\n",
    "#### Keep in mind\n",
    "When enriching with weather data, will re-run scraping function (API restricts date selection, so will only be able to use that day's weather data"
   ]
  },
  {
   "cell_type": "markdown",
   "metadata": {},
   "source": [
    "### Will append this notebook with homeworks coming up\n",
    "#### <span style='background:lightgreen'> Done  </span>\n",
    "Scrape via API, JSON-to-DF, merge DFs, concatenate all DFs from all links\n",
    "Data in pd.DF, basic exploration, to_csv, read_csv, clean (dates, dtypes, etc...), group-bys, pivoting, matplots (and 1 seaborn), web scraping\n",
    "\n",
    "#### <span style='background:skyblue'> Extra tasks  </span>\n",
    "ML algos"
   ]
  },
  {
   "cell_type": "markdown",
   "metadata": {},
   "source": [
    "### 1. Load needed libraries"
   ]
  },
  {
   "cell_type": "code",
   "execution_count": 2,
   "metadata": {},
   "outputs": [],
   "source": [
    "import urllib.request as ur\n",
    "import json\n",
    "import re\n",
    "import datetime\n",
    "import missingno\n",
    "import pandas as pd\n",
    "from pandas.io.json import json_normalize\n",
    "import matplotlib.pyplot as plt\n",
    "import matplotlib.ticker as ticker\n",
    "%matplotlib inline\n",
    "import numpy as np\n",
    "import seaborn as sns\n",
    "from bs4 import BeautifulSoup\n",
    "from urllib.error import HTTPError\n",
    "from time import sleep\n",
    "from IPython.display import display"
   ]
  },
  {
   "cell_type": "markdown",
   "metadata": {},
   "source": [
    "### 2. Set date ranges to create links from"
   ]
  },
  {
   "cell_type": "code",
   "execution_count": 3,
   "metadata": {},
   "outputs": [],
   "source": [
    "dates_from = pd.date_range(start='2020-06-20', end='2020-08-20')"
   ]
  },
  {
   "cell_type": "code",
   "execution_count": 7,
   "metadata": {},
   "outputs": [],
   "source": [
    "# create the possible date ranges\n",
    "dates_to_use = [\"https://partners.api.skyscanner.net/apiservices/browsequotes/v1.0/HU-sky/HUF/en-US/VIE/Anywhere/\" + dates_from.strftime(\"%Y-%m-%d\") + \"/\" + (dates_from + i).strftime(\"%Y-%m-%d\") + \"?apiKey=INSERTAPI\" for i in range(7,20 + 1)]\n",
    "\n",
    "# unnest the nested list\n",
    "links = [item for nested_list in dates_to_use for item in nested_list]"
   ]
  },
  {
   "cell_type": "markdown",
   "metadata": {},
   "source": [
    "### 3. API call function"
   ]
  },
  {
   "cell_type": "code",
   "execution_count": 8,
   "metadata": {},
   "outputs": [],
   "source": [
    "def get_df_from_url(url):\n",
    "\n",
    "    content = ur.urlopen(url)\n",
    "    jsons = json.loads(content.read())\n",
    "\n",
    "    if jsons['Quotes'] == []:\n",
    "        \n",
    "        # there are date ranges that have no quotes for them --> would return an error, instead let's literally skip those urls\n",
    "        pass\n",
    "\n",
    "    else:\n",
    "\n",
    "        quotes = json_normalize(jsons['Quotes'])\n",
    "        places = json_normalize(jsons['Places'])\n",
    "        carriers = json_normalize(jsons['Carriers'])\n",
    "\n",
    "        date_columns = []\n",
    "        for column in quotes.columns:\n",
    "            if 'Date' in column:\n",
    "                date_columns.append(column)\n",
    "\n",
    "        quotes[date_columns] = quotes[date_columns].apply(lambda x: x.str.replace(re.compile('T\\d{2}:\\d{2}:\\d{2}'),''))\n",
    "        quotes[date_columns] = quotes[date_columns].astype('datetime64[ns]')\n",
    "\n",
    "        object_columns = list(quotes.select_dtypes(include=['O']).columns)\n",
    "\n",
    "        quotes[object_columns] = quotes[object_columns].astype('str').apply(lambda x: x.str.replace(re.compile(r'\\W+'),''))\n",
    "        quotes[object_columns] = quotes[object_columns].astype('int64')\n",
    "\n",
    "        # Inboundleg.Destination = Outboundleg.Origin (both refer to the starting airport)\n",
    "        # Outboundled.Destination = Inboundleg.Origin (both refer to the destination airport)\n",
    "        # the 2 origins and 1 destination can be dropped\n",
    "\n",
    "        quotes.drop(['InboundLeg.DestinationId', 'OutboundLeg.OriginId', 'InboundLeg.OriginId'], axis = 1, inplace = True)\n",
    "\n",
    "        df = pd.merge(quotes,places[['CityName', 'CountryName', 'IataCode', 'PlaceId']], \n",
    "                     left_on = 'OutboundLeg.DestinationId', \n",
    "                     right_on ='PlaceId', \n",
    "                     how='left').merge(carriers, \n",
    "                                      how = 'left',\n",
    "                                      left_on = 'OutboundLeg.CarrierIds',\n",
    "                                      right_on = 'CarrierId').merge(carriers,\n",
    "                                                                   how = 'left',\n",
    "                                                                   left_on = 'InboundLeg.CarrierIds',\n",
    "                                                                   right_on = 'CarrierId')\n",
    "        return(df)"
   ]
  },
  {
   "cell_type": "code",
   "execution_count": 9,
   "metadata": {},
   "outputs": [],
   "source": [
    "# list comprehension to run function on all links, then having pd.concat binding together the matching columns\n",
    "sky_data = pd.concat([get_df_from_url(link) for link in links])"
   ]
  },
  {
   "cell_type": "markdown",
   "metadata": {},
   "source": [
    "### 4. Wrangle and tidy the dataframe"
   ]
  },
  {
   "cell_type": "code",
   "execution_count": 11,
   "metadata": {},
   "outputs": [],
   "source": [
    "data = sky_data.copy()"
   ]
  },
  {
   "cell_type": "code",
   "execution_count": 12,
   "metadata": {},
   "outputs": [
    {
     "data": {
      "text/plain": [
       "(34764, 17)"
      ]
     },
     "execution_count": 12,
     "metadata": {},
     "output_type": "execute_result"
    }
   ],
   "source": [
    "data.shape"
   ]
  },
  {
   "cell_type": "code",
   "execution_count": 13,
   "metadata": {},
   "outputs": [
    {
     "data": {
      "text/html": [
       "<div>\n",
       "<style scoped>\n",
       "    .dataframe tbody tr th:only-of-type {\n",
       "        vertical-align: middle;\n",
       "    }\n",
       "\n",
       "    .dataframe tbody tr th {\n",
       "        vertical-align: top;\n",
       "    }\n",
       "\n",
       "    .dataframe thead th {\n",
       "        text-align: right;\n",
       "    }\n",
       "</style>\n",
       "<table border=\"1\" class=\"dataframe\">\n",
       "  <thead>\n",
       "    <tr style=\"text-align: right;\">\n",
       "      <th></th>\n",
       "      <th>Direct</th>\n",
       "      <th>InboundLeg.CarrierIds</th>\n",
       "      <th>InboundLeg.DepartureDate</th>\n",
       "      <th>MinPrice</th>\n",
       "      <th>OutboundLeg.CarrierIds</th>\n",
       "      <th>OutboundLeg.DepartureDate</th>\n",
       "      <th>OutboundLeg.DestinationId</th>\n",
       "      <th>QuoteDateTime</th>\n",
       "      <th>QuoteId</th>\n",
       "      <th>CityName</th>\n",
       "      <th>CountryName</th>\n",
       "      <th>IataCode</th>\n",
       "      <th>PlaceId</th>\n",
       "      <th>CarrierId_x</th>\n",
       "      <th>Name_x</th>\n",
       "      <th>CarrierId_y</th>\n",
       "      <th>Name_y</th>\n",
       "    </tr>\n",
       "  </thead>\n",
       "  <tbody>\n",
       "    <tr>\n",
       "      <th>0</th>\n",
       "      <td>False</td>\n",
       "      <td>952</td>\n",
       "      <td>2020-06-27</td>\n",
       "      <td>197625.0</td>\n",
       "      <td>1618</td>\n",
       "      <td>2020-06-20</td>\n",
       "      <td>84501</td>\n",
       "      <td>2020-01-27</td>\n",
       "      <td>1</td>\n",
       "      <td>Taipei</td>\n",
       "      <td>Taiwan</td>\n",
       "      <td>TPE</td>\n",
       "      <td>84501</td>\n",
       "      <td>1618</td>\n",
       "      <td>Qatar Airways</td>\n",
       "      <td>952</td>\n",
       "      <td>Cathay Pacific</td>\n",
       "    </tr>\n",
       "    <tr>\n",
       "      <th>1</th>\n",
       "      <td>True</td>\n",
       "      <td>1555</td>\n",
       "      <td>2020-06-27</td>\n",
       "      <td>44476.0</td>\n",
       "      <td>1555</td>\n",
       "      <td>2020-06-20</td>\n",
       "      <td>81495</td>\n",
       "      <td>2020-01-21</td>\n",
       "      <td>2</td>\n",
       "      <td>Istanbul</td>\n",
       "      <td>Turkey</td>\n",
       "      <td>SAW</td>\n",
       "      <td>81495</td>\n",
       "      <td>1555</td>\n",
       "      <td>Pegasus Airlines</td>\n",
       "      <td>1555</td>\n",
       "      <td>Pegasus Airlines</td>\n",
       "    </tr>\n",
       "    <tr>\n",
       "      <th>2</th>\n",
       "      <td>False</td>\n",
       "      <td>1718</td>\n",
       "      <td>2020-06-27</td>\n",
       "      <td>186640.0</td>\n",
       "      <td>1718</td>\n",
       "      <td>2020-06-20</td>\n",
       "      <td>64012</td>\n",
       "      <td>2020-01-22</td>\n",
       "      <td>3</td>\n",
       "      <td>Kuala Lumpur</td>\n",
       "      <td>Malaysia</td>\n",
       "      <td>KUL</td>\n",
       "      <td>64012</td>\n",
       "      <td>1718</td>\n",
       "      <td>Saudia</td>\n",
       "      <td>1718</td>\n",
       "      <td>Saudia</td>\n",
       "    </tr>\n",
       "    <tr>\n",
       "      <th>3</th>\n",
       "      <td>True</td>\n",
       "      <td>1954</td>\n",
       "      <td>2020-06-27</td>\n",
       "      <td>180885.0</td>\n",
       "      <td>1954</td>\n",
       "      <td>2020-06-20</td>\n",
       "      <td>56951</td>\n",
       "      <td>2020-01-27</td>\n",
       "      <td>4</td>\n",
       "      <td>Hurghada</td>\n",
       "      <td>Egypt</td>\n",
       "      <td>HRG</td>\n",
       "      <td>56951</td>\n",
       "      <td>1954</td>\n",
       "      <td>Corendon Airlines Europe</td>\n",
       "      <td>1954</td>\n",
       "      <td>Corendon Airlines Europe</td>\n",
       "    </tr>\n",
       "    <tr>\n",
       "      <th>4</th>\n",
       "      <td>False</td>\n",
       "      <td>1755</td>\n",
       "      <td>2020-06-27</td>\n",
       "      <td>118824.0</td>\n",
       "      <td>1755</td>\n",
       "      <td>2020-06-20</td>\n",
       "      <td>56951</td>\n",
       "      <td>2020-01-27</td>\n",
       "      <td>5</td>\n",
       "      <td>Hurghada</td>\n",
       "      <td>Egypt</td>\n",
       "      <td>HRG</td>\n",
       "      <td>56951</td>\n",
       "      <td>1755</td>\n",
       "      <td>Turkish Airlines</td>\n",
       "      <td>1755</td>\n",
       "      <td>Turkish Airlines</td>\n",
       "    </tr>\n",
       "  </tbody>\n",
       "</table>\n",
       "</div>"
      ],
      "text/plain": [
       "   Direct  InboundLeg.CarrierIds InboundLeg.DepartureDate  MinPrice  \\\n",
       "0   False                    952               2020-06-27  197625.0   \n",
       "1    True                   1555               2020-06-27   44476.0   \n",
       "2   False                   1718               2020-06-27  186640.0   \n",
       "3    True                   1954               2020-06-27  180885.0   \n",
       "4   False                   1755               2020-06-27  118824.0   \n",
       "\n",
       "   OutboundLeg.CarrierIds OutboundLeg.DepartureDate  \\\n",
       "0                    1618                2020-06-20   \n",
       "1                    1555                2020-06-20   \n",
       "2                    1718                2020-06-20   \n",
       "3                    1954                2020-06-20   \n",
       "4                    1755                2020-06-20   \n",
       "\n",
       "   OutboundLeg.DestinationId QuoteDateTime  QuoteId      CityName CountryName  \\\n",
       "0                      84501    2020-01-27        1        Taipei      Taiwan   \n",
       "1                      81495    2020-01-21        2      Istanbul      Turkey   \n",
       "2                      64012    2020-01-22        3  Kuala Lumpur    Malaysia   \n",
       "3                      56951    2020-01-27        4      Hurghada       Egypt   \n",
       "4                      56951    2020-01-27        5      Hurghada       Egypt   \n",
       "\n",
       "  IataCode  PlaceId  CarrierId_x                    Name_x  CarrierId_y  \\\n",
       "0      TPE    84501         1618             Qatar Airways          952   \n",
       "1      SAW    81495         1555          Pegasus Airlines         1555   \n",
       "2      KUL    64012         1718                    Saudia         1718   \n",
       "3      HRG    56951         1954  Corendon Airlines Europe         1954   \n",
       "4      HRG    56951         1755          Turkish Airlines         1755   \n",
       "\n",
       "                     Name_y  \n",
       "0            Cathay Pacific  \n",
       "1          Pegasus Airlines  \n",
       "2                    Saudia  \n",
       "3  Corendon Airlines Europe  \n",
       "4          Turkish Airlines  "
      ]
     },
     "execution_count": 13,
     "metadata": {},
     "output_type": "execute_result"
    }
   ],
   "source": [
    "data.head()"
   ]
  },
  {
   "cell_type": "code",
   "execution_count": 14,
   "metadata": {
    "scrolled": true
   },
   "outputs": [],
   "source": [
    "# CarrierIDs are not needed, as their names are stored in separate columns\n",
    "# Same goes for OutboundDestID: the destination airport is stored in a separate column\n",
    "# QuoteID was SkyScanner's inner ID for that particular date's, destination's, origin's and carrier's pricing identification\n",
    "\n",
    "data.drop(['InboundLeg.CarrierIds', \n",
    "           'OutboundLeg.CarrierIds', \n",
    "           'OutboundLeg.DestinationId', \n",
    "           'CarrierId_x', \n",
    "           'CarrierId_y', \n",
    "           'PlaceId', \n",
    "           'QuoteId'], axis = 1, inplace = True)"
   ]
  },
  {
   "cell_type": "code",
   "execution_count": 15,
   "metadata": {},
   "outputs": [],
   "source": [
    "# Last two column names (names.x and names.y) make no sense for the readers\n",
    "# The names are results of merging\n",
    "# Let's rename them\n",
    "\n",
    "data.rename(columns = {'Name_x': 'CarrierDeparting', 'Name_y': 'CarrierArriving'}, inplace=True)"
   ]
  },
  {
   "cell_type": "code",
   "execution_count": 16,
   "metadata": {},
   "outputs": [
    {
     "data": {
      "text/html": [
       "<div>\n",
       "<style scoped>\n",
       "    .dataframe tbody tr th:only-of-type {\n",
       "        vertical-align: middle;\n",
       "    }\n",
       "\n",
       "    .dataframe tbody tr th {\n",
       "        vertical-align: top;\n",
       "    }\n",
       "\n",
       "    .dataframe thead th {\n",
       "        text-align: right;\n",
       "    }\n",
       "</style>\n",
       "<table border=\"1\" class=\"dataframe\">\n",
       "  <thead>\n",
       "    <tr style=\"text-align: right;\">\n",
       "      <th></th>\n",
       "      <th>Direct</th>\n",
       "      <th>InboundLeg.DepartureDate</th>\n",
       "      <th>MinPrice</th>\n",
       "      <th>OutboundLeg.DepartureDate</th>\n",
       "      <th>QuoteDateTime</th>\n",
       "      <th>CityName</th>\n",
       "      <th>CountryName</th>\n",
       "      <th>IataCode</th>\n",
       "      <th>CarrierDeparting</th>\n",
       "      <th>CarrierArriving</th>\n",
       "    </tr>\n",
       "  </thead>\n",
       "  <tbody>\n",
       "    <tr>\n",
       "      <th>0</th>\n",
       "      <td>False</td>\n",
       "      <td>2020-06-27</td>\n",
       "      <td>197625.0</td>\n",
       "      <td>2020-06-20</td>\n",
       "      <td>2020-01-27</td>\n",
       "      <td>Taipei</td>\n",
       "      <td>Taiwan</td>\n",
       "      <td>TPE</td>\n",
       "      <td>Qatar Airways</td>\n",
       "      <td>Cathay Pacific</td>\n",
       "    </tr>\n",
       "    <tr>\n",
       "      <th>1</th>\n",
       "      <td>True</td>\n",
       "      <td>2020-06-27</td>\n",
       "      <td>44476.0</td>\n",
       "      <td>2020-06-20</td>\n",
       "      <td>2020-01-21</td>\n",
       "      <td>Istanbul</td>\n",
       "      <td>Turkey</td>\n",
       "      <td>SAW</td>\n",
       "      <td>Pegasus Airlines</td>\n",
       "      <td>Pegasus Airlines</td>\n",
       "    </tr>\n",
       "    <tr>\n",
       "      <th>2</th>\n",
       "      <td>False</td>\n",
       "      <td>2020-06-27</td>\n",
       "      <td>186640.0</td>\n",
       "      <td>2020-06-20</td>\n",
       "      <td>2020-01-22</td>\n",
       "      <td>Kuala Lumpur</td>\n",
       "      <td>Malaysia</td>\n",
       "      <td>KUL</td>\n",
       "      <td>Saudia</td>\n",
       "      <td>Saudia</td>\n",
       "    </tr>\n",
       "    <tr>\n",
       "      <th>3</th>\n",
       "      <td>True</td>\n",
       "      <td>2020-06-27</td>\n",
       "      <td>180885.0</td>\n",
       "      <td>2020-06-20</td>\n",
       "      <td>2020-01-27</td>\n",
       "      <td>Hurghada</td>\n",
       "      <td>Egypt</td>\n",
       "      <td>HRG</td>\n",
       "      <td>Corendon Airlines Europe</td>\n",
       "      <td>Corendon Airlines Europe</td>\n",
       "    </tr>\n",
       "    <tr>\n",
       "      <th>4</th>\n",
       "      <td>False</td>\n",
       "      <td>2020-06-27</td>\n",
       "      <td>118824.0</td>\n",
       "      <td>2020-06-20</td>\n",
       "      <td>2020-01-27</td>\n",
       "      <td>Hurghada</td>\n",
       "      <td>Egypt</td>\n",
       "      <td>HRG</td>\n",
       "      <td>Turkish Airlines</td>\n",
       "      <td>Turkish Airlines</td>\n",
       "    </tr>\n",
       "  </tbody>\n",
       "</table>\n",
       "</div>"
      ],
      "text/plain": [
       "   Direct InboundLeg.DepartureDate  MinPrice OutboundLeg.DepartureDate  \\\n",
       "0   False               2020-06-27  197625.0                2020-06-20   \n",
       "1    True               2020-06-27   44476.0                2020-06-20   \n",
       "2   False               2020-06-27  186640.0                2020-06-20   \n",
       "3    True               2020-06-27  180885.0                2020-06-20   \n",
       "4   False               2020-06-27  118824.0                2020-06-20   \n",
       "\n",
       "  QuoteDateTime      CityName CountryName IataCode          CarrierDeparting  \\\n",
       "0    2020-01-27        Taipei      Taiwan      TPE             Qatar Airways   \n",
       "1    2020-01-21      Istanbul      Turkey      SAW          Pegasus Airlines   \n",
       "2    2020-01-22  Kuala Lumpur    Malaysia      KUL                    Saudia   \n",
       "3    2020-01-27      Hurghada       Egypt      HRG  Corendon Airlines Europe   \n",
       "4    2020-01-27      Hurghada       Egypt      HRG          Turkish Airlines   \n",
       "\n",
       "            CarrierArriving  \n",
       "0            Cathay Pacific  \n",
       "1          Pegasus Airlines  \n",
       "2                    Saudia  \n",
       "3  Corendon Airlines Europe  \n",
       "4          Turkish Airlines  "
      ]
     },
     "execution_count": 16,
     "metadata": {},
     "output_type": "execute_result"
    }
   ],
   "source": [
    "# how does out df look now?\n",
    "\n",
    "data.head()"
   ]
  },
  {
   "cell_type": "code",
   "execution_count": 17,
   "metadata": {},
   "outputs": [
    {
     "data": {
      "text/plain": [
       "Direct                                 bool\n",
       "InboundLeg.DepartureDate     datetime64[ns]\n",
       "MinPrice                            float64\n",
       "OutboundLeg.DepartureDate    datetime64[ns]\n",
       "QuoteDateTime                datetime64[ns]\n",
       "CityName                             object\n",
       "CountryName                          object\n",
       "IataCode                             object\n",
       "CarrierDeparting                     object\n",
       "CarrierArriving                      object\n",
       "dtype: object"
      ]
     },
     "execution_count": 17,
     "metadata": {},
     "output_type": "execute_result"
    }
   ],
   "source": [
    "# Let's check the clean dataset's columns - names and types\n",
    "\n",
    "data.dtypes"
   ]
  },
  {
   "cell_type": "code",
   "execution_count": 19,
   "metadata": {},
   "outputs": [],
   "source": [
    "# don't want sci notation, let's set pandas options for formatting numbers\n",
    "pd.options.display.float_format = '{:.2f}'.format"
   ]
  },
  {
   "cell_type": "markdown",
   "metadata": {},
   "source": [
    "##### Let's see the distribution of numeric, and count stats of categorical features"
   ]
  },
  {
   "cell_type": "code",
   "execution_count": 20,
   "metadata": {},
   "outputs": [
    {
     "data": {
      "text/html": [
       "<div>\n",
       "<style scoped>\n",
       "    .dataframe tbody tr th:only-of-type {\n",
       "        vertical-align: middle;\n",
       "    }\n",
       "\n",
       "    .dataframe tbody tr th {\n",
       "        vertical-align: top;\n",
       "    }\n",
       "\n",
       "    .dataframe thead th {\n",
       "        text-align: right;\n",
       "    }\n",
       "</style>\n",
       "<table border=\"1\" class=\"dataframe\">\n",
       "  <thead>\n",
       "    <tr style=\"text-align: right;\">\n",
       "      <th></th>\n",
       "      <th>MinPrice</th>\n",
       "    </tr>\n",
       "  </thead>\n",
       "  <tbody>\n",
       "    <tr>\n",
       "      <th>count</th>\n",
       "      <td>34764.00</td>\n",
       "    </tr>\n",
       "    <tr>\n",
       "      <th>mean</th>\n",
       "      <td>92771.13</td>\n",
       "    </tr>\n",
       "    <tr>\n",
       "      <th>std</th>\n",
       "      <td>102681.30</td>\n",
       "    </tr>\n",
       "    <tr>\n",
       "      <th>min</th>\n",
       "      <td>10137.00</td>\n",
       "    </tr>\n",
       "    <tr>\n",
       "      <th>25%</th>\n",
       "      <td>28395.00</td>\n",
       "    </tr>\n",
       "    <tr>\n",
       "      <th>50%</th>\n",
       "      <td>52148.00</td>\n",
       "    </tr>\n",
       "    <tr>\n",
       "      <th>75%</th>\n",
       "      <td>117153.25</td>\n",
       "    </tr>\n",
       "    <tr>\n",
       "      <th>max</th>\n",
       "      <td>1689895.00</td>\n",
       "    </tr>\n",
       "  </tbody>\n",
       "</table>\n",
       "</div>"
      ],
      "text/plain": [
       "        MinPrice\n",
       "count   34764.00\n",
       "mean    92771.13\n",
       "std    102681.30\n",
       "min     10137.00\n",
       "25%     28395.00\n",
       "50%     52148.00\n",
       "75%    117153.25\n",
       "max   1689895.00"
      ]
     },
     "execution_count": 20,
     "metadata": {},
     "output_type": "execute_result"
    }
   ],
   "source": [
    "# let's see our only numerical column's descriptive stats (will add two more numeric cols later via enrichment)\n",
    "data.describe()"
   ]
  },
  {
   "cell_type": "code",
   "execution_count": 21,
   "metadata": {},
   "outputs": [
    {
     "data": {
      "text/html": [
       "<div>\n",
       "<style scoped>\n",
       "    .dataframe tbody tr th:only-of-type {\n",
       "        vertical-align: middle;\n",
       "    }\n",
       "\n",
       "    .dataframe tbody tr th {\n",
       "        vertical-align: top;\n",
       "    }\n",
       "\n",
       "    .dataframe thead th {\n",
       "        text-align: right;\n",
       "    }\n",
       "</style>\n",
       "<table border=\"1\" class=\"dataframe\">\n",
       "  <thead>\n",
       "    <tr style=\"text-align: right;\">\n",
       "      <th></th>\n",
       "      <th>CityName</th>\n",
       "      <th>CountryName</th>\n",
       "      <th>IataCode</th>\n",
       "      <th>CarrierDeparting</th>\n",
       "      <th>CarrierArriving</th>\n",
       "    </tr>\n",
       "  </thead>\n",
       "  <tbody>\n",
       "    <tr>\n",
       "      <th>count</th>\n",
       "      <td>34764</td>\n",
       "      <td>34764</td>\n",
       "      <td>34764</td>\n",
       "      <td>34764</td>\n",
       "      <td>34764</td>\n",
       "    </tr>\n",
       "    <tr>\n",
       "      <th>unique</th>\n",
       "      <td>473</td>\n",
       "      <td>176</td>\n",
       "      <td>493</td>\n",
       "      <td>81</td>\n",
       "      <td>140</td>\n",
       "    </tr>\n",
       "    <tr>\n",
       "      <th>top</th>\n",
       "      <td>Tel Aviv</td>\n",
       "      <td>Turkey</td>\n",
       "      <td>TLV</td>\n",
       "      <td>Laudamotion</td>\n",
       "      <td>Laudamotion</td>\n",
       "    </tr>\n",
       "    <tr>\n",
       "      <th>freq</th>\n",
       "      <td>903</td>\n",
       "      <td>1133</td>\n",
       "      <td>903</td>\n",
       "      <td>13637</td>\n",
       "      <td>14050</td>\n",
       "    </tr>\n",
       "  </tbody>\n",
       "</table>\n",
       "</div>"
      ],
      "text/plain": [
       "        CityName CountryName IataCode CarrierDeparting CarrierArriving\n",
       "count      34764       34764    34764            34764           34764\n",
       "unique       473         176      493               81             140\n",
       "top     Tel Aviv      Turkey      TLV      Laudamotion     Laudamotion\n",
       "freq         903        1133      903            13637           14050"
      ]
     },
     "execution_count": 21,
     "metadata": {},
     "output_type": "execute_result"
    }
   ],
   "source": [
    "# let's explore categorical variables as well\n",
    "data.describe(include = ['O'])"
   ]
  },
  {
   "cell_type": "code",
   "execution_count": 22,
   "metadata": {},
   "outputs": [
    {
     "data": {
      "text/html": [
       "<div>\n",
       "<style scoped>\n",
       "    .dataframe tbody tr th:only-of-type {\n",
       "        vertical-align: middle;\n",
       "    }\n",
       "\n",
       "    .dataframe tbody tr th {\n",
       "        vertical-align: top;\n",
       "    }\n",
       "\n",
       "    .dataframe thead tr th {\n",
       "        text-align: left;\n",
       "    }\n",
       "\n",
       "    .dataframe thead tr:last-of-type th {\n",
       "        text-align: right;\n",
       "    }\n",
       "</style>\n",
       "<table border=\"1\" class=\"dataframe\">\n",
       "  <thead>\n",
       "    <tr>\n",
       "      <th></th>\n",
       "      <th colspan=\"2\" halign=\"left\">MinPrice</th>\n",
       "    </tr>\n",
       "    <tr>\n",
       "      <th></th>\n",
       "      <th>mean</th>\n",
       "      <th>count</th>\n",
       "    </tr>\n",
       "    <tr>\n",
       "      <th>CarrierDeparting</th>\n",
       "      <th></th>\n",
       "      <th></th>\n",
       "    </tr>\n",
       "  </thead>\n",
       "  <tbody>\n",
       "    <tr>\n",
       "      <th>Laudamotion</th>\n",
       "      <td>34379.76</td>\n",
       "      <td>13637</td>\n",
       "    </tr>\n",
       "    <tr>\n",
       "      <th>Wizz Air</th>\n",
       "      <td>45476.23</td>\n",
       "      <td>3579</td>\n",
       "    </tr>\n",
       "    <tr>\n",
       "      <th>LEVEL</th>\n",
       "      <td>80851.59</td>\n",
       "      <td>2982</td>\n",
       "    </tr>\n",
       "    <tr>\n",
       "      <th>eurowings</th>\n",
       "      <td>68250.59</td>\n",
       "      <td>2522</td>\n",
       "    </tr>\n",
       "    <tr>\n",
       "      <th>Ryanair</th>\n",
       "      <td>44644.94</td>\n",
       "      <td>1781</td>\n",
       "    </tr>\n",
       "    <tr>\n",
       "      <th>Austrian Airlines</th>\n",
       "      <td>194103.39</td>\n",
       "      <td>1701</td>\n",
       "    </tr>\n",
       "    <tr>\n",
       "      <th>Emirates</th>\n",
       "      <td>221532.54</td>\n",
       "      <td>902</td>\n",
       "    </tr>\n",
       "    <tr>\n",
       "      <th>Turkish Airlines</th>\n",
       "      <td>215700.29</td>\n",
       "      <td>613</td>\n",
       "    </tr>\n",
       "    <tr>\n",
       "      <th>Lufthansa</th>\n",
       "      <td>248734.27</td>\n",
       "      <td>470</td>\n",
       "    </tr>\n",
       "    <tr>\n",
       "      <th>Vueling Airlines</th>\n",
       "      <td>108285.30</td>\n",
       "      <td>463</td>\n",
       "    </tr>\n",
       "  </tbody>\n",
       "</table>\n",
       "</div>"
      ],
      "text/plain": [
       "                   MinPrice       \n",
       "                       mean  count\n",
       "CarrierDeparting                  \n",
       "Laudamotion        34379.76  13637\n",
       "Wizz Air           45476.23   3579\n",
       "LEVEL              80851.59   2982\n",
       "eurowings          68250.59   2522\n",
       "Ryanair            44644.94   1781\n",
       "Austrian Airlines 194103.39   1701\n",
       "Emirates          221532.54    902\n",
       "Turkish Airlines  215700.29    613\n",
       "Lufthansa         248734.27    470\n",
       "Vueling Airlines  108285.30    463"
      ]
     },
     "execution_count": 22,
     "metadata": {},
     "output_type": "execute_result"
    }
   ],
   "source": [
    "# what does is mean that the top departing carrier is Laudamotion? most frequent? \n",
    "# let's check by grouping the data by carrierdeparting, and counting frequencies\n",
    "\n",
    "data[['MinPrice', 'CarrierDeparting']] \\\n",
    "    .groupby('CarrierDeparting') \\\n",
    "    .agg(['mean', 'count']) \\\n",
    "    .sort_values((\"MinPrice\", \"count\"), ascending = False) \\\n",
    "    .head(10)"
   ]
  },
  {
   "cell_type": "markdown",
   "metadata": {},
   "source": [
    "##### Seems like the dataset has been tidied, now let's look at possible NAs, duplicates"
   ]
  },
  {
   "cell_type": "code",
   "execution_count": 23,
   "metadata": {
    "collapsed": true
   },
   "outputs": [
    {
     "data": {
      "text/plain": [
       "<matplotlib.axes._subplots.AxesSubplot at 0x179c7ecaf28>"
      ]
     },
     "execution_count": 23,
     "metadata": {},
     "output_type": "execute_result"
    },
    {
     "data": {
      "image/png": "[encoded data removed]",
      "text/plain": [
       "<Figure size 1800x720 with 2 Axes>"
      ]
     },
     "metadata": {
      "needs_background": "light"
     },
     "output_type": "display_data"
    }
   ],
   "source": [
    "# missingno package offers a great visual to overview where (if any) the missing data is located\n",
    "\n",
    "missingno.matrix(data)"
   ]
  },
  {
   "cell_type": "code",
   "execution_count": 25,
   "metadata": {},
   "outputs": [
    {
     "data": {
      "text/plain": [
       "Direct                       False\n",
       "InboundLeg.DepartureDate     False\n",
       "MinPrice                     False\n",
       "OutboundLeg.DepartureDate    False\n",
       "QuoteDateTime                False\n",
       "CityName                     False\n",
       "CountryName                  False\n",
       "IataCode                     False\n",
       "CarrierDeparting             False\n",
       "CarrierArriving              False\n",
       "dtype: bool"
      ]
     },
     "execution_count": 25,
     "metadata": {},
     "output_type": "execute_result"
    }
   ],
   "source": [
    "# I can further make sure that none of the columns include NA values\n",
    "\n",
    "data.isnull().any(axis=0)"
   ]
  },
  {
   "cell_type": "markdown",
   "metadata": {},
   "source": [
    "Seems like my data has no missing values. This can change, as weather data from API or airport distance data from HTML scrape might not find a particular airport. So will re-check NAs after enrichment"
   ]
  },
  {
   "cell_type": "markdown",
   "metadata": {},
   "source": [
    "Let's check duplicates, if the same quote for the same date, locations and carriers somehow ended up in the dataset"
   ]
  },
  {
   "cell_type": "code",
   "execution_count": 26,
   "metadata": {},
   "outputs": [
    {
     "data": {
      "text/plain": [
       "(False, 0)"
      ]
     },
     "execution_count": 26,
     "metadata": {},
     "output_type": "execute_result"
    }
   ],
   "source": [
    "# if there are any True values it would return True -- False indicates there are no duplications\n",
    "# if there are any duplications, it would add them all together -- 0 indicated there are no duplications\n",
    "\n",
    "data.duplicated().any(), data.duplicated().sum()"
   ]
  },
  {
   "cell_type": "markdown",
   "metadata": {},
   "source": [
    "One more thing before saving it all: some city names contain accents - let's encode them in 'ascii' so to have regular letters"
   ]
  },
  {
   "cell_type": "code",
   "execution_count": 27,
   "metadata": {
    "scrolled": true
   },
   "outputs": [
    {
     "data": {
      "text/plain": [
       "array(['Taipei', 'Istanbul', 'Kuala Lumpur', 'Hurghada', 'Algiers',\n",
       "       'Tel Aviv', 'Cuzco', 'Wellington', 'Reykjavik', 'Thunder Bay',\n",
       "       'Cancun', 'Larnaca', 'New York', 'Melbourne', 'Marmagao', 'Malé',\n",
       "       'Tashkent', 'Gibraltar', 'Kutaisi', 'Moscow', 'Warsaw',\n",
       "       'Tunis Carthage', 'Helsinki', 'Madrid', 'Lisbon', 'Tallinn',\n",
       "       'Bucharest', 'Stockholm', 'Copenhagen', 'Tirana', 'Mahe Island',\n",
       "       'Casablanca', 'Tuzla', 'Bologna', 'Pristina', 'Chisinau',\n",
       "       'Dubrovnik', 'Luqa', 'Thessaloniki', 'Shannon', 'Amsterdam',\n",
       "       'Oslo', 'Brussels', 'Sofia', 'Zurich', 'Kyiv', 'Marseille',\n",
       "       'Birmingham', 'Stuttgart', 'Antalya', 'Denpasar', 'Beirut',\n",
       "       'Los Angeles', 'Shenyang', 'Almaty', 'Tbilisi', 'Colombo',\n",
       "       'Nowy Dwor Mazowiecki', 'Lappeenranta', 'Porto', 'Cluj-Napoca',\n",
       "       'Billund', 'Marrakech Menara', 'Nis', 'Sarajevo', 'Milan',\n",
       "       'Athens', 'Dublin', 'Riga', 'Paris', 'Bristol', 'Ulaanbaatar',\n",
       "       'Singapore', 'Manila', 'Bodrum', 'Jakarta', 'Praia', 'Cairo',\n",
       "       'Ohrid', 'New Delhi', 'Tokyo', 'Yerevan', 'Graz', 'Gothenburg',\n",
       "       'Zadar', 'Rotterdam', 'Altenrhein', 'Kherson', 'Vilnius',\n",
       "       'Liverpool', 'Prague', 'Ho Chi Minh City', 'Adana', 'Hong Kong',\n",
       "       'Kigali', 'Lima', 'Cali', 'Buenos Aires', 'Caracas', 'Quito',\n",
       "       'Santiago', 'Rio De Janeiro', 'Halifax', 'Guatemala City',\n",
       "       'Punta Cana', 'San Salvador', 'Panama City', 'Zanzibar', 'Geneva',\n",
       "       'Managua', 'Asuncion', 'Papeete', 'Montevideo', 'Izmir',\n",
       "       'St Petersburg', 'Sorvagur', 'London', 'Dortmund', 'Sharjah',\n",
       "       'Dubai', 'Beijing', 'Gdansk', 'Budapest', 'Bergen', 'Toronto',\n",
       "       'Washington', 'Podgorica', 'San Jose', 'Johannesburg', 'Tangier',\n",
       "       'Banja Luka', 'Zagreb', 'Dalaman', 'Sao Paulo', 'Chennai', 'Osaka',\n",
       "       'Bordeaux', 'Tivat', 'Coimbatore', 'Palma', 'Ljubljana', 'Bangkok',\n",
       "       'Las Vegas', 'Seoul', 'Eindhoven', 'Koh Samui', 'Klagenfurt',\n",
       "       'Dakar', 'Moroni', 'Sharm El Sheikh', 'Montreal', 'Perth',\n",
       "       'Oranjestad', 'Havana', 'Guangzhou', 'Osh', 'Montego Bay',\n",
       "       'Luxembourg', 'Faro', 'Praslin Island', 'Munster',\n",
       "       'Grand Cayman Island', 'Doha', 'Boston', 'Nassau', 'Baku',\n",
       "       'Windhoek', 'Amman', 'Auckland', 'Calgary', 'Miami', 'Aomori',\n",
       "       'Barcelona', 'Corfu', 'Boa Vista', 'Mauritius', 'Fort De France',\n",
       "       'Islamabad', 'Kilimanjaro', 'Guernsey', 'Mombasa', 'Seattle',\n",
       "       'Belgrade', 'Bourgas', 'Chicago', 'Bishkek', 'Cape Town', 'Cebu',\n",
       "       'San Juan', 'Saint Thomas', 'Antananarivo', 'Khartoum', 'Mykonos',\n",
       "       'Krabi', 'Riyadh', 'Muscat', 'Bogota', 'Sydney', 'Providenciales',\n",
       "       'Porto Alegre', 'Varna', 'Cartagena', 'Hamilton', 'Skopje',\n",
       "       'Kingston', 'Kazan', 'Saint-Denis', 'Yaounde', 'Vancouver',\n",
       "       'Pointe-a-Pitre', 'Nice', 'Recife', 'Mexico City', 'Port Of Spain',\n",
       "       'Bridgetown', 'Santa Cruz', 'Shanghai', 'Nairobi', 'Phuket Island',\n",
       "       'Dar Es Salaam', 'Monrovia', 'Ankara', 'Manado', 'Fortaleza',\n",
       "       'Tehran', 'Rome', 'Minsk', 'Erbil', 'Urumqi', 'Djerba',\n",
       "       'Ilulissat', 'Da Nang', 'Oaxaca', 'Samarkand', 'Palanga',\n",
       "       'Albuquerque', 'Niamey', 'Anchorage', 'Zaporizhia', 'Sal', 'Basel',\n",
       "       'Puerto Plata', 'Monastir', 'Innsbruck', 'Bora Bora',\n",
       "       'Philipsburg', 'Brisbane', 'Mumbai', 'Nur-Sultan', 'Faisalabad',\n",
       "       'Kulusuk Island', 'Portland', 'Novosibirsk', 'Suceava Salcea',\n",
       "       'Kosice', 'Pasto', 'Padang', 'Kuwait', 'Kalamata', 'Caticlan',\n",
       "       'Kuching', 'Dallas', 'Minneapolis', 'Cayenne', 'Paphos',\n",
       "       'Marsa Allam', 'Split', 'Port Moresby', 'Batumi', 'Edinburgh',\n",
       "       'Hanoi', 'Brasilia', 'Orlando', 'Trondheim', 'Phnom Penh',\n",
       "       'Maputo', 'Makhachkala', 'Siem Reap', 'Crete', 'Kalibo', 'Pula',\n",
       "       'Adelaide', 'Addis Ababa', 'Rijeka', 'Houston', 'Shiraz', 'Tromso',\n",
       "       'Charlotte', 'Hobart', 'Akron', 'Salzburg', 'Kathmandu',\n",
       "       'Alexandria', 'Sialkot', 'Irkutsk', 'San Francisco', 'Stavanger',\n",
       "       'Rayong', 'Honolulu', 'Durban', 'Bangui', 'Santo Domingo',\n",
       "       'Fukuoka', 'Natal', 'Evenes', 'Varadero', 'Monterrey', 'Shenzhen',\n",
       "       'Victoria Falls', 'San Diego', 'Sihanoukville', 'Lahore',\n",
       "       'Surabaya', 'Koror', 'Kinshasa', 'Abu Dhabi', 'Arusha', 'Lhasa',\n",
       "       'Suva', 'Bonaire', 'Fort Lauderdale', 'Samsun', 'Accra', 'Harare',\n",
       "       'Xining', 'Saratov', 'Nadi', 'Guayaquil', 'Petropavlovsk-Kamchats',\n",
       "       'Dalian', 'Florence', 'Galapagos Is', 'Yangon', 'Aqaba',\n",
       "       'Santander', 'Detroit', 'Umea', 'Tongatapu', 'Roatan', 'Curacao',\n",
       "       'Angeles', 'Khabarovsk Novy', 'Acapulco', 'Vientiane', 'Malaga',\n",
       "       'Chelyabinsk', 'Banjul', 'Mineralnye Vody', 'Aksu', 'Abidjan',\n",
       "       'Bandar Seri Begawan', 'Atlanta', 'Salt Lake City', 'Ekaterinburg',\n",
       "       'Surat Thani', 'Maupiti', 'Zaragoza', \"St John's\",\n",
       "       'Zante (Zakynthos)', 'Hasvik', 'San Jose Cabo', 'Luanda',\n",
       "       'Ashgabat', 'Miri', 'Redding', 'Guwahati', 'Kumasi', 'Krasnodar',\n",
       "       'Douala', 'Entebbe', 'Cleveland', 'Sapporo', 'Thiruvananthapuram',\n",
       "       'Kota Kinabalu', 'Lyon', 'Puerto Vallarta', 'Chiang Mai', 'Bodo',\n",
       "       'Kochi', 'Grozny', 'Lexington', 'Salvador', 'Guilin', 'Peshawar',\n",
       "       'Whitehorse', 'Brindisi', 'Denver', 'La Paz', 'Kolkata',\n",
       "       'Belo Horizonte', 'Ouagadougou', 'Pyongyang', 'Sao Tome Is',\n",
       "       'St Louis', 'Lusaka', 'Ostrava', 'Lagos', 'Krasnoyarsk', 'Darwin',\n",
       "       'Quetta', 'Molde Aro', 'Manchester', 'Punta Arenas', 'Khudzhand',\n",
       "       'Maracaibo', 'Lome', 'Salalah', 'Ufa', 'San Luis', 'Castries',\n",
       "       'Hyderabad', 'Samara', 'Dammam', 'Malabo', 'Nalchik', 'Gaborone',\n",
       "       'Lilongwe', 'Busan', 'Tacloban', 'Castellon de la Plana', 'Anapa',\n",
       "       'Belize City', 'Cayo Coco', 'Jeddah', 'Leknes', 'Dushanbe',\n",
       "       'Georgetown', 'Bukhara', 'Lucknow', 'Santa Clara', 'Davao',\n",
       "       'Rio Gallegos', 'Foz do Iguaçu', 'Haikou', 'Naypyidaw', 'Medan',\n",
       "       'Silao', 'Manaus', 'Ust-Kamenogorsk', 'Dhaka', 'Gorno-Altaysk',\n",
       "       'Kabul', 'Bengaluru', 'Philadelphia', 'Sanya', 'Okinawa',\n",
       "       'San Pedro Sula', 'George Town', 'Mandalay', 'Kayseri', 'Quebec',\n",
       "       'Kona', 'Ahmedabad', 'Liberia', 'Maun', 'Praya', 'Kunming',\n",
       "       'Medellin', 'Phu Quoc', 'Navegantes', 'Wenzhou', 'Jaipur',\n",
       "       'Port Au Prince', 'Nagoya', 'Luang Prabang', 'Saint John’s',\n",
       "       'Ulan-Ude', 'Labuan Bajo', 'Pemba', 'Austin', 'Kaohsiung',\n",
       "       'Abu Simbel', 'St. George'], dtype=object)"
      ]
     },
     "execution_count": 27,
     "metadata": {},
     "output_type": "execute_result"
    }
   ],
   "source": [
    "# Male is seen as Malé\n",
    "\n",
    "data['CityName'].unique()"
   ]
  },
  {
   "cell_type": "code",
   "execution_count": 28,
   "metadata": {},
   "outputs": [],
   "source": [
    "city_country = ['CityName', 'CountryName']\n",
    "data[city_country] = data[city_country].apply(lambda x: x.str.normalize('NFKD').str.encode('ascii', errors='ignore').str.decode('utf-8'))"
   ]
  },
  {
   "cell_type": "code",
   "execution_count": 36,
   "metadata": {},
   "outputs": [
    {
     "data": {
      "text/html": [
       "<div>\n",
       "<style scoped>\n",
       "    .dataframe tbody tr th:only-of-type {\n",
       "        vertical-align: middle;\n",
       "    }\n",
       "\n",
       "    .dataframe tbody tr th {\n",
       "        vertical-align: top;\n",
       "    }\n",
       "\n",
       "    .dataframe thead th {\n",
       "        text-align: right;\n",
       "    }\n",
       "</style>\n",
       "<table border=\"1\" class=\"dataframe\">\n",
       "  <thead>\n",
       "    <tr style=\"text-align: right;\">\n",
       "      <th></th>\n",
       "      <th>CityName</th>\n",
       "      <th>count</th>\n",
       "    </tr>\n",
       "  </thead>\n",
       "  <tbody>\n",
       "    <tr>\n",
       "      <th>80</th>\n",
       "      <td>Male</td>\n",
       "      <td>95</td>\n",
       "    </tr>\n",
       "  </tbody>\n",
       "</table>\n",
       "</div>"
      ],
      "text/plain": [
       "   CityName  count\n",
       "80     Male     95"
      ]
     },
     "execution_count": 36,
     "metadata": {},
     "output_type": "execute_result"
    }
   ],
   "source": [
    "cityCount = data.groupby('CityName').size().sort_values(ascending=False).reset_index().rename(columns = {0 : 'count'})\n",
    "cityCount[cityCount['CityName'] == 'Male']"
   ]
  },
  {
   "cell_type": "markdown",
   "metadata": {},
   "source": [
    "I can now save my csv, it seems to have been tidied and cleaned, it can be later enriched and analyzed / visualized"
   ]
  },
  {
   "cell_type": "code",
   "execution_count": 37,
   "metadata": {},
   "outputs": [],
   "source": [
    "data.to_csv(\"C://Users/Krisz/Desktop/ceu/materials/Coding3/Homework/sky_data.csv\", \n",
    "            index = False, \n",
    "            encoding = 'utf-8')"
   ]
  },
  {
   "cell_type": "markdown",
   "metadata": {},
   "source": [
    "Reading in the same csv, I can already pre-set rules, such as dtypes, as csvs don't store dtypes, so dates get read back as objects. For the date columns I can have pandas read them in as dates"
   ]
  },
  {
   "cell_type": "code",
   "execution_count": 3,
   "metadata": {},
   "outputs": [],
   "source": [
    "data = pd.read_csv(\"C://Users/Krisz/Desktop/ceu/materials/Coding3/Homework/sky_data.csv\",  \n",
    "            parse_dates = ['InboundLeg.DepartureDate', \n",
    "                           'OutboundLeg.DepartureDate', \n",
    "                           'QuoteDateTime'])"
   ]
  },
  {
   "cell_type": "markdown",
   "metadata": {},
   "source": [
    "### 5. Some exploration using matplotlib"
   ]
  },
  {
   "cell_type": "code",
   "execution_count": 4,
   "metadata": {},
   "outputs": [
    {
     "data": {
      "text/plain": [
       "Index(['Direct', 'InboundLeg.DepartureDate', 'MinPrice',\n",
       "       'OutboundLeg.DepartureDate', 'QuoteDateTime', 'CityName', 'CountryName',\n",
       "       'IataCode', 'CarrierDeparting', 'CarrierArriving'],\n",
       "      dtype='object')"
      ]
     },
     "execution_count": 4,
     "metadata": {},
     "output_type": "execute_result"
    }
   ],
   "source": [
    "data.columns"
   ]
  },
  {
   "cell_type": "markdown",
   "metadata": {},
   "source": [
    "Let's group by departure date, country, carrier and see the min price distribution"
   ]
  },
  {
   "cell_type": "code",
   "execution_count": 4,
   "metadata": {
    "scrolled": false
   },
   "outputs": [
    {
     "data": {
      "image/png": "[encoded data removed]",
      "text/plain": [
       "<Figure size 1080x360 with 2 Axes>"
      ]
     },
     "metadata": {
      "needs_background": "light"
     },
     "output_type": "display_data"
    }
   ],
   "source": [
    "fig, axes = plt.subplots(nrows=1, ncols=2)\n",
    "fig.suptitle('Distribution of min prices in the dataset')\n",
    "\n",
    "data['MinPrice'].plot(bins = 100,\n",
    "                      kind='hist', \n",
    "                      color = 'skyblue',\n",
    "                      lw = 0.5, \n",
    "                      ec = 'black',\n",
    "                      title = \"Long right-tailed distribution for prices in level scale\",\n",
    "                      ax=axes[0],\n",
    "                      figsize = (15,5))\n",
    "\n",
    "np.log(data['MinPrice']).plot(bins = 50,\n",
    "                              kind='hist', \n",
    "                              color = 'skyblue',\n",
    "                              lw = 0.5, \n",
    "                              ec = 'black',\n",
    "                              title = \"Even logged prices don't show normal distribution\",                        \n",
    "                              ax=axes[1])\n",
    "\n",
    "axes[0].set_xlabel(\"Prices, level scale\")\n",
    "axes[1].set_xlabel(\"Prices, log scale\")\n",
    "\n",
    "plt.show()"
   ]
  },
  {
   "cell_type": "code",
   "execution_count": 5,
   "metadata": {},
   "outputs": [
    {
     "data": {
      "text/html": [
       "<div>\n",
       "<style scoped>\n",
       "    .dataframe tbody tr th:only-of-type {\n",
       "        vertical-align: middle;\n",
       "    }\n",
       "\n",
       "    .dataframe tbody tr th {\n",
       "        vertical-align: top;\n",
       "    }\n",
       "\n",
       "    .dataframe thead th {\n",
       "        text-align: right;\n",
       "    }\n",
       "</style>\n",
       "<table border=\"1\" class=\"dataframe\">\n",
       "  <thead>\n",
       "    <tr style=\"text-align: right;\">\n",
       "      <th></th>\n",
       "      <th>Direct</th>\n",
       "      <th>InboundLeg.DepartureDate</th>\n",
       "      <th>MinPrice</th>\n",
       "      <th>OutboundLeg.DepartureDate</th>\n",
       "      <th>QuoteDateTime</th>\n",
       "      <th>CityName</th>\n",
       "      <th>CountryName</th>\n",
       "      <th>IataCode</th>\n",
       "      <th>CarrierDeparting</th>\n",
       "      <th>CarrierArriving</th>\n",
       "    </tr>\n",
       "  </thead>\n",
       "  <tbody>\n",
       "    <tr>\n",
       "      <th>20313</th>\n",
       "      <td>False</td>\n",
       "      <td>2020-08-22</td>\n",
       "      <td>1689895.0</td>\n",
       "      <td>2020-08-08</td>\n",
       "      <td>2020-01-25</td>\n",
       "      <td>Male</td>\n",
       "      <td>Maldives</td>\n",
       "      <td>MLE</td>\n",
       "      <td>Singapore Airlines</td>\n",
       "      <td>Air India</td>\n",
       "    </tr>\n",
       "    <tr>\n",
       "      <th>11409</th>\n",
       "      <td>False</td>\n",
       "      <td>2020-07-25</td>\n",
       "      <td>1498302.0</td>\n",
       "      <td>2020-07-14</td>\n",
       "      <td>2020-01-24</td>\n",
       "      <td>Auckland</td>\n",
       "      <td>New Zealand</td>\n",
       "      <td>AKL</td>\n",
       "      <td>Austrian Airlines</td>\n",
       "      <td>Air China</td>\n",
       "    </tr>\n",
       "    <tr>\n",
       "      <th>6988</th>\n",
       "      <td>False</td>\n",
       "      <td>2020-08-05</td>\n",
       "      <td>1429885.0</td>\n",
       "      <td>2020-07-27</td>\n",
       "      <td>2020-01-26</td>\n",
       "      <td>Seoul</td>\n",
       "      <td>South Korea</td>\n",
       "      <td>ICN</td>\n",
       "      <td>Singapore Airlines</td>\n",
       "      <td>Singapore Airlines</td>\n",
       "    </tr>\n",
       "    <tr>\n",
       "      <th>7725</th>\n",
       "      <td>False</td>\n",
       "      <td>2020-08-23</td>\n",
       "      <td>1427562.0</td>\n",
       "      <td>2020-08-14</td>\n",
       "      <td>2020-01-21</td>\n",
       "      <td>Hong Kong</td>\n",
       "      <td>Hong Kong</td>\n",
       "      <td>HKG</td>\n",
       "      <td>Singapore Airlines</td>\n",
       "      <td>Singapore Airlines</td>\n",
       "    </tr>\n",
       "    <tr>\n",
       "      <th>21105</th>\n",
       "      <td>False</td>\n",
       "      <td>2020-07-08</td>\n",
       "      <td>1426605.0</td>\n",
       "      <td>2020-06-23</td>\n",
       "      <td>2020-01-22</td>\n",
       "      <td>Brasilia</td>\n",
       "      <td>Brazil</td>\n",
       "      <td>BSB</td>\n",
       "      <td>Ethiopian Airlines</td>\n",
       "      <td>Ethiopian Airlines</td>\n",
       "    </tr>\n",
       "  </tbody>\n",
       "</table>\n",
       "</div>"
      ],
      "text/plain": [
       "       Direct InboundLeg.DepartureDate   MinPrice OutboundLeg.DepartureDate  \\\n",
       "20313   False               2020-08-22  1689895.0                2020-08-08   \n",
       "11409   False               2020-07-25  1498302.0                2020-07-14   \n",
       "6988    False               2020-08-05  1429885.0                2020-07-27   \n",
       "7725    False               2020-08-23  1427562.0                2020-08-14   \n",
       "21105   False               2020-07-08  1426605.0                2020-06-23   \n",
       "\n",
       "      QuoteDateTime   CityName  CountryName IataCode    CarrierDeparting  \\\n",
       "20313    2020-01-25       Male     Maldives      MLE  Singapore Airlines   \n",
       "11409    2020-01-24   Auckland  New Zealand      AKL   Austrian Airlines   \n",
       "6988     2020-01-26      Seoul  South Korea      ICN  Singapore Airlines   \n",
       "7725     2020-01-21  Hong Kong    Hong Kong      HKG  Singapore Airlines   \n",
       "21105    2020-01-22   Brasilia       Brazil      BSB  Ethiopian Airlines   \n",
       "\n",
       "          CarrierArriving  \n",
       "20313           Air India  \n",
       "11409           Air China  \n",
       "6988   Singapore Airlines  \n",
       "7725   Singapore Airlines  \n",
       "21105  Ethiopian Airlines  "
      ]
     },
     "execution_count": 5,
     "metadata": {},
     "output_type": "execute_result"
    }
   ],
   "source": [
    "# what are the most expensive flights in the data?\n",
    "data.sort_values(by=['MinPrice'], ascending=False).head(5)"
   ]
  },
  {
   "cell_type": "markdown",
   "metadata": {},
   "source": [
    "I will cut the prices off at 500,000 HUF and see the distribution then. 500,000 seems reasonable for me, as currently there's no place that would get me to pay half a million in Forints to sit on a 10 hour flight"
   ]
  },
  {
   "cell_type": "code",
   "execution_count": 6,
   "metadata": {},
   "outputs": [
    {
     "data": {
      "image/png": "[encoded data removed]",
      "text/plain": [
       "<Figure size 1080x360 with 2 Axes>"
      ]
     },
     "metadata": {
      "needs_background": "light"
     },
     "output_type": "display_data"
    }
   ],
   "source": [
    "fig, axes = plt.subplots(nrows=1, ncols=2)\n",
    "fig.suptitle('Distribution of min prices in the dataset, with prices above 500k dropped')\n",
    "\n",
    "data[data['MinPrice'] < 500000]['MinPrice'].plot(bins = 100,\n",
    "                      kind='hist', \n",
    "                      color = 'skyblue',\n",
    "                      lw = 0.5, \n",
    "                      ec = 'black',\n",
    "                      title = \"Long right-tailed distribution for prices in level scale\",\n",
    "                      ax=axes[0],\n",
    "                      figsize = (15,5))\n",
    "\n",
    "np.log(data[data['MinPrice'] < 500000]['MinPrice']).plot(bins = 50,\n",
    "                              kind='hist', \n",
    "                              color = 'skyblue',\n",
    "                              lw = 0.5, \n",
    "                              ec = 'black',\n",
    "                              title = \"Somewhat more normal looking distribution (bimodality present)\",                        \n",
    "                              ax=axes[1])\n",
    "\n",
    "axes[0].set_xlabel(\"Prices, level scale\")\n",
    "axes[1].set_xlabel(\"Prices, log scale\")\n",
    "\n",
    "plt.show()"
   ]
  },
  {
   "cell_type": "code",
   "execution_count": null,
   "metadata": {},
   "outputs": [],
   "source": []
  },
  {
   "cell_type": "markdown",
   "metadata": {},
   "source": [
    "Before seeing some price-country patterns, let me get rid of countries that have less than 50 flights going there in our dataset."
   ]
  },
  {
   "cell_type": "code",
   "execution_count": 7,
   "metadata": {},
   "outputs": [
    {
     "data": {
      "text/html": [
       "<div>\n",
       "<style scoped>\n",
       "    .dataframe tbody tr th:only-of-type {\n",
       "        vertical-align: middle;\n",
       "    }\n",
       "\n",
       "    .dataframe tbody tr th {\n",
       "        vertical-align: top;\n",
       "    }\n",
       "\n",
       "    .dataframe thead th {\n",
       "        text-align: right;\n",
       "    }\n",
       "</style>\n",
       "<table border=\"1\" class=\"dataframe\">\n",
       "  <thead>\n",
       "    <tr style=\"text-align: right;\">\n",
       "      <th></th>\n",
       "      <th>CountryName</th>\n",
       "      <th>count</th>\n",
       "    </tr>\n",
       "  </thead>\n",
       "  <tbody>\n",
       "    <tr>\n",
       "      <th>0</th>\n",
       "      <td>Afghanistan</td>\n",
       "      <td>1</td>\n",
       "    </tr>\n",
       "    <tr>\n",
       "      <th>1</th>\n",
       "      <td>French Guiana</td>\n",
       "      <td>1</td>\n",
       "    </tr>\n",
       "    <tr>\n",
       "      <th>2</th>\n",
       "      <td>Grenada</td>\n",
       "      <td>1</td>\n",
       "    </tr>\n",
       "    <tr>\n",
       "      <th>3</th>\n",
       "      <td>Guyana</td>\n",
       "      <td>1</td>\n",
       "    </tr>\n",
       "    <tr>\n",
       "      <th>4</th>\n",
       "      <td>Equatorial Guinea</td>\n",
       "      <td>1</td>\n",
       "    </tr>\n",
       "    <tr>\n",
       "      <th>5</th>\n",
       "      <td>Malawi</td>\n",
       "      <td>1</td>\n",
       "    </tr>\n",
       "    <tr>\n",
       "      <th>6</th>\n",
       "      <td>Niger</td>\n",
       "      <td>1</td>\n",
       "    </tr>\n",
       "    <tr>\n",
       "      <th>7</th>\n",
       "      <td>Central African Republic</td>\n",
       "      <td>1</td>\n",
       "    </tr>\n",
       "    <tr>\n",
       "      <th>8</th>\n",
       "      <td>Palau</td>\n",
       "      <td>1</td>\n",
       "    </tr>\n",
       "    <tr>\n",
       "      <th>9</th>\n",
       "      <td>Papua New Guinea</td>\n",
       "      <td>1</td>\n",
       "    </tr>\n",
       "  </tbody>\n",
       "</table>\n",
       "</div>"
      ],
      "text/plain": [
       "                CountryName  count\n",
       "0               Afghanistan      1\n",
       "1             French Guiana      1\n",
       "2                   Grenada      1\n",
       "3                    Guyana      1\n",
       "4         Equatorial Guinea      1\n",
       "5                    Malawi      1\n",
       "6                     Niger      1\n",
       "7  Central African Republic      1\n",
       "8                     Palau      1\n",
       "9          Papua New Guinea      1"
      ]
     },
     "execution_count": 7,
     "metadata": {},
     "output_type": "execute_result"
    }
   ],
   "source": [
    "NoFlightsToCountries = data.groupby('CountryName').size().sort_values(ascending = True).reset_index().rename(columns = {0 : 'count'})\n",
    "NoFlightsToCountries.head(10)"
   ]
  },
  {
   "cell_type": "code",
   "execution_count": 8,
   "metadata": {},
   "outputs": [],
   "source": [
    "atLeast50flights = data[data['CountryName'].isin(NoFlightsToCountries[NoFlightsToCountries['count'] > 50]['CountryName'])]"
   ]
  },
  {
   "cell_type": "code",
   "execution_count": 9,
   "metadata": {
    "scrolled": true
   },
   "outputs": [
    {
     "data": {
      "text/html": [
       "<div>\n",
       "<style scoped>\n",
       "    .dataframe tbody tr th:only-of-type {\n",
       "        vertical-align: middle;\n",
       "    }\n",
       "\n",
       "    .dataframe tbody tr th {\n",
       "        vertical-align: top;\n",
       "    }\n",
       "\n",
       "    .dataframe thead th {\n",
       "        text-align: right;\n",
       "    }\n",
       "</style>\n",
       "<table border=\"1\" class=\"dataframe\">\n",
       "  <thead>\n",
       "    <tr style=\"text-align: right;\">\n",
       "      <th></th>\n",
       "      <th>AvgMinPrice</th>\n",
       "      <th>count</th>\n",
       "    </tr>\n",
       "    <tr>\n",
       "      <th>CountryName</th>\n",
       "      <th></th>\n",
       "      <th></th>\n",
       "    </tr>\n",
       "  </thead>\n",
       "  <tbody>\n",
       "    <tr>\n",
       "      <th>Curacao</th>\n",
       "      <td>368978.0</td>\n",
       "      <td>59</td>\n",
       "    </tr>\n",
       "    <tr>\n",
       "      <th>Seychelles</th>\n",
       "      <td>258195.0</td>\n",
       "      <td>69</td>\n",
       "    </tr>\n",
       "    <tr>\n",
       "      <th>Dominican Republic</th>\n",
       "      <td>274860.5</td>\n",
       "      <td>72</td>\n",
       "    </tr>\n",
       "    <tr>\n",
       "      <th>Taiwan</th>\n",
       "      <td>237781.5</td>\n",
       "      <td>82</td>\n",
       "    </tr>\n",
       "    <tr>\n",
       "      <th>Australia</th>\n",
       "      <td>359657.0</td>\n",
       "      <td>83</td>\n",
       "    </tr>\n",
       "    <tr>\n",
       "      <th>Serbia</th>\n",
       "      <td>47323.0</td>\n",
       "      <td>84</td>\n",
       "    </tr>\n",
       "    <tr>\n",
       "      <th>Singapore</th>\n",
       "      <td>198771.0</td>\n",
       "      <td>85</td>\n",
       "    </tr>\n",
       "    <tr>\n",
       "      <th>Costa Rica</th>\n",
       "      <td>340289.0</td>\n",
       "      <td>87</td>\n",
       "    </tr>\n",
       "    <tr>\n",
       "      <th>Kenya</th>\n",
       "      <td>192232.0</td>\n",
       "      <td>87</td>\n",
       "    </tr>\n",
       "    <tr>\n",
       "      <th>Mauritius</th>\n",
       "      <td>301957.0</td>\n",
       "      <td>87</td>\n",
       "    </tr>\n",
       "  </tbody>\n",
       "</table>\n",
       "</div>"
      ],
      "text/plain": [
       "                    AvgMinPrice  count\n",
       "CountryName                           \n",
       "Curacao                368978.0     59\n",
       "Seychelles             258195.0     69\n",
       "Dominican Republic     274860.5     72\n",
       "Taiwan                 237781.5     82\n",
       "Australia              359657.0     83\n",
       "Serbia                  47323.0     84\n",
       "Singapore              198771.0     85\n",
       "Costa Rica             340289.0     87\n",
       "Kenya                  192232.0     87\n",
       "Mauritius              301957.0     87"
      ]
     },
     "execution_count": 9,
     "metadata": {},
     "output_type": "execute_result"
    }
   ],
   "source": [
    "atLeast50flights_grouped = atLeast50flights.groupby('CountryName') \\\n",
    "                                            .agg({'MinPrice' : 'median', 'CarrierDeparting' : 'count'}) \\\n",
    "                                            .rename(columns = ({'CarrierDeparting' : 'count','MinPrice' : 'AvgMinPrice'})) \\\n",
    "                                            .sort_values(by=['count'], ascending=True)\n",
    "atLeast50flights_grouped.head(10)"
   ]
  },
  {
   "cell_type": "code",
   "execution_count": 10,
   "metadata": {},
   "outputs": [
    {
     "data": {
      "image/png": "[encoded data removed]",
      "text/plain": [
       "<Figure size 1296x360 with 1 Axes>"
      ]
     },
     "metadata": {
      "needs_background": "light"
     },
     "output_type": "display_data"
    }
   ],
   "source": [
    "atLeast50flights_grouped['AvgMinPrice'] \\\n",
    ".sort_values(ascending = False) \\\n",
    ".plot(kind='bar',\n",
    "     figsize = (18,5),\n",
    "     title = 'Median minimum price per destination, with at least 50 flights going there',\n",
    "     color = 'skyblue',\n",
    "     ec = 'black')\n",
    "\n",
    "plt.xlabel('Countries')\n",
    "plt.ylabel(\"Median of minimum price detected\")\n",
    "\n",
    "plt.show()"
   ]
  },
  {
   "cell_type": "code",
   "execution_count": 11,
   "metadata": {},
   "outputs": [
    {
     "name": "stdout",
     "output_type": "stream",
     "text": [
      "There are 79 unique carriers\n"
     ]
    }
   ],
   "source": [
    "print(\"There are\", len(atLeast50flights.CarrierDeparting.unique()), \"unique carriers\")"
   ]
  },
  {
   "cell_type": "code",
   "execution_count": 12,
   "metadata": {},
   "outputs": [
    {
     "data": {
      "text/html": [
       "<div>\n",
       "<style scoped>\n",
       "    .dataframe tbody tr th:only-of-type {\n",
       "        vertical-align: middle;\n",
       "    }\n",
       "\n",
       "    .dataframe tbody tr th {\n",
       "        vertical-align: top;\n",
       "    }\n",
       "\n",
       "    .dataframe thead th {\n",
       "        text-align: right;\n",
       "    }\n",
       "</style>\n",
       "<table border=\"1\" class=\"dataframe\">\n",
       "  <thead>\n",
       "    <tr style=\"text-align: right;\">\n",
       "      <th></th>\n",
       "      <th>CarrierDeparting</th>\n",
       "      <th>count</th>\n",
       "    </tr>\n",
       "  </thead>\n",
       "  <tbody>\n",
       "    <tr>\n",
       "      <th>0</th>\n",
       "      <td>SriLankan Airlines</td>\n",
       "      <td>1</td>\n",
       "    </tr>\n",
       "    <tr>\n",
       "      <th>1</th>\n",
       "      <td>Belavia</td>\n",
       "      <td>1</td>\n",
       "    </tr>\n",
       "    <tr>\n",
       "      <th>2</th>\n",
       "      <td>China Eastern</td>\n",
       "      <td>1</td>\n",
       "    </tr>\n",
       "    <tr>\n",
       "      <th>3</th>\n",
       "      <td>LATAM Airlines Group</td>\n",
       "      <td>1</td>\n",
       "    </tr>\n",
       "    <tr>\n",
       "      <th>4</th>\n",
       "      <td>Saudia</td>\n",
       "      <td>1</td>\n",
       "    </tr>\n",
       "  </tbody>\n",
       "</table>\n",
       "</div>"
      ],
      "text/plain": [
       "       CarrierDeparting  count\n",
       "0    SriLankan Airlines      1\n",
       "1               Belavia      1\n",
       "2         China Eastern      1\n",
       "3  LATAM Airlines Group      1\n",
       "4                Saudia      1"
      ]
     },
     "execution_count": 12,
     "metadata": {},
     "output_type": "execute_result"
    }
   ],
   "source": [
    "# let's filter for those that operate more than 50 flights\n",
    "\n",
    "NoFlightsbyCarriers = atLeast50flights.groupby('CarrierDeparting') \\\n",
    "                                                .size() \\\n",
    "                                                .sort_values(ascending = True) \\\n",
    "                                                .reset_index() \\\n",
    "                                                .rename(columns = {0 : 'count'})\n",
    "NoFlightsbyCarriers.head(5)"
   ]
  },
  {
   "cell_type": "code",
   "execution_count": 13,
   "metadata": {},
   "outputs": [
    {
     "data": {
      "text/html": [
       "<div>\n",
       "<style scoped>\n",
       "    .dataframe tbody tr th:only-of-type {\n",
       "        vertical-align: middle;\n",
       "    }\n",
       "\n",
       "    .dataframe tbody tr th {\n",
       "        vertical-align: top;\n",
       "    }\n",
       "\n",
       "    .dataframe thead th {\n",
       "        text-align: right;\n",
       "    }\n",
       "</style>\n",
       "<table border=\"1\" class=\"dataframe\">\n",
       "  <thead>\n",
       "    <tr style=\"text-align: right;\">\n",
       "      <th></th>\n",
       "      <th>Direct</th>\n",
       "      <th>InboundLeg.DepartureDate</th>\n",
       "      <th>MinPrice</th>\n",
       "      <th>OutboundLeg.DepartureDate</th>\n",
       "      <th>QuoteDateTime</th>\n",
       "      <th>CityName</th>\n",
       "      <th>CountryName</th>\n",
       "      <th>IataCode</th>\n",
       "      <th>CarrierDeparting</th>\n",
       "      <th>CarrierArriving</th>\n",
       "    </tr>\n",
       "  </thead>\n",
       "  <tbody>\n",
       "    <tr>\n",
       "      <th>0</th>\n",
       "      <td>False</td>\n",
       "      <td>2020-06-27</td>\n",
       "      <td>197625.0</td>\n",
       "      <td>2020-06-20</td>\n",
       "      <td>2020-01-27</td>\n",
       "      <td>Taipei</td>\n",
       "      <td>Taiwan</td>\n",
       "      <td>TPE</td>\n",
       "      <td>Qatar Airways</td>\n",
       "      <td>Cathay Pacific</td>\n",
       "    </tr>\n",
       "    <tr>\n",
       "      <th>1</th>\n",
       "      <td>True</td>\n",
       "      <td>2020-06-27</td>\n",
       "      <td>44476.0</td>\n",
       "      <td>2020-06-20</td>\n",
       "      <td>2020-01-21</td>\n",
       "      <td>Istanbul</td>\n",
       "      <td>Turkey</td>\n",
       "      <td>SAW</td>\n",
       "      <td>Pegasus Airlines</td>\n",
       "      <td>Pegasus Airlines</td>\n",
       "    </tr>\n",
       "    <tr>\n",
       "      <th>3</th>\n",
       "      <td>True</td>\n",
       "      <td>2020-06-27</td>\n",
       "      <td>180885.0</td>\n",
       "      <td>2020-06-20</td>\n",
       "      <td>2020-01-27</td>\n",
       "      <td>Hurghada</td>\n",
       "      <td>Egypt</td>\n",
       "      <td>HRG</td>\n",
       "      <td>Corendon Airlines Europe</td>\n",
       "      <td>Corendon Airlines Europe</td>\n",
       "    </tr>\n",
       "    <tr>\n",
       "      <th>4</th>\n",
       "      <td>False</td>\n",
       "      <td>2020-06-27</td>\n",
       "      <td>118824.0</td>\n",
       "      <td>2020-06-20</td>\n",
       "      <td>2020-01-27</td>\n",
       "      <td>Hurghada</td>\n",
       "      <td>Egypt</td>\n",
       "      <td>HRG</td>\n",
       "      <td>Turkish Airlines</td>\n",
       "      <td>Turkish Airlines</td>\n",
       "    </tr>\n",
       "    <tr>\n",
       "      <th>5</th>\n",
       "      <td>False</td>\n",
       "      <td>2020-06-27</td>\n",
       "      <td>74710.0</td>\n",
       "      <td>2020-06-20</td>\n",
       "      <td>2020-01-23</td>\n",
       "      <td>Algiers</td>\n",
       "      <td>Algeria</td>\n",
       "      <td>ALG</td>\n",
       "      <td>Vueling Airlines</td>\n",
       "      <td>Vueling Airlines</td>\n",
       "    </tr>\n",
       "  </tbody>\n",
       "</table>\n",
       "</div>"
      ],
      "text/plain": [
       "   Direct InboundLeg.DepartureDate  MinPrice OutboundLeg.DepartureDate  \\\n",
       "0   False               2020-06-27  197625.0                2020-06-20   \n",
       "1    True               2020-06-27   44476.0                2020-06-20   \n",
       "3    True               2020-06-27  180885.0                2020-06-20   \n",
       "4   False               2020-06-27  118824.0                2020-06-20   \n",
       "5   False               2020-06-27   74710.0                2020-06-20   \n",
       "\n",
       "  QuoteDateTime  CityName CountryName IataCode          CarrierDeparting  \\\n",
       "0    2020-01-27    Taipei      Taiwan      TPE             Qatar Airways   \n",
       "1    2020-01-21  Istanbul      Turkey      SAW          Pegasus Airlines   \n",
       "3    2020-01-27  Hurghada       Egypt      HRG  Corendon Airlines Europe   \n",
       "4    2020-01-27  Hurghada       Egypt      HRG          Turkish Airlines   \n",
       "5    2020-01-23   Algiers     Algeria      ALG          Vueling Airlines   \n",
       "\n",
       "            CarrierArriving  \n",
       "0            Cathay Pacific  \n",
       "1          Pegasus Airlines  \n",
       "3  Corendon Airlines Europe  \n",
       "4          Turkish Airlines  \n",
       "5          Vueling Airlines  "
      ]
     },
     "execution_count": 13,
     "metadata": {},
     "output_type": "execute_result"
    }
   ],
   "source": [
    "atLeast50carriers = atLeast50flights[atLeast50flights['CarrierDeparting'].isin(NoFlightsbyCarriers[NoFlightsbyCarriers['count'] > 50]['CarrierDeparting'])]\n",
    "atLeast50carriers.head()"
   ]
  },
  {
   "cell_type": "code",
   "execution_count": 14,
   "metadata": {},
   "outputs": [
    {
     "data": {
      "text/html": [
       "<div>\n",
       "<style scoped>\n",
       "    .dataframe tbody tr th:only-of-type {\n",
       "        vertical-align: middle;\n",
       "    }\n",
       "\n",
       "    .dataframe tbody tr th {\n",
       "        vertical-align: top;\n",
       "    }\n",
       "\n",
       "    .dataframe thead th {\n",
       "        text-align: right;\n",
       "    }\n",
       "</style>\n",
       "<table border=\"1\" class=\"dataframe\">\n",
       "  <thead>\n",
       "    <tr style=\"text-align: right;\">\n",
       "      <th></th>\n",
       "      <th>AvgMinPrice</th>\n",
       "      <th>count</th>\n",
       "    </tr>\n",
       "    <tr>\n",
       "      <th>CarrierDeparting</th>\n",
       "      <th></th>\n",
       "      <th></th>\n",
       "    </tr>\n",
       "  </thead>\n",
       "  <tbody>\n",
       "    <tr>\n",
       "      <th>Corendon Airlines Europe</th>\n",
       "      <td>150631.0</td>\n",
       "      <td>57</td>\n",
       "    </tr>\n",
       "    <tr>\n",
       "      <th>Air China</th>\n",
       "      <td>231109.0</td>\n",
       "      <td>58</td>\n",
       "    </tr>\n",
       "    <tr>\n",
       "      <th>EgyptAir</th>\n",
       "      <td>163323.5</td>\n",
       "      <td>58</td>\n",
       "    </tr>\n",
       "    <tr>\n",
       "      <th>Aegean Airlines</th>\n",
       "      <td>96022.0</td>\n",
       "      <td>59</td>\n",
       "    </tr>\n",
       "    <tr>\n",
       "      <th>Ethiopian Airlines</th>\n",
       "      <td>273728.0</td>\n",
       "      <td>61</td>\n",
       "    </tr>\n",
       "  </tbody>\n",
       "</table>\n",
       "</div>"
      ],
      "text/plain": [
       "                          AvgMinPrice  count\n",
       "CarrierDeparting                            \n",
       "Corendon Airlines Europe     150631.0     57\n",
       "Air China                    231109.0     58\n",
       "EgyptAir                     163323.5     58\n",
       "Aegean Airlines               96022.0     59\n",
       "Ethiopian Airlines           273728.0     61"
      ]
     },
     "execution_count": 14,
     "metadata": {},
     "output_type": "execute_result"
    }
   ],
   "source": [
    "atLeast50carriers_grouped = atLeast50carriers.groupby('CarrierDeparting') \\\n",
    "                                                .agg({'MinPrice' : 'median', 'CarrierDeparting' : 'count'}) \\\n",
    "                                                .rename(columns = ({'CarrierDeparting' : 'count','MinPrice' : 'AvgMinPrice'})) \\\n",
    "                                                .sort_values(by=['count'], ascending=True)\n",
    "atLeast50carriers_grouped.head(5)"
   ]
  },
  {
   "cell_type": "code",
   "execution_count": 16,
   "metadata": {},
   "outputs": [
    {
     "data": {
      "image/png": "[encoded data removed]",
      "text/plain": [
       "<Figure size 1296x360 with 1 Axes>"
      ]
     },
     "metadata": {
      "needs_background": "light"
     },
     "output_type": "display_data"
    }
   ],
   "source": [
    "atLeast50carriers_grouped['AvgMinPrice'] \\\n",
    ".sort_values(ascending = False) \\\n",
    ".plot(kind='bar',\n",
    "     figsize = (18,5),\n",
    "     title = 'Median minimum price per carrier, with at least 50 flights operated',\n",
    "     color = 'skyblue',\n",
    "     ec = 'black')\n",
    "\n",
    "plt.axhline(atLeast50carriers_grouped[atLeast50carriers_grouped.index != \"Condor\"]['AvgMinPrice'].mean(), color='g', linestyle='--')\n",
    "\n",
    "plt.xlabel('Carriers')\n",
    "plt.ylabel(\"Median of minimum price detected\")\n",
    "\n",
    "labels = [\"Mean across all carriers\"]\n",
    "plt.legend(labels = labels)\n",
    "\n",
    "plt.show()"
   ]
  },
  {
   "cell_type": "markdown",
   "metadata": {},
   "source": [
    "Before finishing up with the visual exploration of my scraped data, let me draw up some boxplots to illustrate the ranges of prices across carriers"
   ]
  },
  {
   "cell_type": "code",
   "execution_count": 17,
   "metadata": {},
   "outputs": [
    {
     "data": {
      "image/png": "[encoded data removed]",
      "text/plain": [
       "<Figure size 1296x360 with 1 Axes>"
      ]
     },
     "metadata": {
      "needs_background": "light"
     },
     "output_type": "display_data"
    }
   ],
   "source": [
    "for_boxplots = pd.melt(atLeast50carriers, id_vars = ['CarrierDeparting'], value_vars = ['MinPrice'])\n",
    "\n",
    "plt.figure(figsize=(18, 5))\n",
    "bp = sns.boxplot(x = 'CarrierDeparting', \n",
    "                 y = 'value', \n",
    "                 data = for_boxplots, \n",
    "                 width = 0.75, \n",
    "                 fliersize = 2, \n",
    "                 linewidth = 1, \n",
    "                 notch = True, \n",
    "                 order = for_boxplots.groupby(\"CarrierDeparting\")[\"value\"].median().sort_values()[::-1].index)\n",
    "\n",
    "bp.set(xlabel='Carriers', ylabel='Ranges of min prices')\n",
    "bp.set_xticklabels(bp.get_xticklabels(), rotation = 90)\n",
    "bp.set_title('Ranges of min prices by carriers, cut off above 500,000 HUF')\n",
    "bp.set(ylim=(0, 500000))\n",
    "\n",
    "ccy = ticker.FormatStrFormatter('HUF %1.0f')\n",
    "bp.yaxis.set_major_formatter(ccy)\n",
    "\n",
    "#sns.stripplot(x = 'CarrierDeparting', \n",
    "#              y = 'value', \n",
    "#              data = for_boxplots,\n",
    "#              jitter = True, \n",
    "#              size = 1, \n",
    "#              edgecolor = 'gray')\n",
    "\n",
    "plt.show()"
   ]
  },
  {
   "cell_type": "code",
   "execution_count": 21,
   "metadata": {},
   "outputs": [
    {
     "name": "stdout",
     "output_type": "stream",
     "text": [
      "Started off with all data, then filtered for at least 50 flights going to the given country, \n",
      "then filtered for having all carriers operate at leasth 50 flights. \n",
      "Here's how the dimensions changed over these filterings\n",
      "\n",
      "Original:\t\t\t\t\t\t (34764, 10)\n",
      "Original + At least 50 flights to a country:\t\t (33662, 10)\n",
      "Previous + At least 50 flights operated by carrier:\t (33220, 10)\n"
     ]
    }
   ],
   "source": [
    "print(\"Started off with all data, then filtered for at least 50 flights going to the given country, \\nthen filtered for having all carriers operate at leasth 50 flights. \\nHere's how the dimensions changed over these filterings\\n\")\n",
    "print(\"Original:\\t\\t\\t\\t\\t\\t\",data.shape)\n",
    "print(\"Original + At least 50 flights to a country:\\t\\t\",atLeast50flights.shape)\n",
    "print(\"Previous + At least 50 flights operated by carrier:\\t\",atLeast50carriers.shape)"
   ]
  },
  {
   "cell_type": "markdown",
   "metadata": {},
   "source": [
    "I can save my lastly filtered data and work with that for further enhancements"
   ]
  },
  {
   "cell_type": "code",
   "execution_count": 22,
   "metadata": {},
   "outputs": [],
   "source": [
    "atLeast50carriers.to_csv(\"C://Users/Krisz/Desktop/ceu/materials/Coding3/Homework/sky_data_filtered.csv\", \n",
    "                            index = False, \n",
    "                            encoding = 'utf-8')"
   ]
  },
  {
   "cell_type": "markdown",
   "metadata": {},
   "source": [
    "### 6. Enhancement of data thru web scraping"
   ]
  },
  {
   "cell_type": "code",
   "execution_count": 5,
   "metadata": {},
   "outputs": [],
   "source": [
    "df = pd.read_csv(\"C://Users/Krisz/Desktop/ceu/materials/Coding3/Homework/sky_data_filtered.csv\",  \n",
    "                parse_dates = ['InboundLeg.DepartureDate', \n",
    "                               'OutboundLeg.DepartureDate', \n",
    "                               'QuoteDateTime'])"
   ]
  },
  {
   "cell_type": "code",
   "execution_count": 6,
   "metadata": {},
   "outputs": [
    {
     "data": {
      "text/plain": [
       "Direct                                 bool\n",
       "InboundLeg.DepartureDate     datetime64[ns]\n",
       "MinPrice                            float64\n",
       "OutboundLeg.DepartureDate    datetime64[ns]\n",
       "QuoteDateTime                datetime64[ns]\n",
       "CityName                             object\n",
       "CountryName                          object\n",
       "IataCode                             object\n",
       "CarrierDeparting                     object\n",
       "CarrierArriving                      object\n",
       "dtype: object"
      ]
     },
     "execution_count": 6,
     "metadata": {},
     "output_type": "execute_result"
    }
   ],
   "source": [
    "df.dtypes"
   ]
  },
  {
   "cell_type": "markdown",
   "metadata": {},
   "source": [
    "##### Here come the API call for weather data and web-scraping for airport-to-airport distances, on which I can run a basic ML model"
   ]
  },
  {
   "cell_type": "markdown",
   "metadata": {},
   "source": [
    "Let's extract my unique airport codes (IATA). I'll use them to get their distances from Vienna, using the lambda function. After that, I'll join the df containing the IATA-distance pairs to my dataset to create a new colum named `dist_to_Vienna` that will show those value."
   ]
  },
  {
   "cell_type": "code",
   "execution_count": 48,
   "metadata": {},
   "outputs": [
    {
     "data": {
      "text/html": [
       "<div>\n",
       "<style scoped>\n",
       "    .dataframe tbody tr th:only-of-type {\n",
       "        vertical-align: middle;\n",
       "    }\n",
       "\n",
       "    .dataframe tbody tr th {\n",
       "        vertical-align: top;\n",
       "    }\n",
       "\n",
       "    .dataframe thead th {\n",
       "        text-align: right;\n",
       "    }\n",
       "</style>\n",
       "<table border=\"1\" class=\"dataframe\">\n",
       "  <thead>\n",
       "    <tr style=\"text-align: right;\">\n",
       "      <th></th>\n",
       "      <th>IataCode</th>\n",
       "    </tr>\n",
       "  </thead>\n",
       "  <tbody>\n",
       "    <tr>\n",
       "      <th>0</th>\n",
       "      <td>TPE</td>\n",
       "    </tr>\n",
       "    <tr>\n",
       "      <th>1</th>\n",
       "      <td>SAW</td>\n",
       "    </tr>\n",
       "    <tr>\n",
       "      <th>2</th>\n",
       "      <td>HRG</td>\n",
       "    </tr>\n",
       "    <tr>\n",
       "      <th>3</th>\n",
       "      <td>ALG</td>\n",
       "    </tr>\n",
       "    <tr>\n",
       "      <th>4</th>\n",
       "      <td>TLV</td>\n",
       "    </tr>\n",
       "  </tbody>\n",
       "</table>\n",
       "</div>"
      ],
      "text/plain": [
       "  IataCode\n",
       "0      TPE\n",
       "1      SAW\n",
       "2      HRG\n",
       "3      ALG\n",
       "4      TLV"
      ]
     },
     "execution_count": 48,
     "metadata": {},
     "output_type": "execute_result"
    }
   ],
   "source": [
    "to_scrape_to = pd.DataFrame(df['IataCode'].unique().tolist(), columns = [\"IataCode\"])\n",
    "to_scrape_to.head()"
   ]
  },
  {
   "cell_type": "markdown",
   "metadata": {},
   "source": [
    "I'll write a funtion that will scrape the distances by IATA code to Vienna airport:"
   ]
  },
  {
   "cell_type": "code",
   "execution_count": 41,
   "metadata": {},
   "outputs": [],
   "source": [
    "def get_distance_from_vie(iata):\n",
    "    \n",
    "    # url used\n",
    "    url = \"https://www.prokerala.com/travel/airports/distance/from-vie/to-\"+iata.lower()+\"/\"\n",
    "    \n",
    "    # set agent to avoid blocks\n",
    "    user_agent = \"Mozilla/5.0 (Windows NT 10.0; Win64; x64) AppleWebKit/537.36 (KHTML, like Gecko) Chrome/79.0.3945.117 Safari/537.36\"\n",
    "    \n",
    "    # parse the HTML\n",
    "    request = ur.Request(url,headers={'User-Agent': user_agent})\n",
    "    \n",
    "    # if URL is not found, avoid error\n",
    "    try:\n",
    "        html = ur.urlopen(request).read()\n",
    "\n",
    "        soup = BeautifulSoup(html,'html.parser')\n",
    "\n",
    "        # extract km number from HTML node containing needed information\n",
    "        # need to keep the number in km\n",
    "        to_keep = re.compile(\"\\/([^:]+)km\")\n",
    "\n",
    "        # finding the needed match\n",
    "        found_match = to_keep.findall(soup.find(\"h2\").text)\n",
    "\n",
    "        # result in list format, convert to string and clear whitespace\n",
    "        match_to_string = \" \".join(found_match)\n",
    "        match_ws_removed = match_to_string.strip()\n",
    "\n",
    "        # longer, hard to read version\n",
    "        # match_ws_removed = \" \".join(re.compile(\"\\/([^:]+)km\").findall(soup.find(\"h2\").text)).strip()\n",
    "\n",
    "        # convert to float (kms)\n",
    "        distance_in_km = float(match_ws_removed)\n",
    "        \n",
    "    except HTTPError as err:\n",
    "           if err.code == 404:\n",
    "                distance_in_km = float('NaN')\n",
    "           else:\n",
    "                distance_in_km = \"not_404_error_check_IATA\"              \n",
    "        \n",
    "    return distance_in_km"
   ]
  },
  {
   "cell_type": "code",
   "execution_count": 42,
   "metadata": {},
   "outputs": [
    {
     "data": {
      "text/plain": [
       "6806.94"
      ]
     },
     "execution_count": 42,
     "metadata": {},
     "output_type": "execute_result"
    }
   ],
   "source": [
    "# let's check it: distance of JFK to VIE in kms\n",
    "get_distance_from_vie(\"JFK\")"
   ]
  },
  {
   "cell_type": "code",
   "execution_count": 43,
   "metadata": {},
   "outputs": [
    {
     "data": {
      "text/plain": [
       "nan"
      ]
     },
     "execution_count": 43,
     "metadata": {},
     "output_type": "execute_result"
    }
   ],
   "source": [
    "# let's check if it can catch an error\n",
    "get_distance_from_vie(\"NONEXISTENTAIRPORTCOE\")"
   ]
  },
  {
   "cell_type": "markdown",
   "metadata": {},
   "source": [
    "Let's fill the second column of my to_scrape_to df with the distance values"
   ]
  },
  {
   "cell_type": "code",
   "execution_count": 49,
   "metadata": {},
   "outputs": [
    {
     "data": {
      "text/html": [
       "<div>\n",
       "<style scoped>\n",
       "    .dataframe tbody tr th:only-of-type {\n",
       "        vertical-align: middle;\n",
       "    }\n",
       "\n",
       "    .dataframe tbody tr th {\n",
       "        vertical-align: top;\n",
       "    }\n",
       "\n",
       "    .dataframe thead th {\n",
       "        text-align: right;\n",
       "    }\n",
       "</style>\n",
       "<table border=\"1\" class=\"dataframe\">\n",
       "  <thead>\n",
       "    <tr style=\"text-align: right;\">\n",
       "      <th></th>\n",
       "      <th>IataCode</th>\n",
       "      <th>dist_to_Vienna</th>\n",
       "    </tr>\n",
       "  </thead>\n",
       "  <tbody>\n",
       "    <tr>\n",
       "      <th>0</th>\n",
       "      <td>TPE</td>\n",
       "      <td>8971.74</td>\n",
       "    </tr>\n",
       "    <tr>\n",
       "      <th>1</th>\n",
       "      <td>SAW</td>\n",
       "      <td>1287.53</td>\n",
       "    </tr>\n",
       "    <tr>\n",
       "      <th>2</th>\n",
       "      <td>HRG</td>\n",
       "      <td>2764.82</td>\n",
       "    </tr>\n",
       "    <tr>\n",
       "      <th>3</th>\n",
       "      <td>ALG</td>\n",
       "      <td>1671.99</td>\n",
       "    </tr>\n",
       "    <tr>\n",
       "      <th>4</th>\n",
       "      <td>TLV</td>\n",
       "      <td>2361.99</td>\n",
       "    </tr>\n",
       "  </tbody>\n",
       "</table>\n",
       "</div>"
      ],
      "text/plain": [
       "  IataCode  dist_to_Vienna\n",
       "0      TPE         8971.74\n",
       "1      SAW         1287.53\n",
       "2      HRG         2764.82\n",
       "3      ALG         1671.99\n",
       "4      TLV         2361.99"
      ]
     },
     "execution_count": 49,
     "metadata": {},
     "output_type": "execute_result"
    }
   ],
   "source": [
    "to_scrape_to['dist_to_Vienna'] = to_scrape_to.apply(lambda x: get_distance_from_vie(x['IataCode']), axis = 1)\n",
    "to_scrape_to.head()"
   ]
  },
  {
   "cell_type": "markdown",
   "metadata": {},
   "source": [
    "Let's check if there were any IATA codes that the scraper did not find matched for on the website"
   ]
  },
  {
   "cell_type": "code",
   "execution_count": 50,
   "metadata": {},
   "outputs": [
    {
     "data": {
      "text/html": [
       "<div>\n",
       "<style scoped>\n",
       "    .dataframe tbody tr th:only-of-type {\n",
       "        vertical-align: middle;\n",
       "    }\n",
       "\n",
       "    .dataframe tbody tr th {\n",
       "        vertical-align: top;\n",
       "    }\n",
       "\n",
       "    .dataframe thead th {\n",
       "        text-align: right;\n",
       "    }\n",
       "</style>\n",
       "<table border=\"1\" class=\"dataframe\">\n",
       "  <thead>\n",
       "    <tr style=\"text-align: right;\">\n",
       "      <th></th>\n",
       "      <th>IataCode</th>\n",
       "      <th>dist_to_Vienna</th>\n",
       "    </tr>\n",
       "  </thead>\n",
       "  <tbody>\n",
       "    <tr>\n",
       "      <th>51</th>\n",
       "      <td>WMI</td>\n",
       "      <td>NaN</td>\n",
       "    </tr>\n",
       "    <tr>\n",
       "      <th>238</th>\n",
       "      <td>GSV</td>\n",
       "      <td>NaN</td>\n",
       "    </tr>\n",
       "    <tr>\n",
       "      <th>299</th>\n",
       "      <td>CDT</td>\n",
       "      <td>NaN</td>\n",
       "    </tr>\n",
       "    <tr>\n",
       "      <th>313</th>\n",
       "      <td>RGK</td>\n",
       "      <td>NaN</td>\n",
       "    </tr>\n",
       "    <tr>\n",
       "      <th>325</th>\n",
       "      <td>LOP</td>\n",
       "      <td>NaN</td>\n",
       "    </tr>\n",
       "  </tbody>\n",
       "</table>\n",
       "</div>"
      ],
      "text/plain": [
       "    IataCode  dist_to_Vienna\n",
       "51       WMI             NaN\n",
       "238      GSV             NaN\n",
       "299      CDT             NaN\n",
       "313      RGK             NaN\n",
       "325      LOP             NaN"
      ]
     },
     "execution_count": 50,
     "metadata": {},
     "output_type": "execute_result"
    }
   ],
   "source": [
    "to_scrape_to[pd.isnull(to_scrape_to).any(axis=1)]"
   ]
  },
  {
   "cell_type": "markdown",
   "metadata": {},
   "source": [
    "There are 5 airports of which we do not know the distances from Vienna. "
   ]
  },
  {
   "cell_type": "markdown",
   "metadata": {},
   "source": [
    "Before merging, I'll create a dictionary (as the homework asks me to do so):\n",
    "\n",
    "keys: iatacodes\n",
    "\n",
    "values: distances from Vienna"
   ]
  },
  {
   "cell_type": "code",
   "execution_count": 106,
   "metadata": {},
   "outputs": [],
   "source": [
    "iata_dist_dict = dict(zip(to_scrape_to['IataCode'], to_scrape_to['dist_to_Vienna']))"
   ]
  },
  {
   "cell_type": "code",
   "execution_count": 107,
   "metadata": {},
   "outputs": [
    {
     "data": {
      "text/plain": [
       "{'TPE': 8971.74,\n",
       " 'SAW': 1287.53,\n",
       " 'HRG': 2764.82,\n",
       " 'ALG': 1671.99,\n",
       " 'TLV': 2361.99,\n",
       " 'CUZ': 11016.84,\n",
       " 'YQT': 7142.86,\n",
       " 'LCA': 2036.77,\n",
       " 'JFK': 6806.94,\n",
       " 'MEL': 15736.61,\n",
       " 'GOI': 6333.27,\n",
       " 'MLE': 7266.15,\n",
       " 'KUT': 2126.06,\n",
       " 'SVO': 1664.03,\n",
       " 'DME': 1669.59,\n",
       " 'WAW': 549.79,\n",
       " 'TUN': 1354.74,\n",
       " 'HEL': 1461.28,\n",
       " 'MAD': 1806.27,\n",
       " 'LIS': 2305.15,\n",
       " 'TLL': 1367.55,\n",
       " 'OTP': 829.4,\n",
       " 'NYO': 1188.14,\n",
       " 'CPH': 878.83,\n",
       " 'TIA': 784.48,\n",
       " 'SEZ': 6986.83,\n",
       " 'CMN': 2594.18,\n",
       " 'TZL': 438.15,\n",
       " 'BLQ': 566.83,\n",
       " 'PRN': 707.4,\n",
       " 'KIV': 937.33,\n",
       " 'DBV': 630.69,\n",
       " 'MLA': 1373.41,\n",
       " 'SKG': 984.99,\n",
       " 'AMS': 959.16,\n",
       " 'OSL': 1389.93,\n",
       " 'CRL': 915.58,\n",
       " 'SOF': 804.52,\n",
       " 'ZRH': 602.08,\n",
       " 'KBP': 1068.83,\n",
       " 'MRS': 1020.65,\n",
       " 'BHX': 1383.87,\n",
       " 'STR': 547.87,\n",
       " 'AYT': 1700.79,\n",
       " 'DPS': 11371.95,\n",
       " 'KEF': 2933.24,\n",
       " 'BEY': 2235.53,\n",
       " 'LAX': 9857.08,\n",
       " 'SHE': 7736.47,\n",
       " 'TBS': 2333.8,\n",
       " 'CMB': 7453.95,\n",
       " 'WMI': nan,\n",
       " 'LPP': 1616.44,\n",
       " 'OPO': 2125.36,\n",
       " 'CLJ': 555.64,\n",
       " 'BLL': 988.75,\n",
       " 'RAK': 2766.89,\n",
       " 'INI': 670.44,\n",
       " 'SJJ': 495.22,\n",
       " 'BGY': 587.43,\n",
       " 'ATH': 1279.22,\n",
       " 'DUB': 1702.81,\n",
       " 'TRF': 1299.43,\n",
       " 'RIX': 1100.45,\n",
       " 'BVA': 1067.77,\n",
       " 'BRS': 1428.41,\n",
       " 'SIN': 9707.28,\n",
       " 'MNL': 9850.42,\n",
       " 'BJV': 1507.31,\n",
       " 'CGK': 10524.65,\n",
       " 'CAI': 2367.31,\n",
       " 'OHD': 837.88,\n",
       " 'DEL': 5548.27,\n",
       " 'HND': 9147.17,\n",
       " 'EVN': 2375.77,\n",
       " 'GOT': 1100.87,\n",
       " 'ZAD': 455.35,\n",
       " 'ACH': 527.97,\n",
       " 'KHE': 1241.73,\n",
       " 'VNO': 944.89,\n",
       " 'LPL': 1480.01,\n",
       " 'PRG': 278.51,\n",
       " 'SGN': 9124.0,\n",
       " 'ADA': 1961.72,\n",
       " 'GIG': 9877.11,\n",
       " 'CUN': 9229.4,\n",
       " 'LGA': 6803.15,\n",
       " 'EWR': 6829.06,\n",
       " 'MXP': 656.07,\n",
       " 'BRU': 924.93,\n",
       " 'GVA': 816.78,\n",
       " 'ADB': 1386.37,\n",
       " 'LED': 1573.45,\n",
       " 'IEV': 1038.5,\n",
       " 'STN': 1236.01,\n",
       " 'DTM': 745.32,\n",
       " 'SHJ': 4228.65,\n",
       " 'DXB': 4224.49,\n",
       " 'PEK': 7456.0,\n",
       " 'GDN': 710.2,\n",
       " 'BUD': 213.91,\n",
       " 'BGO': 1538.52,\n",
       " 'YYZ': 6948.96,\n",
       " 'IAD': 7166.23,\n",
       " 'TGD': 672.67,\n",
       " 'NRT': 9157.87,\n",
       " 'SJO': 9970.7,\n",
       " 'JNB': 8339.07,\n",
       " 'TNG': 2300.07,\n",
       " 'BNX': 356.2,\n",
       " 'ZAG': 266.45,\n",
       " 'DLM': 1612.69,\n",
       " 'GRU': 10126.21,\n",
       " 'MAA': 6989.41,\n",
       " 'SNN': 1866.81,\n",
       " 'BOD': 1368.61,\n",
       " 'TIV': 656.19,\n",
       " 'CJB': 6925.88,\n",
       " 'PMI': 1457.88,\n",
       " 'BKK': 8453.75,\n",
       " 'LAS': 9504.55,\n",
       " 'ICN': 8253.5,\n",
       " 'VKO': 1641.23,\n",
       " 'EIN': 883.92,\n",
       " 'USM': 8740.46,\n",
       " 'SSH': 2715.09,\n",
       " 'LIM': 11273.84,\n",
       " 'YUL': 6465.9,\n",
       " 'HAV': 8760.77,\n",
       " 'CAN': 8573.38,\n",
       " 'FAO': 2342.7,\n",
       " 'PRI': 6960.98,\n",
       " 'FMO': 774.98,\n",
       " 'BOS': 6506.98,\n",
       " 'PUJ': 8115.5,\n",
       " 'WDH': 7852.32,\n",
       " 'YYC': 8022.17,\n",
       " 'MIA': 8384.9,\n",
       " 'BCN': 1369.26,\n",
       " 'CFU': 982.68,\n",
       " 'MRU': 8651.88,\n",
       " 'JRO': 6069.11,\n",
       " 'MBA': 6216.92,\n",
       " 'IST': 1251.18,\n",
       " 'KUL': 9423.1,\n",
       " 'SEA': 8674.21,\n",
       " 'BEG': 464.43,\n",
       " 'YTZ': 6939.88,\n",
       " 'ORD': 7569.02,\n",
       " 'ARN': 1287.52,\n",
       " 'CPT': 9130.9,\n",
       " 'CEB': 10415.34,\n",
       " 'ZNZ': 6436.28,\n",
       " 'JMK': 1384.52,\n",
       " 'KBV': 8778.85,\n",
       " 'BOG': 9674.04,\n",
       " 'KIX': 9008.78,\n",
       " 'SYD': 15969.39,\n",
       " 'POA': 10989.3,\n",
       " 'VAR': 1028.03,\n",
       " 'CTG': 9300.75,\n",
       " 'SKP': 790.12,\n",
       " 'KZN': 2370.92,\n",
       " 'YVR': 8529.18,\n",
       " 'NCE': 875.3,\n",
       " 'REC': 8025.9,\n",
       " 'PVG': 8500.89,\n",
       " 'SHA': 8467.68,\n",
       " 'NBO': 5840.73,\n",
       " 'HKT': 8728.08,\n",
       " 'MEX': 10170.17,\n",
       " 'DAR': 6504.69,\n",
       " 'ESB': 1578.84,\n",
       " 'MDC': 11230.45,\n",
       " 'FOR': 7852.01,\n",
       " 'FCO': 778.22,\n",
       " 'URC': 5301.18,\n",
       " 'DAD': 8809.4,\n",
       " 'OAX': 10232.93,\n",
       " 'PLQ': 928.02,\n",
       " 'ABQ': 9190.8,\n",
       " 'ANC': 7806.67,\n",
       " 'OZH': 1393.0,\n",
       " 'POP': 8181.62,\n",
       " 'CDG': 1033.42,\n",
       " 'BNE': 15640.56,\n",
       " 'BOM': 5960.97,\n",
       " 'PDX': 8868.79,\n",
       " 'OVB': 4460.35,\n",
       " 'SCV': 731.28,\n",
       " 'PSO': 10181.02,\n",
       " 'PDG': 9610.42,\n",
       " 'LTN': 1277.78,\n",
       " 'KLX': 1306.13,\n",
       " 'MPH': 10135.74,\n",
       " 'KCH': 10168.58,\n",
       " 'DFW': 8858.5,\n",
       " 'MSP': 7628.99,\n",
       " 'PFO': 1987.29,\n",
       " 'RMF': 2960.6,\n",
       " 'SPU': 508.24,\n",
       " 'BUS': 2090.81,\n",
       " 'BOJ': 1053.06,\n",
       " 'EDI': 1610.09,\n",
       " 'HAN': 8217.79,\n",
       " 'MCO': 8241.98,\n",
       " 'TRD': 1742.25,\n",
       " 'MCX': 2477.55,\n",
       " 'CHQ': 1531.62,\n",
       " 'KLO': 10186.12,\n",
       " 'ADL': 15098.44,\n",
       " 'RJK': 355.22,\n",
       " 'IAH': 9010.74,\n",
       " 'TOS': 2403.17,\n",
       " 'CLT': 7678.01,\n",
       " 'CAK': 7267.31,\n",
       " 'HBE': 2212.07,\n",
       " 'IKT': 5876.22,\n",
       " 'SFO': 9657.49,\n",
       " 'SVG': 1396.13,\n",
       " 'BSL': 675.87,\n",
       " 'UTP': 8554.75,\n",
       " 'HNL': 12278.36,\n",
       " 'DUR': 8802.1,\n",
       " 'SDQ': 8222.17,\n",
       " 'FUK': 8814.28,\n",
       " 'NAT': 7840.36,\n",
       " 'EVE': 2267.48,\n",
       " 'VRA': 8673.13,\n",
       " 'SZX': 8670.47,\n",
       " 'SAN': 9921.71,\n",
       " 'SUB': 11082.97,\n",
       " 'AUH': 4243.14,\n",
       " 'ARK': 6048.6,\n",
       " 'LXA': 6515.56,\n",
       " 'FLL': 8354.06,\n",
       " 'SZF': 1748.1,\n",
       " 'XNN': 6781.29,\n",
       " 'GSV': nan,\n",
       " 'PKC': 8217.66,\n",
       " 'DLC': 7841.04,\n",
       " 'FLR': 632.12,\n",
       " 'DJE': 1654.3,\n",
       " 'SDR': 1659.47,\n",
       " 'DTW': 7284.26,\n",
       " 'UME': 1759.76,\n",
       " 'CUR': 8674.41,\n",
       " 'CRK': 9761.5,\n",
       " 'KHV': 7760.08,\n",
       " 'ACA': 10449.87,\n",
       " 'AGP': 2134.86,\n",
       " 'CEK': 3140.16,\n",
       " 'MRV': 2077.21,\n",
       " 'AKU': 4951.27,\n",
       " 'ATL': 8027.3,\n",
       " 'SLC': 8914.33,\n",
       " 'SVX': 3089.89,\n",
       " 'URT': 8705.89,\n",
       " 'ZAZ': 1554.16,\n",
       " 'YYT': 4989.66,\n",
       " 'ZTH': 1203.63,\n",
       " 'HAA': 2507.29,\n",
       " 'SJD': 10461.59,\n",
       " 'MYY': 10201.11,\n",
       " 'RDD': 9365.04,\n",
       " 'GAU': 6801.85,\n",
       " 'YHZ': 5855.16,\n",
       " 'KRR': 1755.52,\n",
       " 'CLE': 7253.72,\n",
       " 'TRV': 7132.23,\n",
       " 'ITM': 8987.46,\n",
       " 'BKI': 10217.93,\n",
       " 'LYS': 910.63,\n",
       " 'PVR': 10434.26,\n",
       " 'CNX': 7914.16,\n",
       " 'BOO': 2135.46,\n",
       " 'COK': 6954.01,\n",
       " 'GRV': 2317.84,\n",
       " 'LEX': 7685.17,\n",
       " 'SSA': 8675.71,\n",
       " 'KWL': 8198.76,\n",
       " 'YXY': 7651.63,\n",
       " 'BDS': 834.87,\n",
       " 'DEN': 8655.1,\n",
       " 'CCU': 6831.72,\n",
       " 'CNF': 9631.78,\n",
       " 'CLO': 9935.62,\n",
       " 'STL': 7973.94,\n",
       " 'BWI': 7099.51,\n",
       " 'OSR': 210.28,\n",
       " 'BSB': 9543.94,\n",
       " 'KJA': 4990.89,\n",
       " 'MOL': 1727.12,\n",
       " 'UFA': 2784.94,\n",
       " 'HYD': 6516.8,\n",
       " 'KUF': 2412.64,\n",
       " 'NAL': 2148.42,\n",
       " 'PUS': 8591.11,\n",
       " 'TAC': 10409.47,\n",
       " 'CDT': nan,\n",
       " 'AAQ': 1621.58,\n",
       " 'CCC': 8528.59,\n",
       " 'LKN': 2236.58,\n",
       " 'LKO': 5960.99,\n",
       " 'SNU': 8630.67,\n",
       " 'DVO': 10804.65,\n",
       " 'IGU': 10815.98,\n",
       " 'HAK': 8655.02,\n",
       " 'KNO': 1022.64,\n",
       " 'BJX': 10179.16,\n",
       " 'MAO': 9275.4,\n",
       " 'MTY': 9667.54,\n",
       " 'BVB': 8830.36,\n",
       " 'RGK': nan,\n",
       " 'BLR': 6793.05,\n",
       " 'PHL': 6957.08,\n",
       " 'SYX': 8712.93,\n",
       " 'OKA': 9288.18,\n",
       " 'PEN': 9105.82,\n",
       " 'ASR': 1839.88,\n",
       " 'YQB': 6231.43,\n",
       " 'HBA': 16216.63,\n",
       " 'KOA': 12439.61,\n",
       " 'AMD': 5628.86,\n",
       " 'LIR': 10015.93,\n",
       " 'LOP': nan,\n",
       " 'KMG': 7699.29,\n",
       " 'MDE': 9647.62,\n",
       " 'PQC': 8974.18,\n",
       " 'NVT': 10564.56,\n",
       " 'JAI': 5580.01,\n",
       " 'NGO': 9055.2,\n",
       " 'UUD': 6077.67,\n",
       " 'LBJ': 11700.8,\n",
       " 'AUS': 9131.61,\n",
       " 'KHH': 9123.15,\n",
       " 'ABS': 3158.43,\n",
       " 'PER': 13248.71}"
      ]
     },
     "execution_count": 107,
     "metadata": {},
     "output_type": "execute_result"
    }
   ],
   "source": [
    "iata_dist_dict"
   ]
  },
  {
   "cell_type": "markdown",
   "metadata": {},
   "source": [
    "Saving dict - method one: np"
   ]
  },
  {
   "cell_type": "code",
   "execution_count": 108,
   "metadata": {},
   "outputs": [],
   "source": [
    "# saving the dictionary into a file\n",
    "np.save('C://Users/Krisz/Desktop/ceu/materials/Coding3/Homework/iata_dist_dict.npy', iata_dist_dict) "
   ]
  },
  {
   "cell_type": "code",
   "execution_count": 109,
   "metadata": {
    "collapsed": true
   },
   "outputs": [
    {
     "data": {
      "text/plain": [
       "{'TPE': 8971.74,\n",
       " 'SAW': 1287.53,\n",
       " 'HRG': 2764.82,\n",
       " 'ALG': 1671.99,\n",
       " 'TLV': 2361.99,\n",
       " 'CUZ': 11016.84,\n",
       " 'YQT': 7142.86,\n",
       " 'LCA': 2036.77,\n",
       " 'JFK': 6806.94,\n",
       " 'MEL': 15736.61,\n",
       " 'GOI': 6333.27,\n",
       " 'MLE': 7266.15,\n",
       " 'KUT': 2126.06,\n",
       " 'SVO': 1664.03,\n",
       " 'DME': 1669.59,\n",
       " 'WAW': 549.79,\n",
       " 'TUN': 1354.74,\n",
       " 'HEL': 1461.28,\n",
       " 'MAD': 1806.27,\n",
       " 'LIS': 2305.15,\n",
       " 'TLL': 1367.55,\n",
       " 'OTP': 829.4,\n",
       " 'NYO': 1188.14,\n",
       " 'CPH': 878.83,\n",
       " 'TIA': 784.48,\n",
       " 'SEZ': 6986.83,\n",
       " 'CMN': 2594.18,\n",
       " 'TZL': 438.15,\n",
       " 'BLQ': 566.83,\n",
       " 'PRN': 707.4,\n",
       " 'KIV': 937.33,\n",
       " 'DBV': 630.69,\n",
       " 'MLA': 1373.41,\n",
       " 'SKG': 984.99,\n",
       " 'AMS': 959.16,\n",
       " 'OSL': 1389.93,\n",
       " 'CRL': 915.58,\n",
       " 'SOF': 804.52,\n",
       " 'ZRH': 602.08,\n",
       " 'KBP': 1068.83,\n",
       " 'MRS': 1020.65,\n",
       " 'BHX': 1383.87,\n",
       " 'STR': 547.87,\n",
       " 'AYT': 1700.79,\n",
       " 'DPS': 11371.95,\n",
       " 'KEF': 2933.24,\n",
       " 'BEY': 2235.53,\n",
       " 'LAX': 9857.08,\n",
       " 'SHE': 7736.47,\n",
       " 'TBS': 2333.8,\n",
       " 'CMB': 7453.95,\n",
       " 'WMI': nan,\n",
       " 'LPP': 1616.44,\n",
       " 'OPO': 2125.36,\n",
       " 'CLJ': 555.64,\n",
       " 'BLL': 988.75,\n",
       " 'RAK': 2766.89,\n",
       " 'INI': 670.44,\n",
       " 'SJJ': 495.22,\n",
       " 'BGY': 587.43,\n",
       " 'ATH': 1279.22,\n",
       " 'DUB': 1702.81,\n",
       " 'TRF': 1299.43,\n",
       " 'RIX': 1100.45,\n",
       " 'BVA': 1067.77,\n",
       " 'BRS': 1428.41,\n",
       " 'SIN': 9707.28,\n",
       " 'MNL': 9850.42,\n",
       " 'BJV': 1507.31,\n",
       " 'CGK': 10524.65,\n",
       " 'CAI': 2367.31,\n",
       " 'OHD': 837.88,\n",
       " 'DEL': 5548.27,\n",
       " 'HND': 9147.17,\n",
       " 'EVN': 2375.77,\n",
       " 'GOT': 1100.87,\n",
       " 'ZAD': 455.35,\n",
       " 'ACH': 527.97,\n",
       " 'KHE': 1241.73,\n",
       " 'VNO': 944.89,\n",
       " 'LPL': 1480.01,\n",
       " 'PRG': 278.51,\n",
       " 'SGN': 9124.0,\n",
       " 'ADA': 1961.72,\n",
       " 'GIG': 9877.11,\n",
       " 'CUN': 9229.4,\n",
       " 'LGA': 6803.15,\n",
       " 'EWR': 6829.06,\n",
       " 'MXP': 656.07,\n",
       " 'BRU': 924.93,\n",
       " 'GVA': 816.78,\n",
       " 'ADB': 1386.37,\n",
       " 'LED': 1573.45,\n",
       " 'IEV': 1038.5,\n",
       " 'STN': 1236.01,\n",
       " 'DTM': 745.32,\n",
       " 'SHJ': 4228.65,\n",
       " 'DXB': 4224.49,\n",
       " 'PEK': 7456.0,\n",
       " 'GDN': 710.2,\n",
       " 'BUD': 213.91,\n",
       " 'BGO': 1538.52,\n",
       " 'YYZ': 6948.96,\n",
       " 'IAD': 7166.23,\n",
       " 'TGD': 672.67,\n",
       " 'NRT': 9157.87,\n",
       " 'SJO': 9970.7,\n",
       " 'JNB': 8339.07,\n",
       " 'TNG': 2300.07,\n",
       " 'BNX': 356.2,\n",
       " 'ZAG': 266.45,\n",
       " 'DLM': 1612.69,\n",
       " 'GRU': 10126.21,\n",
       " 'MAA': 6989.41,\n",
       " 'SNN': 1866.81,\n",
       " 'BOD': 1368.61,\n",
       " 'TIV': 656.19,\n",
       " 'CJB': 6925.88,\n",
       " 'PMI': 1457.88,\n",
       " 'BKK': 8453.75,\n",
       " 'LAS': 9504.55,\n",
       " 'ICN': 8253.5,\n",
       " 'VKO': 1641.23,\n",
       " 'EIN': 883.92,\n",
       " 'USM': 8740.46,\n",
       " 'SSH': 2715.09,\n",
       " 'LIM': 11273.84,\n",
       " 'YUL': 6465.9,\n",
       " 'HAV': 8760.77,\n",
       " 'CAN': 8573.38,\n",
       " 'FAO': 2342.7,\n",
       " 'PRI': 6960.98,\n",
       " 'FMO': 774.98,\n",
       " 'BOS': 6506.98,\n",
       " 'PUJ': 8115.5,\n",
       " 'WDH': 7852.32,\n",
       " 'YYC': 8022.17,\n",
       " 'MIA': 8384.9,\n",
       " 'BCN': 1369.26,\n",
       " 'CFU': 982.68,\n",
       " 'MRU': 8651.88,\n",
       " 'JRO': 6069.11,\n",
       " 'MBA': 6216.92,\n",
       " 'IST': 1251.18,\n",
       " 'KUL': 9423.1,\n",
       " 'SEA': 8674.21,\n",
       " 'BEG': 464.43,\n",
       " 'YTZ': 6939.88,\n",
       " 'ORD': 7569.02,\n",
       " 'ARN': 1287.52,\n",
       " 'CPT': 9130.9,\n",
       " 'CEB': 10415.34,\n",
       " 'ZNZ': 6436.28,\n",
       " 'JMK': 1384.52,\n",
       " 'KBV': 8778.85,\n",
       " 'BOG': 9674.04,\n",
       " 'KIX': 9008.78,\n",
       " 'SYD': 15969.39,\n",
       " 'POA': 10989.3,\n",
       " 'VAR': 1028.03,\n",
       " 'CTG': 9300.75,\n",
       " 'SKP': 790.12,\n",
       " 'KZN': 2370.92,\n",
       " 'YVR': 8529.18,\n",
       " 'NCE': 875.3,\n",
       " 'REC': 8025.9,\n",
       " 'PVG': 8500.89,\n",
       " 'SHA': 8467.68,\n",
       " 'NBO': 5840.73,\n",
       " 'HKT': 8728.08,\n",
       " 'MEX': 10170.17,\n",
       " 'DAR': 6504.69,\n",
       " 'ESB': 1578.84,\n",
       " 'MDC': 11230.45,\n",
       " 'FOR': 7852.01,\n",
       " 'FCO': 778.22,\n",
       " 'URC': 5301.18,\n",
       " 'DAD': 8809.4,\n",
       " 'OAX': 10232.93,\n",
       " 'PLQ': 928.02,\n",
       " 'ABQ': 9190.8,\n",
       " 'ANC': 7806.67,\n",
       " 'OZH': 1393.0,\n",
       " 'POP': 8181.62,\n",
       " 'CDG': 1033.42,\n",
       " 'BNE': 15640.56,\n",
       " 'BOM': 5960.97,\n",
       " 'PDX': 8868.79,\n",
       " 'OVB': 4460.35,\n",
       " 'SCV': 731.28,\n",
       " 'PSO': 10181.02,\n",
       " 'PDG': 9610.42,\n",
       " 'LTN': 1277.78,\n",
       " 'KLX': 1306.13,\n",
       " 'MPH': 10135.74,\n",
       " 'KCH': 10168.58,\n",
       " 'DFW': 8858.5,\n",
       " 'MSP': 7628.99,\n",
       " 'PFO': 1987.29,\n",
       " 'RMF': 2960.6,\n",
       " 'SPU': 508.24,\n",
       " 'BUS': 2090.81,\n",
       " 'BOJ': 1053.06,\n",
       " 'EDI': 1610.09,\n",
       " 'HAN': 8217.79,\n",
       " 'MCO': 8241.98,\n",
       " 'TRD': 1742.25,\n",
       " 'MCX': 2477.55,\n",
       " 'CHQ': 1531.62,\n",
       " 'KLO': 10186.12,\n",
       " 'ADL': 15098.44,\n",
       " 'RJK': 355.22,\n",
       " 'IAH': 9010.74,\n",
       " 'TOS': 2403.17,\n",
       " 'CLT': 7678.01,\n",
       " 'CAK': 7267.31,\n",
       " 'HBE': 2212.07,\n",
       " 'IKT': 5876.22,\n",
       " 'SFO': 9657.49,\n",
       " 'SVG': 1396.13,\n",
       " 'BSL': 675.87,\n",
       " 'UTP': 8554.75,\n",
       " 'HNL': 12278.36,\n",
       " 'DUR': 8802.1,\n",
       " 'SDQ': 8222.17,\n",
       " 'FUK': 8814.28,\n",
       " 'NAT': 7840.36,\n",
       " 'EVE': 2267.48,\n",
       " 'VRA': 8673.13,\n",
       " 'SZX': 8670.47,\n",
       " 'SAN': 9921.71,\n",
       " 'SUB': 11082.97,\n",
       " 'AUH': 4243.14,\n",
       " 'ARK': 6048.6,\n",
       " 'LXA': 6515.56,\n",
       " 'FLL': 8354.06,\n",
       " 'SZF': 1748.1,\n",
       " 'XNN': 6781.29,\n",
       " 'GSV': nan,\n",
       " 'PKC': 8217.66,\n",
       " 'DLC': 7841.04,\n",
       " 'FLR': 632.12,\n",
       " 'DJE': 1654.3,\n",
       " 'SDR': 1659.47,\n",
       " 'DTW': 7284.26,\n",
       " 'UME': 1759.76,\n",
       " 'CUR': 8674.41,\n",
       " 'CRK': 9761.5,\n",
       " 'KHV': 7760.08,\n",
       " 'ACA': 10449.87,\n",
       " 'AGP': 2134.86,\n",
       " 'CEK': 3140.16,\n",
       " 'MRV': 2077.21,\n",
       " 'AKU': 4951.27,\n",
       " 'ATL': 8027.3,\n",
       " 'SLC': 8914.33,\n",
       " 'SVX': 3089.89,\n",
       " 'URT': 8705.89,\n",
       " 'ZAZ': 1554.16,\n",
       " 'YYT': 4989.66,\n",
       " 'ZTH': 1203.63,\n",
       " 'HAA': 2507.29,\n",
       " 'SJD': 10461.59,\n",
       " 'MYY': 10201.11,\n",
       " 'RDD': 9365.04,\n",
       " 'GAU': 6801.85,\n",
       " 'YHZ': 5855.16,\n",
       " 'KRR': 1755.52,\n",
       " 'CLE': 7253.72,\n",
       " 'TRV': 7132.23,\n",
       " 'ITM': 8987.46,\n",
       " 'BKI': 10217.93,\n",
       " 'LYS': 910.63,\n",
       " 'PVR': 10434.26,\n",
       " 'CNX': 7914.16,\n",
       " 'BOO': 2135.46,\n",
       " 'COK': 6954.01,\n",
       " 'GRV': 2317.84,\n",
       " 'LEX': 7685.17,\n",
       " 'SSA': 8675.71,\n",
       " 'KWL': 8198.76,\n",
       " 'YXY': 7651.63,\n",
       " 'BDS': 834.87,\n",
       " 'DEN': 8655.1,\n",
       " 'CCU': 6831.72,\n",
       " 'CNF': 9631.78,\n",
       " 'CLO': 9935.62,\n",
       " 'STL': 7973.94,\n",
       " 'BWI': 7099.51,\n",
       " 'OSR': 210.28,\n",
       " 'BSB': 9543.94,\n",
       " 'KJA': 4990.89,\n",
       " 'MOL': 1727.12,\n",
       " 'UFA': 2784.94,\n",
       " 'HYD': 6516.8,\n",
       " 'KUF': 2412.64,\n",
       " 'NAL': 2148.42,\n",
       " 'PUS': 8591.11,\n",
       " 'TAC': 10409.47,\n",
       " 'CDT': nan,\n",
       " 'AAQ': 1621.58,\n",
       " 'CCC': 8528.59,\n",
       " 'LKN': 2236.58,\n",
       " 'LKO': 5960.99,\n",
       " 'SNU': 8630.67,\n",
       " 'DVO': 10804.65,\n",
       " 'IGU': 10815.98,\n",
       " 'HAK': 8655.02,\n",
       " 'KNO': 1022.64,\n",
       " 'BJX': 10179.16,\n",
       " 'MAO': 9275.4,\n",
       " 'MTY': 9667.54,\n",
       " 'BVB': 8830.36,\n",
       " 'RGK': nan,\n",
       " 'BLR': 6793.05,\n",
       " 'PHL': 6957.08,\n",
       " 'SYX': 8712.93,\n",
       " 'OKA': 9288.18,\n",
       " 'PEN': 9105.82,\n",
       " 'ASR': 1839.88,\n",
       " 'YQB': 6231.43,\n",
       " 'HBA': 16216.63,\n",
       " 'KOA': 12439.61,\n",
       " 'AMD': 5628.86,\n",
       " 'LIR': 10015.93,\n",
       " 'LOP': nan,\n",
       " 'KMG': 7699.29,\n",
       " 'MDE': 9647.62,\n",
       " 'PQC': 8974.18,\n",
       " 'NVT': 10564.56,\n",
       " 'JAI': 5580.01,\n",
       " 'NGO': 9055.2,\n",
       " 'UUD': 6077.67,\n",
       " 'LBJ': 11700.8,\n",
       " 'AUS': 9131.61,\n",
       " 'KHH': 9123.15,\n",
       " 'ABS': 3158.43,\n",
       " 'PER': 13248.71}"
      ]
     },
     "execution_count": 109,
     "metadata": {},
     "output_type": "execute_result"
    }
   ],
   "source": [
    "read_dict = np.load('C://Users/Krisz/Desktop/ceu/materials/Coding3/Homework/iata_dist_dict.npy', allow_pickle='TRUE').item()\n",
    "read_dict"
   ]
  },
  {
   "cell_type": "markdown",
   "metadata": {},
   "source": [
    "Saving dict - method two: JSON"
   ]
  },
  {
   "cell_type": "code",
   "execution_count": 110,
   "metadata": {},
   "outputs": [],
   "source": [
    "json.dump(iata_dist_dict, open(\"C://Users/Krisz/Desktop/ceu/materials/Coding3/Homework/iata_dist_dict.json\", 'w'))"
   ]
  },
  {
   "cell_type": "code",
   "execution_count": 111,
   "metadata": {
    "collapsed": true
   },
   "outputs": [
    {
     "data": {
      "text/plain": [
       "{'TPE': 8971.74,\n",
       " 'SAW': 1287.53,\n",
       " 'HRG': 2764.82,\n",
       " 'ALG': 1671.99,\n",
       " 'TLV': 2361.99,\n",
       " 'CUZ': 11016.84,\n",
       " 'YQT': 7142.86,\n",
       " 'LCA': 2036.77,\n",
       " 'JFK': 6806.94,\n",
       " 'MEL': 15736.61,\n",
       " 'GOI': 6333.27,\n",
       " 'MLE': 7266.15,\n",
       " 'KUT': 2126.06,\n",
       " 'SVO': 1664.03,\n",
       " 'DME': 1669.59,\n",
       " 'WAW': 549.79,\n",
       " 'TUN': 1354.74,\n",
       " 'HEL': 1461.28,\n",
       " 'MAD': 1806.27,\n",
       " 'LIS': 2305.15,\n",
       " 'TLL': 1367.55,\n",
       " 'OTP': 829.4,\n",
       " 'NYO': 1188.14,\n",
       " 'CPH': 878.83,\n",
       " 'TIA': 784.48,\n",
       " 'SEZ': 6986.83,\n",
       " 'CMN': 2594.18,\n",
       " 'TZL': 438.15,\n",
       " 'BLQ': 566.83,\n",
       " 'PRN': 707.4,\n",
       " 'KIV': 937.33,\n",
       " 'DBV': 630.69,\n",
       " 'MLA': 1373.41,\n",
       " 'SKG': 984.99,\n",
       " 'AMS': 959.16,\n",
       " 'OSL': 1389.93,\n",
       " 'CRL': 915.58,\n",
       " 'SOF': 804.52,\n",
       " 'ZRH': 602.08,\n",
       " 'KBP': 1068.83,\n",
       " 'MRS': 1020.65,\n",
       " 'BHX': 1383.87,\n",
       " 'STR': 547.87,\n",
       " 'AYT': 1700.79,\n",
       " 'DPS': 11371.95,\n",
       " 'KEF': 2933.24,\n",
       " 'BEY': 2235.53,\n",
       " 'LAX': 9857.08,\n",
       " 'SHE': 7736.47,\n",
       " 'TBS': 2333.8,\n",
       " 'CMB': 7453.95,\n",
       " 'WMI': nan,\n",
       " 'LPP': 1616.44,\n",
       " 'OPO': 2125.36,\n",
       " 'CLJ': 555.64,\n",
       " 'BLL': 988.75,\n",
       " 'RAK': 2766.89,\n",
       " 'INI': 670.44,\n",
       " 'SJJ': 495.22,\n",
       " 'BGY': 587.43,\n",
       " 'ATH': 1279.22,\n",
       " 'DUB': 1702.81,\n",
       " 'TRF': 1299.43,\n",
       " 'RIX': 1100.45,\n",
       " 'BVA': 1067.77,\n",
       " 'BRS': 1428.41,\n",
       " 'SIN': 9707.28,\n",
       " 'MNL': 9850.42,\n",
       " 'BJV': 1507.31,\n",
       " 'CGK': 10524.65,\n",
       " 'CAI': 2367.31,\n",
       " 'OHD': 837.88,\n",
       " 'DEL': 5548.27,\n",
       " 'HND': 9147.17,\n",
       " 'EVN': 2375.77,\n",
       " 'GOT': 1100.87,\n",
       " 'ZAD': 455.35,\n",
       " 'ACH': 527.97,\n",
       " 'KHE': 1241.73,\n",
       " 'VNO': 944.89,\n",
       " 'LPL': 1480.01,\n",
       " 'PRG': 278.51,\n",
       " 'SGN': 9124.0,\n",
       " 'ADA': 1961.72,\n",
       " 'GIG': 9877.11,\n",
       " 'CUN': 9229.4,\n",
       " 'LGA': 6803.15,\n",
       " 'EWR': 6829.06,\n",
       " 'MXP': 656.07,\n",
       " 'BRU': 924.93,\n",
       " 'GVA': 816.78,\n",
       " 'ADB': 1386.37,\n",
       " 'LED': 1573.45,\n",
       " 'IEV': 1038.5,\n",
       " 'STN': 1236.01,\n",
       " 'DTM': 745.32,\n",
       " 'SHJ': 4228.65,\n",
       " 'DXB': 4224.49,\n",
       " 'PEK': 7456.0,\n",
       " 'GDN': 710.2,\n",
       " 'BUD': 213.91,\n",
       " 'BGO': 1538.52,\n",
       " 'YYZ': 6948.96,\n",
       " 'IAD': 7166.23,\n",
       " 'TGD': 672.67,\n",
       " 'NRT': 9157.87,\n",
       " 'SJO': 9970.7,\n",
       " 'JNB': 8339.07,\n",
       " 'TNG': 2300.07,\n",
       " 'BNX': 356.2,\n",
       " 'ZAG': 266.45,\n",
       " 'DLM': 1612.69,\n",
       " 'GRU': 10126.21,\n",
       " 'MAA': 6989.41,\n",
       " 'SNN': 1866.81,\n",
       " 'BOD': 1368.61,\n",
       " 'TIV': 656.19,\n",
       " 'CJB': 6925.88,\n",
       " 'PMI': 1457.88,\n",
       " 'BKK': 8453.75,\n",
       " 'LAS': 9504.55,\n",
       " 'ICN': 8253.5,\n",
       " 'VKO': 1641.23,\n",
       " 'EIN': 883.92,\n",
       " 'USM': 8740.46,\n",
       " 'SSH': 2715.09,\n",
       " 'LIM': 11273.84,\n",
       " 'YUL': 6465.9,\n",
       " 'HAV': 8760.77,\n",
       " 'CAN': 8573.38,\n",
       " 'FAO': 2342.7,\n",
       " 'PRI': 6960.98,\n",
       " 'FMO': 774.98,\n",
       " 'BOS': 6506.98,\n",
       " 'PUJ': 8115.5,\n",
       " 'WDH': 7852.32,\n",
       " 'YYC': 8022.17,\n",
       " 'MIA': 8384.9,\n",
       " 'BCN': 1369.26,\n",
       " 'CFU': 982.68,\n",
       " 'MRU': 8651.88,\n",
       " 'JRO': 6069.11,\n",
       " 'MBA': 6216.92,\n",
       " 'IST': 1251.18,\n",
       " 'KUL': 9423.1,\n",
       " 'SEA': 8674.21,\n",
       " 'BEG': 464.43,\n",
       " 'YTZ': 6939.88,\n",
       " 'ORD': 7569.02,\n",
       " 'ARN': 1287.52,\n",
       " 'CPT': 9130.9,\n",
       " 'CEB': 10415.34,\n",
       " 'ZNZ': 6436.28,\n",
       " 'JMK': 1384.52,\n",
       " 'KBV': 8778.85,\n",
       " 'BOG': 9674.04,\n",
       " 'KIX': 9008.78,\n",
       " 'SYD': 15969.39,\n",
       " 'POA': 10989.3,\n",
       " 'VAR': 1028.03,\n",
       " 'CTG': 9300.75,\n",
       " 'SKP': 790.12,\n",
       " 'KZN': 2370.92,\n",
       " 'YVR': 8529.18,\n",
       " 'NCE': 875.3,\n",
       " 'REC': 8025.9,\n",
       " 'PVG': 8500.89,\n",
       " 'SHA': 8467.68,\n",
       " 'NBO': 5840.73,\n",
       " 'HKT': 8728.08,\n",
       " 'MEX': 10170.17,\n",
       " 'DAR': 6504.69,\n",
       " 'ESB': 1578.84,\n",
       " 'MDC': 11230.45,\n",
       " 'FOR': 7852.01,\n",
       " 'FCO': 778.22,\n",
       " 'URC': 5301.18,\n",
       " 'DAD': 8809.4,\n",
       " 'OAX': 10232.93,\n",
       " 'PLQ': 928.02,\n",
       " 'ABQ': 9190.8,\n",
       " 'ANC': 7806.67,\n",
       " 'OZH': 1393.0,\n",
       " 'POP': 8181.62,\n",
       " 'CDG': 1033.42,\n",
       " 'BNE': 15640.56,\n",
       " 'BOM': 5960.97,\n",
       " 'PDX': 8868.79,\n",
       " 'OVB': 4460.35,\n",
       " 'SCV': 731.28,\n",
       " 'PSO': 10181.02,\n",
       " 'PDG': 9610.42,\n",
       " 'LTN': 1277.78,\n",
       " 'KLX': 1306.13,\n",
       " 'MPH': 10135.74,\n",
       " 'KCH': 10168.58,\n",
       " 'DFW': 8858.5,\n",
       " 'MSP': 7628.99,\n",
       " 'PFO': 1987.29,\n",
       " 'RMF': 2960.6,\n",
       " 'SPU': 508.24,\n",
       " 'BUS': 2090.81,\n",
       " 'BOJ': 1053.06,\n",
       " 'EDI': 1610.09,\n",
       " 'HAN': 8217.79,\n",
       " 'MCO': 8241.98,\n",
       " 'TRD': 1742.25,\n",
       " 'MCX': 2477.55,\n",
       " 'CHQ': 1531.62,\n",
       " 'KLO': 10186.12,\n",
       " 'ADL': 15098.44,\n",
       " 'RJK': 355.22,\n",
       " 'IAH': 9010.74,\n",
       " 'TOS': 2403.17,\n",
       " 'CLT': 7678.01,\n",
       " 'CAK': 7267.31,\n",
       " 'HBE': 2212.07,\n",
       " 'IKT': 5876.22,\n",
       " 'SFO': 9657.49,\n",
       " 'SVG': 1396.13,\n",
       " 'BSL': 675.87,\n",
       " 'UTP': 8554.75,\n",
       " 'HNL': 12278.36,\n",
       " 'DUR': 8802.1,\n",
       " 'SDQ': 8222.17,\n",
       " 'FUK': 8814.28,\n",
       " 'NAT': 7840.36,\n",
       " 'EVE': 2267.48,\n",
       " 'VRA': 8673.13,\n",
       " 'SZX': 8670.47,\n",
       " 'SAN': 9921.71,\n",
       " 'SUB': 11082.97,\n",
       " 'AUH': 4243.14,\n",
       " 'ARK': 6048.6,\n",
       " 'LXA': 6515.56,\n",
       " 'FLL': 8354.06,\n",
       " 'SZF': 1748.1,\n",
       " 'XNN': 6781.29,\n",
       " 'GSV': nan,\n",
       " 'PKC': 8217.66,\n",
       " 'DLC': 7841.04,\n",
       " 'FLR': 632.12,\n",
       " 'DJE': 1654.3,\n",
       " 'SDR': 1659.47,\n",
       " 'DTW': 7284.26,\n",
       " 'UME': 1759.76,\n",
       " 'CUR': 8674.41,\n",
       " 'CRK': 9761.5,\n",
       " 'KHV': 7760.08,\n",
       " 'ACA': 10449.87,\n",
       " 'AGP': 2134.86,\n",
       " 'CEK': 3140.16,\n",
       " 'MRV': 2077.21,\n",
       " 'AKU': 4951.27,\n",
       " 'ATL': 8027.3,\n",
       " 'SLC': 8914.33,\n",
       " 'SVX': 3089.89,\n",
       " 'URT': 8705.89,\n",
       " 'ZAZ': 1554.16,\n",
       " 'YYT': 4989.66,\n",
       " 'ZTH': 1203.63,\n",
       " 'HAA': 2507.29,\n",
       " 'SJD': 10461.59,\n",
       " 'MYY': 10201.11,\n",
       " 'RDD': 9365.04,\n",
       " 'GAU': 6801.85,\n",
       " 'YHZ': 5855.16,\n",
       " 'KRR': 1755.52,\n",
       " 'CLE': 7253.72,\n",
       " 'TRV': 7132.23,\n",
       " 'ITM': 8987.46,\n",
       " 'BKI': 10217.93,\n",
       " 'LYS': 910.63,\n",
       " 'PVR': 10434.26,\n",
       " 'CNX': 7914.16,\n",
       " 'BOO': 2135.46,\n",
       " 'COK': 6954.01,\n",
       " 'GRV': 2317.84,\n",
       " 'LEX': 7685.17,\n",
       " 'SSA': 8675.71,\n",
       " 'KWL': 8198.76,\n",
       " 'YXY': 7651.63,\n",
       " 'BDS': 834.87,\n",
       " 'DEN': 8655.1,\n",
       " 'CCU': 6831.72,\n",
       " 'CNF': 9631.78,\n",
       " 'CLO': 9935.62,\n",
       " 'STL': 7973.94,\n",
       " 'BWI': 7099.51,\n",
       " 'OSR': 210.28,\n",
       " 'BSB': 9543.94,\n",
       " 'KJA': 4990.89,\n",
       " 'MOL': 1727.12,\n",
       " 'UFA': 2784.94,\n",
       " 'HYD': 6516.8,\n",
       " 'KUF': 2412.64,\n",
       " 'NAL': 2148.42,\n",
       " 'PUS': 8591.11,\n",
       " 'TAC': 10409.47,\n",
       " 'CDT': nan,\n",
       " 'AAQ': 1621.58,\n",
       " 'CCC': 8528.59,\n",
       " 'LKN': 2236.58,\n",
       " 'LKO': 5960.99,\n",
       " 'SNU': 8630.67,\n",
       " 'DVO': 10804.65,\n",
       " 'IGU': 10815.98,\n",
       " 'HAK': 8655.02,\n",
       " 'KNO': 1022.64,\n",
       " 'BJX': 10179.16,\n",
       " 'MAO': 9275.4,\n",
       " 'MTY': 9667.54,\n",
       " 'BVB': 8830.36,\n",
       " 'RGK': nan,\n",
       " 'BLR': 6793.05,\n",
       " 'PHL': 6957.08,\n",
       " 'SYX': 8712.93,\n",
       " 'OKA': 9288.18,\n",
       " 'PEN': 9105.82,\n",
       " 'ASR': 1839.88,\n",
       " 'YQB': 6231.43,\n",
       " 'HBA': 16216.63,\n",
       " 'KOA': 12439.61,\n",
       " 'AMD': 5628.86,\n",
       " 'LIR': 10015.93,\n",
       " 'LOP': nan,\n",
       " 'KMG': 7699.29,\n",
       " 'MDE': 9647.62,\n",
       " 'PQC': 8974.18,\n",
       " 'NVT': 10564.56,\n",
       " 'JAI': 5580.01,\n",
       " 'NGO': 9055.2,\n",
       " 'UUD': 6077.67,\n",
       " 'LBJ': 11700.8,\n",
       " 'AUS': 9131.61,\n",
       " 'KHH': 9123.15,\n",
       " 'ABS': 3158.43,\n",
       " 'PER': 13248.71}"
      ]
     },
     "execution_count": 111,
     "metadata": {},
     "output_type": "execute_result"
    }
   ],
   "source": [
    "read_dict = json.load(open(\"C://Users/Krisz/Desktop/ceu/materials/Coding3/Homework/iata_dist_dict.json\"))\n",
    "read_dict"
   ]
  },
  {
   "cell_type": "markdown",
   "metadata": {},
   "source": [
    "I'll join this small df to my dataset, and drop those destinations of which we coulnd't scrape how far away they are from Vienna"
   ]
  },
  {
   "cell_type": "code",
   "execution_count": 52,
   "metadata": {},
   "outputs": [
    {
     "data": {
      "text/html": [
       "<div>\n",
       "<style scoped>\n",
       "    .dataframe tbody tr th:only-of-type {\n",
       "        vertical-align: middle;\n",
       "    }\n",
       "\n",
       "    .dataframe tbody tr th {\n",
       "        vertical-align: top;\n",
       "    }\n",
       "\n",
       "    .dataframe thead th {\n",
       "        text-align: right;\n",
       "    }\n",
       "</style>\n",
       "<table border=\"1\" class=\"dataframe\">\n",
       "  <thead>\n",
       "    <tr style=\"text-align: right;\">\n",
       "      <th></th>\n",
       "      <th>Direct</th>\n",
       "      <th>InboundLeg.DepartureDate</th>\n",
       "      <th>MinPrice</th>\n",
       "      <th>OutboundLeg.DepartureDate</th>\n",
       "      <th>QuoteDateTime</th>\n",
       "      <th>CityName</th>\n",
       "      <th>CountryName</th>\n",
       "      <th>IataCode</th>\n",
       "      <th>CarrierDeparting</th>\n",
       "      <th>CarrierArriving</th>\n",
       "      <th>dist_to_Vienna</th>\n",
       "    </tr>\n",
       "  </thead>\n",
       "  <tbody>\n",
       "    <tr>\n",
       "      <th>0</th>\n",
       "      <td>False</td>\n",
       "      <td>2020-06-27</td>\n",
       "      <td>197625.0</td>\n",
       "      <td>2020-06-20</td>\n",
       "      <td>2020-01-27</td>\n",
       "      <td>Taipei</td>\n",
       "      <td>Taiwan</td>\n",
       "      <td>TPE</td>\n",
       "      <td>Qatar Airways</td>\n",
       "      <td>Cathay Pacific</td>\n",
       "      <td>8971.74</td>\n",
       "    </tr>\n",
       "    <tr>\n",
       "      <th>1</th>\n",
       "      <td>True</td>\n",
       "      <td>2020-06-27</td>\n",
       "      <td>44476.0</td>\n",
       "      <td>2020-06-20</td>\n",
       "      <td>2020-01-21</td>\n",
       "      <td>Istanbul</td>\n",
       "      <td>Turkey</td>\n",
       "      <td>SAW</td>\n",
       "      <td>Pegasus Airlines</td>\n",
       "      <td>Pegasus Airlines</td>\n",
       "      <td>1287.53</td>\n",
       "    </tr>\n",
       "    <tr>\n",
       "      <th>2</th>\n",
       "      <td>True</td>\n",
       "      <td>2020-06-27</td>\n",
       "      <td>180885.0</td>\n",
       "      <td>2020-06-20</td>\n",
       "      <td>2020-01-27</td>\n",
       "      <td>Hurghada</td>\n",
       "      <td>Egypt</td>\n",
       "      <td>HRG</td>\n",
       "      <td>Corendon Airlines Europe</td>\n",
       "      <td>Corendon Airlines Europe</td>\n",
       "      <td>2764.82</td>\n",
       "    </tr>\n",
       "    <tr>\n",
       "      <th>3</th>\n",
       "      <td>False</td>\n",
       "      <td>2020-06-27</td>\n",
       "      <td>118824.0</td>\n",
       "      <td>2020-06-20</td>\n",
       "      <td>2020-01-27</td>\n",
       "      <td>Hurghada</td>\n",
       "      <td>Egypt</td>\n",
       "      <td>HRG</td>\n",
       "      <td>Turkish Airlines</td>\n",
       "      <td>Turkish Airlines</td>\n",
       "      <td>2764.82</td>\n",
       "    </tr>\n",
       "    <tr>\n",
       "      <th>4</th>\n",
       "      <td>False</td>\n",
       "      <td>2020-06-27</td>\n",
       "      <td>74710.0</td>\n",
       "      <td>2020-06-20</td>\n",
       "      <td>2020-01-23</td>\n",
       "      <td>Algiers</td>\n",
       "      <td>Algeria</td>\n",
       "      <td>ALG</td>\n",
       "      <td>Vueling Airlines</td>\n",
       "      <td>Vueling Airlines</td>\n",
       "      <td>1671.99</td>\n",
       "    </tr>\n",
       "  </tbody>\n",
       "</table>\n",
       "</div>"
      ],
      "text/plain": [
       "   Direct InboundLeg.DepartureDate  MinPrice OutboundLeg.DepartureDate  \\\n",
       "0   False               2020-06-27  197625.0                2020-06-20   \n",
       "1    True               2020-06-27   44476.0                2020-06-20   \n",
       "2    True               2020-06-27  180885.0                2020-06-20   \n",
       "3   False               2020-06-27  118824.0                2020-06-20   \n",
       "4   False               2020-06-27   74710.0                2020-06-20   \n",
       "\n",
       "  QuoteDateTime  CityName CountryName IataCode          CarrierDeparting  \\\n",
       "0    2020-01-27    Taipei      Taiwan      TPE             Qatar Airways   \n",
       "1    2020-01-21  Istanbul      Turkey      SAW          Pegasus Airlines   \n",
       "2    2020-01-27  Hurghada       Egypt      HRG  Corendon Airlines Europe   \n",
       "3    2020-01-27  Hurghada       Egypt      HRG          Turkish Airlines   \n",
       "4    2020-01-23   Algiers     Algeria      ALG          Vueling Airlines   \n",
       "\n",
       "            CarrierArriving  dist_to_Vienna  \n",
       "0            Cathay Pacific         8971.74  \n",
       "1          Pegasus Airlines         1287.53  \n",
       "2  Corendon Airlines Europe         2764.82  \n",
       "3          Turkish Airlines         2764.82  \n",
       "4          Vueling Airlines         1671.99  "
      ]
     },
     "execution_count": 52,
     "metadata": {},
     "output_type": "execute_result"
    }
   ],
   "source": [
    "df = pd.merge(df, \n",
    "              to_scrape_to, \n",
    "              left_on = 'IataCode', \n",
    "              right_on ='IataCode', \n",
    "              how='left')\n",
    "\n",
    "df.head()"
   ]
  },
  {
   "cell_type": "code",
   "execution_count": 60,
   "metadata": {},
   "outputs": [],
   "source": [
    "# dropping flights to airports I didn't get distances to\n",
    "df = df[df['dist_to_Vienna'].notna()]"
   ]
  },
  {
   "cell_type": "markdown",
   "metadata": {},
   "source": [
    "The distance column is new to my dataset, so let's explore it a little bit"
   ]
  },
  {
   "cell_type": "code",
   "execution_count": 62,
   "metadata": {},
   "outputs": [
    {
     "data": {
      "text/plain": [
       "count    32805.000000\n",
       "mean      2594.828912\n",
       "std       2928.365790\n",
       "min        210.280000\n",
       "25%        878.830000\n",
       "50%       1373.410000\n",
       "75%       2361.990000\n",
       "max      16216.630000\n",
       "Name: dist_to_Vienna, dtype: float64"
      ]
     },
     "execution_count": 62,
     "metadata": {},
     "output_type": "execute_result"
    }
   ],
   "source": [
    "df[\"dist_to_Vienna\"].describe()"
   ]
  },
  {
   "cell_type": "code",
   "execution_count": 68,
   "metadata": {},
   "outputs": [
    {
     "data": {
      "image/png": "[encoded data removed]",
      "text/plain": [
       "<Figure size 1080x360 with 1 Axes>"
      ]
     },
     "metadata": {
      "needs_background": "light"
     },
     "output_type": "display_data"
    }
   ],
   "source": [
    "df['dist_to_Vienna'].plot(bins = 100,\n",
    "                          kind='hist', \n",
    "                          color = 'skyblue',\n",
    "                          lw = 0.5, \n",
    "                          ec = 'black',\n",
    "                          title = \"Most flights are under 3,000 kms away from Vienna, longest ones are 16,000 kms away\",\n",
    "                          figsize = (15,5))\n",
    "\n",
    "plt.show()"
   ]
  },
  {
   "cell_type": "code",
   "execution_count": 89,
   "metadata": {},
   "outputs": [
    {
     "name": "stdout",
     "output_type": "stream",
     "text": [
      "Flights more than 15,000 kms away go to: Australia\n"
     ]
    }
   ],
   "source": [
    "print(\"Flights more than 15,000 kms away go to:\", \", \".join(df[df['dist_to_Vienna'] > 15000]['CountryName'].unique().tolist()))"
   ]
  },
  {
   "cell_type": "code",
   "execution_count": 91,
   "metadata": {},
   "outputs": [
    {
     "name": "stdout",
     "output_type": "stream",
     "text": [
      "Flights between 10,000 and 15,000 kms away go to: Peru, Indonesia, Brazil, Philippines, Mexico, Colombia, Malaysia, United States, Costa Rica, Australia\n"
     ]
    }
   ],
   "source": [
    "print(\"Flights between 10,000 and 15,000 kms away go to:\", \", \".join(df[(df['dist_to_Vienna'] > 10000) & (df['dist_to_Vienna'] < 15000)]['CountryName'].unique().tolist()))"
   ]
  },
  {
   "cell_type": "code",
   "execution_count": 92,
   "metadata": {},
   "outputs": [
    {
     "data": {
      "text/plain": [
       "Direct                                 bool\n",
       "InboundLeg.DepartureDate     datetime64[ns]\n",
       "MinPrice                            float64\n",
       "OutboundLeg.DepartureDate    datetime64[ns]\n",
       "QuoteDateTime                datetime64[ns]\n",
       "CityName                             object\n",
       "CountryName                          object\n",
       "IataCode                             object\n",
       "CarrierDeparting                     object\n",
       "CarrierArriving                      object\n",
       "dist_to_Vienna                      float64\n",
       "dtype: object"
      ]
     },
     "execution_count": 92,
     "metadata": {},
     "output_type": "execute_result"
    }
   ],
   "source": [
    "df.dtypes"
   ]
  },
  {
   "cell_type": "code",
   "execution_count": 93,
   "metadata": {},
   "outputs": [],
   "source": [
    "df.to_csv(\"C://Users/Krisz/Desktop/ceu/materials/Coding3/Homework/sky_data_filtered.csv\", \n",
    "                            index = False, \n",
    "                            encoding = 'utf-8')"
   ]
  },
  {
   "cell_type": "markdown",
   "metadata": {},
   "source": [
    "### 7. TBD"
   ]
  },
  {
   "cell_type": "code",
   "execution_count": 3,
   "metadata": {},
   "outputs": [],
   "source": [
    "df = pd.read_csv(\"C://Users/Krisz/Desktop/ceu/materials/Coding3/Homework/sky_data_filtered.csv\",  \n",
    "                parse_dates = ['InboundLeg.DepartureDate', \n",
    "                               'OutboundLeg.DepartureDate', \n",
    "                               'QuoteDateTime'])"
   ]
  },
  {
   "cell_type": "code",
   "execution_count": 4,
   "metadata": {},
   "outputs": [
    {
     "data": {
      "text/plain": [
       "Direct                                 bool\n",
       "InboundLeg.DepartureDate     datetime64[ns]\n",
       "MinPrice                            float64\n",
       "OutboundLeg.DepartureDate    datetime64[ns]\n",
       "QuoteDateTime                datetime64[ns]\n",
       "CityName                             object\n",
       "CountryName                          object\n",
       "IataCode                             object\n",
       "CarrierDeparting                     object\n",
       "CarrierArriving                      object\n",
       "dist_to_Vienna                      float64\n",
       "dtype: object"
      ]
     },
     "execution_count": 4,
     "metadata": {},
     "output_type": "execute_result"
    }
   ],
   "source": [
    "df.dtypes"
   ]
  },
  {
   "cell_type": "code",
   "execution_count": null,
   "metadata": {},
   "outputs": [],
   "source": []
  },
  {
   "cell_type": "code",
   "execution_count": null,
   "metadata": {},
   "outputs": [],
   "source": []
  },
  {
   "cell_type": "markdown",
   "metadata": {},
   "source": [
    "## Below are a couple of ML algos I've tried, not part of assignment"
   ]
  },
  {
   "cell_type": "markdown",
   "metadata": {},
   "source": [
    "#### Methodology:\n",
    "\n",
    "X:\n",
    "\n",
    "1. Time spend in destination\n",
    "2. Time between quote and departure date\n",
    "3. Month of stay\n",
    "4. Distance from origin\n",
    "5. Direct or not\n",
    "6. Categoricals\n",
    "\n",
    "y:\n",
    "\n",
    "Price of flight\n",
    "\n",
    "Algo:\n",
    "\n",
    "- Dummy\n",
    "- LinReg\n",
    "- LASSO\n",
    "- RF\n",
    "- GradB\n",
    "- AdaB\n",
    "\n",
    "#### Best model: GBM (test score: 96.3% r2, 1.55% rmse ratio)\n",
    "\n",
    "Additional possible performance bettering ideas: scaling / taking log of distance; interactions between carrier and country"
   ]
  },
  {
   "cell_type": "code",
   "execution_count": 200,
   "metadata": {},
   "outputs": [
    {
     "data": {
      "text/html": [
       "<div>\n",
       "<style scoped>\n",
       "    .dataframe tbody tr th:only-of-type {\n",
       "        vertical-align: middle;\n",
       "    }\n",
       "\n",
       "    .dataframe tbody tr th {\n",
       "        vertical-align: top;\n",
       "    }\n",
       "\n",
       "    .dataframe thead th {\n",
       "        text-align: right;\n",
       "    }\n",
       "</style>\n",
       "<table border=\"1\" class=\"dataframe\">\n",
       "  <thead>\n",
       "    <tr style=\"text-align: right;\">\n",
       "      <th></th>\n",
       "      <th>Model</th>\n",
       "      <th>RMSE on train</th>\n",
       "      <th>R2 on train</th>\n",
       "      <th>RMSE rate on train</th>\n",
       "    </tr>\n",
       "  </thead>\n",
       "  <tbody>\n",
       "    <tr>\n",
       "      <th>4</th>\n",
       "      <td>GBM</td>\n",
       "      <td>0.125157</td>\n",
       "      <td>0.980002</td>\n",
       "      <td>0.011431</td>\n",
       "    </tr>\n",
       "    <tr>\n",
       "      <th>3</th>\n",
       "      <td>RF</td>\n",
       "      <td>0.172404</td>\n",
       "      <td>0.962055</td>\n",
       "      <td>0.015747</td>\n",
       "    </tr>\n",
       "    <tr>\n",
       "      <th>2</th>\n",
       "      <td>LASSO</td>\n",
       "      <td>0.241934</td>\n",
       "      <td>0.925276</td>\n",
       "      <td>0.022097</td>\n",
       "    </tr>\n",
       "    <tr>\n",
       "      <th>1</th>\n",
       "      <td>LinReg</td>\n",
       "      <td>0.245307</td>\n",
       "      <td>0.925563</td>\n",
       "      <td>0.022405</td>\n",
       "    </tr>\n",
       "    <tr>\n",
       "      <th>5</th>\n",
       "      <td>AdaBoost</td>\n",
       "      <td>0.366421</td>\n",
       "      <td>0.828594</td>\n",
       "      <td>0.033467</td>\n",
       "    </tr>\n",
       "    <tr>\n",
       "      <th>0</th>\n",
       "      <td>Dummy</td>\n",
       "      <td>0.885049</td>\n",
       "      <td>NaN</td>\n",
       "      <td>0.080836</td>\n",
       "    </tr>\n",
       "  </tbody>\n",
       "</table>\n",
       "</div>"
      ],
      "text/plain": [
       "      Model  RMSE on train  R2 on train  RMSE rate on train\n",
       "4       GBM       0.125157     0.980002            0.011431\n",
       "3        RF       0.172404     0.962055            0.015747\n",
       "2     LASSO       0.241934     0.925276            0.022097\n",
       "1    LinReg       0.245307     0.925563            0.022405\n",
       "5  AdaBoost       0.366421     0.828594            0.033467\n",
       "0     Dummy       0.885049          NaN            0.080836"
      ]
     },
     "metadata": {},
     "output_type": "display_data"
    },
    {
     "data": {
      "text/html": [
       "<div>\n",
       "<style scoped>\n",
       "    .dataframe tbody tr th:only-of-type {\n",
       "        vertical-align: middle;\n",
       "    }\n",
       "\n",
       "    .dataframe tbody tr th {\n",
       "        vertical-align: top;\n",
       "    }\n",
       "\n",
       "    .dataframe thead th {\n",
       "        text-align: right;\n",
       "    }\n",
       "</style>\n",
       "<table border=\"1\" class=\"dataframe\">\n",
       "  <thead>\n",
       "    <tr style=\"text-align: right;\">\n",
       "      <th></th>\n",
       "      <th>Model</th>\n",
       "      <th>RMSE on test</th>\n",
       "      <th>R2 on test</th>\n",
       "      <th>RMSE rate on test</th>\n",
       "    </tr>\n",
       "  </thead>\n",
       "  <tbody>\n",
       "    <tr>\n",
       "      <th>0</th>\n",
       "      <td>GBM</td>\n",
       "      <td>0.170203</td>\n",
       "      <td>0.963067</td>\n",
       "      <td>0.015558</td>\n",
       "    </tr>\n",
       "  </tbody>\n",
       "</table>\n",
       "</div>"
      ],
      "text/plain": [
       "  Model  RMSE on test  R2 on test  RMSE rate on test\n",
       "0   GBM      0.170203    0.963067           0.015558"
      ]
     },
     "metadata": {},
     "output_type": "display_data"
    }
   ],
   "source": [
    "display(perf)\n",
    "display(perf_test)"
   ]
  },
  {
   "cell_type": "markdown",
   "metadata": {},
   "source": [
    "#### Best perfoming model's (gradient boosting machine) predictions vs truth chart"
   ]
  },
  {
   "cell_type": "code",
   "execution_count": 193,
   "metadata": {},
   "outputs": [
    {
     "data": {
      "image/png": "[encoded data removed]",
      "text/plain": [
       "<Figure size 648x432 with 1 Axes>"
      ]
     },
     "metadata": {
      "needs_background": "light"
     },
     "output_type": "display_data"
    }
   ],
   "source": [
    "pred_by_gbm_on_test = grid_search_gbm.best_estimator_.predict(X_test)\n",
    "\n",
    "r2_test = r2_score(y_test, pred_test)\n",
    "\n",
    "pred_vs_act = pd.DataFrame(y_test)\n",
    "pred_vs_act.rename(columns = {'min_price_log': 'actual'}, inplace=True)\n",
    "pred_vs_act['predicted'] = pred_by_rf_on_test\n",
    "\n",
    "pred_vs_act.plot(kind = 'scatter', \n",
    "                 x = ['actual'], y = ['predicted'], \n",
    "                 figsize = (9,6), \n",
    "                 c = \"green\", \n",
    "                 s = 1)\n",
    "\n",
    "plt.text(9.5, 12.5, 'R-squared = %0.3f' % r2_test, fontsize = 14)\n",
    "\n",
    "plt.xlabel('Actual values')\n",
    "plt.ylabel(\"Predicted values\")\n",
    "plt.title(\"Gradient Boosting Machine's performance on the test set\", fontdict = {'fontsize' : 15})\n",
    "\n",
    "plt.plot([9, 13], [9, 13], color = 'black', linewidth = 1)\n",
    "\n",
    "plt.text(11.5, 9.25, 'Under line: underpredicted values', fontsize = 12)\n",
    "plt.text(11.5, 9.5, 'Above line: overpredicted values', fontsize = 12)\n",
    "\n",
    "plt.show()"
   ]
  },
  {
   "cell_type": "markdown",
   "metadata": {},
   "source": [
    "##### Feature Engineering"
   ]
  },
  {
   "cell_type": "code",
   "execution_count": 17,
   "metadata": {},
   "outputs": [
    {
     "data": {
      "text/html": [
       "<div>\n",
       "<style scoped>\n",
       "    .dataframe tbody tr th:only-of-type {\n",
       "        vertical-align: middle;\n",
       "    }\n",
       "\n",
       "    .dataframe tbody tr th {\n",
       "        vertical-align: top;\n",
       "    }\n",
       "\n",
       "    .dataframe thead th {\n",
       "        text-align: right;\n",
       "    }\n",
       "</style>\n",
       "<table border=\"1\" class=\"dataframe\">\n",
       "  <thead>\n",
       "    <tr style=\"text-align: right;\">\n",
       "      <th></th>\n",
       "      <th>Direct</th>\n",
       "      <th>InboundLeg.DepartureDate</th>\n",
       "      <th>MinPrice</th>\n",
       "      <th>OutboundLeg.DepartureDate</th>\n",
       "      <th>QuoteDateTime</th>\n",
       "      <th>CityName</th>\n",
       "      <th>CountryName</th>\n",
       "      <th>IataCode</th>\n",
       "      <th>CarrierDeparting</th>\n",
       "      <th>CarrierArriving</th>\n",
       "      <th>dist_to_Vienna</th>\n",
       "    </tr>\n",
       "  </thead>\n",
       "  <tbody>\n",
       "    <tr>\n",
       "      <th>0</th>\n",
       "      <td>False</td>\n",
       "      <td>2020-06-27</td>\n",
       "      <td>197625.0</td>\n",
       "      <td>2020-06-20</td>\n",
       "      <td>2020-01-27</td>\n",
       "      <td>Taipei</td>\n",
       "      <td>Taiwan</td>\n",
       "      <td>TPE</td>\n",
       "      <td>Qatar Airways</td>\n",
       "      <td>Cathay Pacific</td>\n",
       "      <td>8971.74</td>\n",
       "    </tr>\n",
       "    <tr>\n",
       "      <th>1</th>\n",
       "      <td>True</td>\n",
       "      <td>2020-06-27</td>\n",
       "      <td>44476.0</td>\n",
       "      <td>2020-06-20</td>\n",
       "      <td>2020-01-21</td>\n",
       "      <td>Istanbul</td>\n",
       "      <td>Turkey</td>\n",
       "      <td>SAW</td>\n",
       "      <td>Pegasus Airlines</td>\n",
       "      <td>Pegasus Airlines</td>\n",
       "      <td>1287.53</td>\n",
       "    </tr>\n",
       "    <tr>\n",
       "      <th>2</th>\n",
       "      <td>True</td>\n",
       "      <td>2020-06-27</td>\n",
       "      <td>180885.0</td>\n",
       "      <td>2020-06-20</td>\n",
       "      <td>2020-01-27</td>\n",
       "      <td>Hurghada</td>\n",
       "      <td>Egypt</td>\n",
       "      <td>HRG</td>\n",
       "      <td>Corendon Airlines Europe</td>\n",
       "      <td>Corendon Airlines Europe</td>\n",
       "      <td>2764.82</td>\n",
       "    </tr>\n",
       "    <tr>\n",
       "      <th>3</th>\n",
       "      <td>False</td>\n",
       "      <td>2020-06-27</td>\n",
       "      <td>118824.0</td>\n",
       "      <td>2020-06-20</td>\n",
       "      <td>2020-01-27</td>\n",
       "      <td>Hurghada</td>\n",
       "      <td>Egypt</td>\n",
       "      <td>HRG</td>\n",
       "      <td>Turkish Airlines</td>\n",
       "      <td>Turkish Airlines</td>\n",
       "      <td>2764.82</td>\n",
       "    </tr>\n",
       "    <tr>\n",
       "      <th>4</th>\n",
       "      <td>False</td>\n",
       "      <td>2020-06-27</td>\n",
       "      <td>74710.0</td>\n",
       "      <td>2020-06-20</td>\n",
       "      <td>2020-01-23</td>\n",
       "      <td>Algiers</td>\n",
       "      <td>Algeria</td>\n",
       "      <td>ALG</td>\n",
       "      <td>Vueling Airlines</td>\n",
       "      <td>Vueling Airlines</td>\n",
       "      <td>1671.99</td>\n",
       "    </tr>\n",
       "  </tbody>\n",
       "</table>\n",
       "</div>"
      ],
      "text/plain": [
       "   Direct InboundLeg.DepartureDate  MinPrice OutboundLeg.DepartureDate  \\\n",
       "0   False               2020-06-27  197625.0                2020-06-20   \n",
       "1    True               2020-06-27   44476.0                2020-06-20   \n",
       "2    True               2020-06-27  180885.0                2020-06-20   \n",
       "3   False               2020-06-27  118824.0                2020-06-20   \n",
       "4   False               2020-06-27   74710.0                2020-06-20   \n",
       "\n",
       "  QuoteDateTime  CityName CountryName IataCode          CarrierDeparting  \\\n",
       "0    2020-01-27    Taipei      Taiwan      TPE             Qatar Airways   \n",
       "1    2020-01-21  Istanbul      Turkey      SAW          Pegasus Airlines   \n",
       "2    2020-01-27  Hurghada       Egypt      HRG  Corendon Airlines Europe   \n",
       "3    2020-01-27  Hurghada       Egypt      HRG          Turkish Airlines   \n",
       "4    2020-01-23   Algiers     Algeria      ALG          Vueling Airlines   \n",
       "\n",
       "            CarrierArriving  dist_to_Vienna  \n",
       "0            Cathay Pacific         8971.74  \n",
       "1          Pegasus Airlines         1287.53  \n",
       "2  Corendon Airlines Europe         2764.82  \n",
       "3          Turkish Airlines         2764.82  \n",
       "4          Vueling Airlines         1671.99  "
      ]
     },
     "execution_count": 17,
     "metadata": {},
     "output_type": "execute_result"
    }
   ],
   "source": [
    "data = df.copy()\n",
    "data.head()"
   ]
  },
  {
   "cell_type": "code",
   "execution_count": 18,
   "metadata": {},
   "outputs": [
    {
     "data": {
      "image/png": "[encoded data removed]",
      "text/plain": [
       "<Figure size 1080x360 with 2 Axes>"
      ]
     },
     "metadata": {
      "needs_background": "light"
     },
     "output_type": "display_data"
    }
   ],
   "source": [
    "fig, axes = plt.subplots(nrows=1, ncols=2)\n",
    "fig.suptitle('Do I want to predict level prices or log prices?')\n",
    "\n",
    "data['MinPrice'].plot(bins = 100,\n",
    "                      kind='hist', \n",
    "                      color = 'skyblue',\n",
    "                      lw = 0.5, \n",
    "                      ec = 'black',\n",
    "                      title = \"Very long right tail\",\n",
    "                      ax=axes[0],\n",
    "                      figsize = (15,5))\n",
    "\n",
    "np.log(data['MinPrice']).plot(bins = 50,\n",
    "                              kind='hist', \n",
    "                              color = 'skyblue',\n",
    "                              lw = 0.5, \n",
    "                              ec = 'black',\n",
    "                              title = \"Bi-modal, more normal looking distribution\",                        \n",
    "                              ax=axes[1])\n",
    "\n",
    "axes[0].set_xlabel(\"Prices, level scale\")\n",
    "axes[1].set_xlabel(\"Prices, log scale\")\n",
    "\n",
    "plt.show()"
   ]
  },
  {
   "cell_type": "code",
   "execution_count": 136,
   "metadata": {
    "collapsed": true
   },
   "outputs": [
    {
     "ename": "KeyError",
     "evalue": "'MinPrice'",
     "output_type": "error",
     "traceback": [
      "\u001b[1;31m---------------------------------------------------------------------------\u001b[0m",
      "\u001b[1;31mKeyError\u001b[0m                                  Traceback (most recent call last)",
      "\u001b[1;32m~\\Anaconda3\\lib\\site-packages\\pandas\\core\\indexes\\base.py\u001b[0m in \u001b[0;36mget_loc\u001b[1;34m(self, key, method, tolerance)\u001b[0m\n\u001b[0;32m   2656\u001b[0m             \u001b[1;32mtry\u001b[0m\u001b[1;33m:\u001b[0m\u001b[1;33m\u001b[0m\u001b[1;33m\u001b[0m\u001b[0m\n\u001b[1;32m-> 2657\u001b[1;33m                 \u001b[1;32mreturn\u001b[0m \u001b[0mself\u001b[0m\u001b[1;33m.\u001b[0m\u001b[0m_engine\u001b[0m\u001b[1;33m.\u001b[0m\u001b[0mget_loc\u001b[0m\u001b[1;33m(\u001b[0m\u001b[0mkey\u001b[0m\u001b[1;33m)\u001b[0m\u001b[1;33m\u001b[0m\u001b[1;33m\u001b[0m\u001b[0m\n\u001b[0m\u001b[0;32m   2658\u001b[0m             \u001b[1;32mexcept\u001b[0m \u001b[0mKeyError\u001b[0m\u001b[1;33m:\u001b[0m\u001b[1;33m\u001b[0m\u001b[1;33m\u001b[0m\u001b[0m\n",
      "\u001b[1;32mpandas/_libs/index.pyx\u001b[0m in \u001b[0;36mpandas._libs.index.IndexEngine.get_loc\u001b[1;34m()\u001b[0m\n",
      "\u001b[1;32mpandas/_libs/index.pyx\u001b[0m in \u001b[0;36mpandas._libs.index.IndexEngine.get_loc\u001b[1;34m()\u001b[0m\n",
      "\u001b[1;32mpandas/_libs/hashtable_class_helper.pxi\u001b[0m in \u001b[0;36mpandas._libs.hashtable.PyObjectHashTable.get_item\u001b[1;34m()\u001b[0m\n",
      "\u001b[1;32mpandas/_libs/hashtable_class_helper.pxi\u001b[0m in \u001b[0;36mpandas._libs.hashtable.PyObjectHashTable.get_item\u001b[1;34m()\u001b[0m\n",
      "\u001b[1;31mKeyError\u001b[0m: 'MinPrice'",
      "\nDuring handling of the above exception, another exception occurred:\n",
      "\u001b[1;31mKeyError\u001b[0m                                  Traceback (most recent call last)",
      "\u001b[1;32m<ipython-input-136-abaf35214de3>\u001b[0m in \u001b[0;36m<module>\u001b[1;34m\u001b[0m\n\u001b[1;32m----> 1\u001b[1;33m \u001b[0mdata\u001b[0m\u001b[1;33m[\u001b[0m\u001b[1;34m'min_price_log'\u001b[0m\u001b[1;33m]\u001b[0m \u001b[1;33m=\u001b[0m \u001b[0mnp\u001b[0m\u001b[1;33m.\u001b[0m\u001b[0mlog\u001b[0m\u001b[1;33m(\u001b[0m\u001b[0mdata\u001b[0m\u001b[1;33m[\u001b[0m\u001b[1;34m'MinPrice'\u001b[0m\u001b[1;33m]\u001b[0m\u001b[1;33m)\u001b[0m\u001b[1;33m\u001b[0m\u001b[1;33m\u001b[0m\u001b[0m\n\u001b[0m",
      "\u001b[1;32m~\\Anaconda3\\lib\\site-packages\\pandas\\core\\frame.py\u001b[0m in \u001b[0;36m__getitem__\u001b[1;34m(self, key)\u001b[0m\n\u001b[0;32m   2925\u001b[0m             \u001b[1;32mif\u001b[0m \u001b[0mself\u001b[0m\u001b[1;33m.\u001b[0m\u001b[0mcolumns\u001b[0m\u001b[1;33m.\u001b[0m\u001b[0mnlevels\u001b[0m \u001b[1;33m>\u001b[0m \u001b[1;36m1\u001b[0m\u001b[1;33m:\u001b[0m\u001b[1;33m\u001b[0m\u001b[1;33m\u001b[0m\u001b[0m\n\u001b[0;32m   2926\u001b[0m                 \u001b[1;32mreturn\u001b[0m \u001b[0mself\u001b[0m\u001b[1;33m.\u001b[0m\u001b[0m_getitem_multilevel\u001b[0m\u001b[1;33m(\u001b[0m\u001b[0mkey\u001b[0m\u001b[1;33m)\u001b[0m\u001b[1;33m\u001b[0m\u001b[1;33m\u001b[0m\u001b[0m\n\u001b[1;32m-> 2927\u001b[1;33m             \u001b[0mindexer\u001b[0m \u001b[1;33m=\u001b[0m \u001b[0mself\u001b[0m\u001b[1;33m.\u001b[0m\u001b[0mcolumns\u001b[0m\u001b[1;33m.\u001b[0m\u001b[0mget_loc\u001b[0m\u001b[1;33m(\u001b[0m\u001b[0mkey\u001b[0m\u001b[1;33m)\u001b[0m\u001b[1;33m\u001b[0m\u001b[1;33m\u001b[0m\u001b[0m\n\u001b[0m\u001b[0;32m   2928\u001b[0m             \u001b[1;32mif\u001b[0m \u001b[0mis_integer\u001b[0m\u001b[1;33m(\u001b[0m\u001b[0mindexer\u001b[0m\u001b[1;33m)\u001b[0m\u001b[1;33m:\u001b[0m\u001b[1;33m\u001b[0m\u001b[1;33m\u001b[0m\u001b[0m\n\u001b[0;32m   2929\u001b[0m                 \u001b[0mindexer\u001b[0m \u001b[1;33m=\u001b[0m \u001b[1;33m[\u001b[0m\u001b[0mindexer\u001b[0m\u001b[1;33m]\u001b[0m\u001b[1;33m\u001b[0m\u001b[1;33m\u001b[0m\u001b[0m\n",
      "\u001b[1;32m~\\Anaconda3\\lib\\site-packages\\pandas\\core\\indexes\\base.py\u001b[0m in \u001b[0;36mget_loc\u001b[1;34m(self, key, method, tolerance)\u001b[0m\n\u001b[0;32m   2657\u001b[0m                 \u001b[1;32mreturn\u001b[0m \u001b[0mself\u001b[0m\u001b[1;33m.\u001b[0m\u001b[0m_engine\u001b[0m\u001b[1;33m.\u001b[0m\u001b[0mget_loc\u001b[0m\u001b[1;33m(\u001b[0m\u001b[0mkey\u001b[0m\u001b[1;33m)\u001b[0m\u001b[1;33m\u001b[0m\u001b[1;33m\u001b[0m\u001b[0m\n\u001b[0;32m   2658\u001b[0m             \u001b[1;32mexcept\u001b[0m \u001b[0mKeyError\u001b[0m\u001b[1;33m:\u001b[0m\u001b[1;33m\u001b[0m\u001b[1;33m\u001b[0m\u001b[0m\n\u001b[1;32m-> 2659\u001b[1;33m                 \u001b[1;32mreturn\u001b[0m \u001b[0mself\u001b[0m\u001b[1;33m.\u001b[0m\u001b[0m_engine\u001b[0m\u001b[1;33m.\u001b[0m\u001b[0mget_loc\u001b[0m\u001b[1;33m(\u001b[0m\u001b[0mself\u001b[0m\u001b[1;33m.\u001b[0m\u001b[0m_maybe_cast_indexer\u001b[0m\u001b[1;33m(\u001b[0m\u001b[0mkey\u001b[0m\u001b[1;33m)\u001b[0m\u001b[1;33m)\u001b[0m\u001b[1;33m\u001b[0m\u001b[1;33m\u001b[0m\u001b[0m\n\u001b[0m\u001b[0;32m   2660\u001b[0m         \u001b[0mindexer\u001b[0m \u001b[1;33m=\u001b[0m \u001b[0mself\u001b[0m\u001b[1;33m.\u001b[0m\u001b[0mget_indexer\u001b[0m\u001b[1;33m(\u001b[0m\u001b[1;33m[\u001b[0m\u001b[0mkey\u001b[0m\u001b[1;33m]\u001b[0m\u001b[1;33m,\u001b[0m \u001b[0mmethod\u001b[0m\u001b[1;33m=\u001b[0m\u001b[0mmethod\u001b[0m\u001b[1;33m,\u001b[0m \u001b[0mtolerance\u001b[0m\u001b[1;33m=\u001b[0m\u001b[0mtolerance\u001b[0m\u001b[1;33m)\u001b[0m\u001b[1;33m\u001b[0m\u001b[1;33m\u001b[0m\u001b[0m\n\u001b[0;32m   2661\u001b[0m         \u001b[1;32mif\u001b[0m \u001b[0mindexer\u001b[0m\u001b[1;33m.\u001b[0m\u001b[0mndim\u001b[0m \u001b[1;33m>\u001b[0m \u001b[1;36m1\u001b[0m \u001b[1;32mor\u001b[0m \u001b[0mindexer\u001b[0m\u001b[1;33m.\u001b[0m\u001b[0msize\u001b[0m \u001b[1;33m>\u001b[0m \u001b[1;36m1\u001b[0m\u001b[1;33m:\u001b[0m\u001b[1;33m\u001b[0m\u001b[1;33m\u001b[0m\u001b[0m\n",
      "\u001b[1;32mpandas/_libs/index.pyx\u001b[0m in \u001b[0;36mpandas._libs.index.IndexEngine.get_loc\u001b[1;34m()\u001b[0m\n",
      "\u001b[1;32mpandas/_libs/index.pyx\u001b[0m in \u001b[0;36mpandas._libs.index.IndexEngine.get_loc\u001b[1;34m()\u001b[0m\n",
      "\u001b[1;32mpandas/_libs/hashtable_class_helper.pxi\u001b[0m in \u001b[0;36mpandas._libs.hashtable.PyObjectHashTable.get_item\u001b[1;34m()\u001b[0m\n",
      "\u001b[1;32mpandas/_libs/hashtable_class_helper.pxi\u001b[0m in \u001b[0;36mpandas._libs.hashtable.PyObjectHashTable.get_item\u001b[1;34m()\u001b[0m\n",
      "\u001b[1;31mKeyError\u001b[0m: 'MinPrice'"
     ]
    }
   ],
   "source": [
    "data['min_price_log'] = np.log(data['MinPrice'])"
   ]
  },
  {
   "cell_type": "code",
   "execution_count": 170,
   "metadata": {},
   "outputs": [
    {
     "data": {
      "image/png": "[encoded data removed]",
      "text/plain": [
       "<Figure size 1080x360 with 2 Axes>"
      ]
     },
     "metadata": {
      "needs_background": "light"
     },
     "output_type": "display_data"
    }
   ],
   "source": [
    "data['dist_to_Vienna_log'] = np.log(data['dist_to_Vienna'])\n",
    "\n",
    "fig, axes = plt.subplots(nrows=1, ncols=2)\n",
    "fig.suptitle('Distance to Vienna - y (log price) relationships')\n",
    "\n",
    "data.plot(kind = 'scatter', \n",
    "          x = ['dist_to_Vienna'], y = ['min_price_log'], \n",
    "          figsize = (15,5), \n",
    "          color = \"skyblue\", \n",
    "          ax = axes[0], s = 2)\n",
    "\n",
    "data.plot(kind = 'scatter', \n",
    "          x = ['dist_to_Vienna_log'], y = ['min_price_log'], \n",
    "          figsize = (15,5), \n",
    "          color = \"skyblue\", \n",
    "          ax = axes[1], s = 2)\n",
    "\n",
    "axes[0].set_xlabel(\"Distances, level scale\")\n",
    "axes[1].set_xlabel(\"Distances, log scale\")\n",
    "\n",
    "plt.show()"
   ]
  },
  {
   "cell_type": "markdown",
   "metadata": {},
   "source": [
    "I'll keep distances in level scale, let's see how the models do with that"
   ]
  },
  {
   "cell_type": "markdown",
   "metadata": {},
   "source": [
    "##### Feature creation"
   ]
  },
  {
   "cell_type": "markdown",
   "metadata": {},
   "source": [
    "Time spent in destination"
   ]
  },
  {
   "cell_type": "code",
   "execution_count": 20,
   "metadata": {},
   "outputs": [],
   "source": [
    "data['days_spent'] = data['InboundLeg.DepartureDate'] - data['OutboundLeg.DepartureDate']\n",
    "data['days_spent'] = data['days_spent'].dt.days"
   ]
  },
  {
   "cell_type": "markdown",
   "metadata": {},
   "source": [
    "Month of arrival, month of departure"
   ]
  },
  {
   "cell_type": "code",
   "execution_count": 21,
   "metadata": {},
   "outputs": [],
   "source": [
    "data['month_leaving'] = data['OutboundLeg.DepartureDate'].dt.month_name()\n",
    "data['month_coming_back'] = data['InboundLeg.DepartureDate'].dt.month_name()"
   ]
  },
  {
   "cell_type": "markdown",
   "metadata": {},
   "source": [
    "Time between quote and departure"
   ]
  },
  {
   "cell_type": "code",
   "execution_count": 22,
   "metadata": {},
   "outputs": [],
   "source": [
    "data['days_quote_dep'] = data['OutboundLeg.DepartureDate'] - data['QuoteDateTime']\n",
    "data['days_quote_dep'] = data['days_quote_dep'].dt.days"
   ]
  },
  {
   "cell_type": "code",
   "execution_count": 23,
   "metadata": {},
   "outputs": [],
   "source": [
    "data.drop(['InboundLeg.DepartureDate', 'OutboundLeg.DepartureDate', 'CityName', 'IataCode', 'QuoteDateTime', 'MinPrice'], axis=1, inplace=True)"
   ]
  },
  {
   "cell_type": "code",
   "execution_count": 24,
   "metadata": {},
   "outputs": [],
   "source": [
    "data.rename(columns = {'CarrierDeparting': 'depcar', \n",
    "                       'CarrierArriving': 'arrcar',  \n",
    "                       'Direct' : 'direct', \n",
    "                       'CountryName' : 'country'}, inplace=True)"
   ]
  },
  {
   "cell_type": "markdown",
   "metadata": {},
   "source": [
    "Turn boolean into 1s and 0s"
   ]
  },
  {
   "cell_type": "code",
   "execution_count": 25,
   "metadata": {},
   "outputs": [],
   "source": [
    "data[\"direct\"] = data[\"direct\"].map({False : 0, True : 1}) "
   ]
  },
  {
   "cell_type": "code",
   "execution_count": 26,
   "metadata": {},
   "outputs": [
    {
     "data": {
      "text/html": [
       "<div>\n",
       "<style scoped>\n",
       "    .dataframe tbody tr th:only-of-type {\n",
       "        vertical-align: middle;\n",
       "    }\n",
       "\n",
       "    .dataframe tbody tr th {\n",
       "        vertical-align: top;\n",
       "    }\n",
       "\n",
       "    .dataframe thead th {\n",
       "        text-align: right;\n",
       "    }\n",
       "</style>\n",
       "<table border=\"1\" class=\"dataframe\">\n",
       "  <thead>\n",
       "    <tr style=\"text-align: right;\">\n",
       "      <th></th>\n",
       "      <th>direct</th>\n",
       "      <th>country</th>\n",
       "      <th>depcar</th>\n",
       "      <th>arrcar</th>\n",
       "      <th>dist_to_Vienna</th>\n",
       "      <th>min_price_log</th>\n",
       "      <th>days_spent</th>\n",
       "      <th>month_leaving</th>\n",
       "      <th>month_coming_back</th>\n",
       "      <th>days_quote_dep</th>\n",
       "    </tr>\n",
       "  </thead>\n",
       "  <tbody>\n",
       "    <tr>\n",
       "      <th>0</th>\n",
       "      <td>0</td>\n",
       "      <td>Taiwan</td>\n",
       "      <td>Qatar Airways</td>\n",
       "      <td>Cathay Pacific</td>\n",
       "      <td>8971.74</td>\n",
       "      <td>12.194127</td>\n",
       "      <td>7</td>\n",
       "      <td>June</td>\n",
       "      <td>June</td>\n",
       "      <td>145</td>\n",
       "    </tr>\n",
       "    <tr>\n",
       "      <th>1</th>\n",
       "      <td>1</td>\n",
       "      <td>Turkey</td>\n",
       "      <td>Pegasus Airlines</td>\n",
       "      <td>Pegasus Airlines</td>\n",
       "      <td>1287.53</td>\n",
       "      <td>10.702705</td>\n",
       "      <td>7</td>\n",
       "      <td>June</td>\n",
       "      <td>June</td>\n",
       "      <td>151</td>\n",
       "    </tr>\n",
       "    <tr>\n",
       "      <th>2</th>\n",
       "      <td>1</td>\n",
       "      <td>Egypt</td>\n",
       "      <td>Corendon Airlines Europe</td>\n",
       "      <td>Corendon Airlines Europe</td>\n",
       "      <td>2764.82</td>\n",
       "      <td>12.105617</td>\n",
       "      <td>7</td>\n",
       "      <td>June</td>\n",
       "      <td>June</td>\n",
       "      <td>145</td>\n",
       "    </tr>\n",
       "    <tr>\n",
       "      <th>3</th>\n",
       "      <td>0</td>\n",
       "      <td>Egypt</td>\n",
       "      <td>Turkish Airlines</td>\n",
       "      <td>Turkish Airlines</td>\n",
       "      <td>2764.82</td>\n",
       "      <td>11.685399</td>\n",
       "      <td>7</td>\n",
       "      <td>June</td>\n",
       "      <td>June</td>\n",
       "      <td>145</td>\n",
       "    </tr>\n",
       "    <tr>\n",
       "      <th>4</th>\n",
       "      <td>0</td>\n",
       "      <td>Algeria</td>\n",
       "      <td>Vueling Airlines</td>\n",
       "      <td>Vueling Airlines</td>\n",
       "      <td>1671.99</td>\n",
       "      <td>11.221369</td>\n",
       "      <td>7</td>\n",
       "      <td>June</td>\n",
       "      <td>June</td>\n",
       "      <td>149</td>\n",
       "    </tr>\n",
       "  </tbody>\n",
       "</table>\n",
       "</div>"
      ],
      "text/plain": [
       "   direct  country                    depcar                    arrcar  \\\n",
       "0       0   Taiwan             Qatar Airways            Cathay Pacific   \n",
       "1       1   Turkey          Pegasus Airlines          Pegasus Airlines   \n",
       "2       1    Egypt  Corendon Airlines Europe  Corendon Airlines Europe   \n",
       "3       0    Egypt          Turkish Airlines          Turkish Airlines   \n",
       "4       0  Algeria          Vueling Airlines          Vueling Airlines   \n",
       "\n",
       "   dist_to_Vienna  min_price_log  days_spent month_leaving month_coming_back  \\\n",
       "0         8971.74      12.194127           7          June              June   \n",
       "1         1287.53      10.702705           7          June              June   \n",
       "2         2764.82      12.105617           7          June              June   \n",
       "3         2764.82      11.685399           7          June              June   \n",
       "4         1671.99      11.221369           7          June              June   \n",
       "\n",
       "   days_quote_dep  \n",
       "0             145  \n",
       "1             151  \n",
       "2             145  \n",
       "3             145  \n",
       "4             149  "
      ]
     },
     "execution_count": 26,
     "metadata": {},
     "output_type": "execute_result"
    }
   ],
   "source": [
    "data.head()"
   ]
  },
  {
   "cell_type": "markdown",
   "metadata": {},
   "source": [
    "One-hot encode categoricals"
   ]
  },
  {
   "cell_type": "code",
   "execution_count": 27,
   "metadata": {},
   "outputs": [],
   "source": [
    "data_encoded = data.copy()"
   ]
  },
  {
   "cell_type": "code",
   "execution_count": 28,
   "metadata": {},
   "outputs": [],
   "source": [
    "data_encoded = pd.get_dummies(data_encoded, columns=[\"country\", \"depcar\", \"arrcar\", \"month_leaving\", \"month_coming_back\"], \n",
    "                              prefix=[\"country\", \"depcar\", \"arrcar\", \"month_leaving\", \"month_coming_back\"],\n",
    "                              drop_first = True)"
   ]
  },
  {
   "cell_type": "code",
   "execution_count": 29,
   "metadata": {},
   "outputs": [
    {
     "data": {
      "text/html": [
       "<div>\n",
       "<style scoped>\n",
       "    .dataframe tbody tr th:only-of-type {\n",
       "        vertical-align: middle;\n",
       "    }\n",
       "\n",
       "    .dataframe tbody tr th {\n",
       "        vertical-align: top;\n",
       "    }\n",
       "\n",
       "    .dataframe thead th {\n",
       "        text-align: right;\n",
       "    }\n",
       "</style>\n",
       "<table border=\"1\" class=\"dataframe\">\n",
       "  <thead>\n",
       "    <tr style=\"text-align: right;\">\n",
       "      <th></th>\n",
       "      <th>direct</th>\n",
       "      <th>dist_to_Vienna</th>\n",
       "      <th>min_price_log</th>\n",
       "      <th>days_spent</th>\n",
       "      <th>days_quote_dep</th>\n",
       "      <th>country_Algeria</th>\n",
       "      <th>country_Armenia</th>\n",
       "      <th>country_Australia</th>\n",
       "      <th>country_Belgium</th>\n",
       "      <th>country_Bosnia and Herzegovina</th>\n",
       "      <th>...</th>\n",
       "      <th>arrcar_Xiamen Airlines</th>\n",
       "      <th>arrcar_airBaltic</th>\n",
       "      <th>arrcar_easyJet</th>\n",
       "      <th>arrcar_eurowings</th>\n",
       "      <th>arrcar_jetBlue</th>\n",
       "      <th>month_leaving_July</th>\n",
       "      <th>month_leaving_June</th>\n",
       "      <th>month_coming_back_July</th>\n",
       "      <th>month_coming_back_June</th>\n",
       "      <th>month_coming_back_September</th>\n",
       "    </tr>\n",
       "  </thead>\n",
       "  <tbody>\n",
       "    <tr>\n",
       "      <th>0</th>\n",
       "      <td>0</td>\n",
       "      <td>8971.74</td>\n",
       "      <td>12.194127</td>\n",
       "      <td>7</td>\n",
       "      <td>145</td>\n",
       "      <td>0</td>\n",
       "      <td>0</td>\n",
       "      <td>0</td>\n",
       "      <td>0</td>\n",
       "      <td>0</td>\n",
       "      <td>...</td>\n",
       "      <td>0</td>\n",
       "      <td>0</td>\n",
       "      <td>0</td>\n",
       "      <td>0</td>\n",
       "      <td>0</td>\n",
       "      <td>0</td>\n",
       "      <td>1</td>\n",
       "      <td>0</td>\n",
       "      <td>1</td>\n",
       "      <td>0</td>\n",
       "    </tr>\n",
       "    <tr>\n",
       "      <th>1</th>\n",
       "      <td>1</td>\n",
       "      <td>1287.53</td>\n",
       "      <td>10.702705</td>\n",
       "      <td>7</td>\n",
       "      <td>151</td>\n",
       "      <td>0</td>\n",
       "      <td>0</td>\n",
       "      <td>0</td>\n",
       "      <td>0</td>\n",
       "      <td>0</td>\n",
       "      <td>...</td>\n",
       "      <td>0</td>\n",
       "      <td>0</td>\n",
       "      <td>0</td>\n",
       "      <td>0</td>\n",
       "      <td>0</td>\n",
       "      <td>0</td>\n",
       "      <td>1</td>\n",
       "      <td>0</td>\n",
       "      <td>1</td>\n",
       "      <td>0</td>\n",
       "    </tr>\n",
       "    <tr>\n",
       "      <th>2</th>\n",
       "      <td>1</td>\n",
       "      <td>2764.82</td>\n",
       "      <td>12.105617</td>\n",
       "      <td>7</td>\n",
       "      <td>145</td>\n",
       "      <td>0</td>\n",
       "      <td>0</td>\n",
       "      <td>0</td>\n",
       "      <td>0</td>\n",
       "      <td>0</td>\n",
       "      <td>...</td>\n",
       "      <td>0</td>\n",
       "      <td>0</td>\n",
       "      <td>0</td>\n",
       "      <td>0</td>\n",
       "      <td>0</td>\n",
       "      <td>0</td>\n",
       "      <td>1</td>\n",
       "      <td>0</td>\n",
       "      <td>1</td>\n",
       "      <td>0</td>\n",
       "    </tr>\n",
       "    <tr>\n",
       "      <th>3</th>\n",
       "      <td>0</td>\n",
       "      <td>2764.82</td>\n",
       "      <td>11.685399</td>\n",
       "      <td>7</td>\n",
       "      <td>145</td>\n",
       "      <td>0</td>\n",
       "      <td>0</td>\n",
       "      <td>0</td>\n",
       "      <td>0</td>\n",
       "      <td>0</td>\n",
       "      <td>...</td>\n",
       "      <td>0</td>\n",
       "      <td>0</td>\n",
       "      <td>0</td>\n",
       "      <td>0</td>\n",
       "      <td>0</td>\n",
       "      <td>0</td>\n",
       "      <td>1</td>\n",
       "      <td>0</td>\n",
       "      <td>1</td>\n",
       "      <td>0</td>\n",
       "    </tr>\n",
       "    <tr>\n",
       "      <th>4</th>\n",
       "      <td>0</td>\n",
       "      <td>1671.99</td>\n",
       "      <td>11.221369</td>\n",
       "      <td>7</td>\n",
       "      <td>149</td>\n",
       "      <td>1</td>\n",
       "      <td>0</td>\n",
       "      <td>0</td>\n",
       "      <td>0</td>\n",
       "      <td>0</td>\n",
       "      <td>...</td>\n",
       "      <td>0</td>\n",
       "      <td>0</td>\n",
       "      <td>0</td>\n",
       "      <td>0</td>\n",
       "      <td>0</td>\n",
       "      <td>0</td>\n",
       "      <td>1</td>\n",
       "      <td>0</td>\n",
       "      <td>1</td>\n",
       "      <td>0</td>\n",
       "    </tr>\n",
       "  </tbody>\n",
       "</table>\n",
       "<p>5 rows × 231 columns</p>\n",
       "</div>"
      ],
      "text/plain": [
       "   direct  dist_to_Vienna  min_price_log  days_spent  days_quote_dep  \\\n",
       "0       0         8971.74      12.194127           7             145   \n",
       "1       1         1287.53      10.702705           7             151   \n",
       "2       1         2764.82      12.105617           7             145   \n",
       "3       0         2764.82      11.685399           7             145   \n",
       "4       0         1671.99      11.221369           7             149   \n",
       "\n",
       "   country_Algeria  country_Armenia  country_Australia  country_Belgium  \\\n",
       "0                0                0                  0                0   \n",
       "1                0                0                  0                0   \n",
       "2                0                0                  0                0   \n",
       "3                0                0                  0                0   \n",
       "4                1                0                  0                0   \n",
       "\n",
       "   country_Bosnia and Herzegovina  ...  arrcar_Xiamen Airlines  \\\n",
       "0                               0  ...                       0   \n",
       "1                               0  ...                       0   \n",
       "2                               0  ...                       0   \n",
       "3                               0  ...                       0   \n",
       "4                               0  ...                       0   \n",
       "\n",
       "   arrcar_airBaltic  arrcar_easyJet  arrcar_eurowings  arrcar_jetBlue  \\\n",
       "0                 0               0                 0               0   \n",
       "1                 0               0                 0               0   \n",
       "2                 0               0                 0               0   \n",
       "3                 0               0                 0               0   \n",
       "4                 0               0                 0               0   \n",
       "\n",
       "   month_leaving_July  month_leaving_June  month_coming_back_July  \\\n",
       "0                   0                   1                       0   \n",
       "1                   0                   1                       0   \n",
       "2                   0                   1                       0   \n",
       "3                   0                   1                       0   \n",
       "4                   0                   1                       0   \n",
       "\n",
       "   month_coming_back_June  month_coming_back_September  \n",
       "0                       1                            0  \n",
       "1                       1                            0  \n",
       "2                       1                            0  \n",
       "3                       1                            0  \n",
       "4                       1                            0  \n",
       "\n",
       "[5 rows x 231 columns]"
      ]
     },
     "execution_count": 29,
     "metadata": {},
     "output_type": "execute_result"
    }
   ],
   "source": [
    "data_encoded.head()"
   ]
  },
  {
   "cell_type": "markdown",
   "metadata": {},
   "source": [
    "##### Split to train-test"
   ]
  },
  {
   "cell_type": "code",
   "execution_count": 180,
   "metadata": {},
   "outputs": [],
   "source": [
    "from sklearn.metrics import mean_squared_error\n",
    "from sklearn.metrics import make_scorer\n",
    "from sklearn.metrics import r2_score\n",
    "from sklearn.model_selection import cross_val_score\n",
    "from sklearn.model_selection import train_test_split\n",
    "#from sklearn.model_selection import RandomizedSearchCV (will do grid search instead)\n",
    "from sklearn.model_selection import GridSearchCV\n",
    "\n",
    "#from sklearn.preprocessing import StandardScaler (should scale features but probably will not)\n",
    "\n",
    "from sklearn.dummy import DummyRegressor\n",
    "from sklearn.linear_model import LinearRegression\n",
    "from sklearn.linear_model import Lasso\n",
    "from sklearn.ensemble import RandomForestRegressor\n",
    "from sklearn.ensemble import GradientBoostingRegressor\n",
    "from sklearn.ensemble import AdaBoostRegressor"
   ]
  },
  {
   "cell_type": "code",
   "execution_count": 31,
   "metadata": {},
   "outputs": [],
   "source": [
    "X = data_encoded.drop(columns=\"min_price_log\")\n",
    "y = data_encoded[\"min_price_log\"]"
   ]
  },
  {
   "cell_type": "code",
   "execution_count": 32,
   "metadata": {},
   "outputs": [],
   "source": [
    "X_train, X_test, y_train, y_test = train_test_split(X, y, test_size = 0.2, random_state = 20202020)"
   ]
  },
  {
   "cell_type": "markdown",
   "metadata": {},
   "source": [
    "##### Dummy model to compare other models to"
   ]
  },
  {
   "cell_type": "code",
   "execution_count": 34,
   "metadata": {},
   "outputs": [
    {
     "name": "stdout",
     "output_type": "stream",
     "text": [
      "Dummy model RMSE on the train dataset is: 0.8850494228478999\n",
      "Dummy model RMSE ratio on the train dataset is: 0.08083634726777203\n"
     ]
    }
   ],
   "source": [
    "dummy_mean = DummyRegressor(strategy = \"mean\")\n",
    "\n",
    "dummy_mean.fit(X_train, y_train)\n",
    "\n",
    "dummy_pred = dummy_mean.predict(X_train)\n",
    "\n",
    "dummy_mse = mean_squared_error(y_train, dummy_pred)\n",
    "dummy_rmse = np.sqrt(dummy_mse)\n",
    "dummy_rmse_ratio = dummy_rmse / np.mean(y_train)\n",
    "\n",
    "print(\"Dummy model RMSE on the train dataset is: {}\".format(dummy_rmse))\n",
    "print(\"Dummy model RMSE ratio on the train dataset is: {}\".format(dummy_rmse_ratio))"
   ]
  },
  {
   "cell_type": "markdown",
   "metadata": {},
   "source": [
    "##### Linear regression"
   ]
  },
  {
   "cell_type": "code",
   "execution_count": 122,
   "metadata": {},
   "outputs": [
    {
     "name": "stdout",
     "output_type": "stream",
     "text": [
      "LinReg 5-fold CV RMSE on train: 0.2453070609086187\n"
     ]
    }
   ],
   "source": [
    "linreg = LinearRegression()\n",
    "\n",
    "linreg.fit(X_train, y_train)\n",
    "\n",
    "r2_lr = r2_score(y_train, linreg.predict(X_train))\n",
    "\n",
    "cv_scores = cross_val_score(linreg, X_train, y_train, cv = 5, scoring = 'neg_mean_squared_error')\n",
    "\n",
    "cvscores = np.sqrt(abs(cv_scores))\n",
    "\n",
    "r2_score(y_train, linreg.predict(X_train))\n",
    "\n",
    "print(\"LinReg 5-fold CV RMSE on train: {}\".format(np.mean(cvscores)))"
   ]
  },
  {
   "cell_type": "markdown",
   "metadata": {},
   "source": [
    "##### LASSO regression"
   ]
  },
  {
   "cell_type": "code",
   "execution_count": 51,
   "metadata": {
    "collapsed": true
   },
   "outputs": [
    {
     "name": "stderr",
     "output_type": "stream",
     "text": [
      "C:\\Users\\Krisz\\Anaconda3\\lib\\site-packages\\sklearn\\linear_model\\coordinate_descent.py:475: ConvergenceWarning: Objective did not converge. You might want to increase the number of iterations. Duality gap: 562.5174760431596, tolerance: 2.055725274830396\n",
      "  positive)\n"
     ]
    },
    {
     "data": {
      "text/plain": [
       "GridSearchCV(cv=5, error_score='raise-deprecating',\n",
       "             estimator=Lasso(alpha=1.0, copy_X=True, fit_intercept=True,\n",
       "                             max_iter=1000, normalize=False, positive=False,\n",
       "                             precompute=False, random_state=None,\n",
       "                             selection='cyclic', tol=0.0001, warm_start=False),\n",
       "             iid='warn', n_jobs=-1,\n",
       "             param_grid={'alpha': array([1.e-05, 2.e-05, 3.e-05, 4.e-05, 5.e-05, 6.e-05, 7.e-05, 8.e-05,\n",
       "       9.e-05])},\n",
       "             pre_dispatch='2*n_jobs', refit=True, return_train_score=False,\n",
       "             scoring=None, verbose=0)"
      ]
     },
     "execution_count": 51,
     "metadata": {},
     "output_type": "execute_result"
    }
   ],
   "source": [
    "param_grid = {'alpha': np.arange(0.00001, 0.0001, 0.00001)}\n",
    "\n",
    "lasso = Lasso()\n",
    "\n",
    "grid_search_lasso = GridSearchCV(estimator = lasso, \n",
    "                                 param_grid = param_grid, \n",
    "                                 cv = 5, \n",
    "                                 n_jobs = -1, \n",
    "                                 verbose = 0)\n",
    "\n",
    "grid_search_lasso.fit(X_train, y_train)"
   ]
  },
  {
   "cell_type": "code",
   "execution_count": 52,
   "metadata": {},
   "outputs": [
    {
     "data": {
      "text/plain": [
       "{'alpha': 1e-05}"
      ]
     },
     "execution_count": 52,
     "metadata": {},
     "output_type": "execute_result"
    }
   ],
   "source": [
    "grid_search_lasso.best_params_"
   ]
  },
  {
   "cell_type": "code",
   "execution_count": 123,
   "metadata": {},
   "outputs": [
    {
     "name": "stdout",
     "output_type": "stream",
     "text": [
      "LASSO RMSE on the train dataset is: 0.2419342948697689\n"
     ]
    }
   ],
   "source": [
    "lasso_pred = grid_search_lasso.best_estimator_.predict(X_train)\n",
    "lasso_MSE = mean_squared_error(y_train, lasso_pred)\n",
    "lasso_RMSE = np.sqrt(lasso_MSE)\n",
    "\n",
    "r2_lasso = r2_score(y_train, lasso_pred)\n",
    "\n",
    "print(\"LASSO RMSE on the train dataset is: {}\".format(lasso_RMSE))"
   ]
  },
  {
   "cell_type": "markdown",
   "metadata": {},
   "source": [
    "##### Random Forest"
   ]
  },
  {
   "cell_type": "code",
   "execution_count": 58,
   "metadata": {
    "collapsed": true
   },
   "outputs": [
    {
     "data": {
      "text/plain": [
       "GridSearchCV(cv=5, error_score='raise-deprecating',\n",
       "             estimator=RandomForestRegressor(bootstrap=True, criterion='mse',\n",
       "                                             max_depth=None,\n",
       "                                             max_features='auto',\n",
       "                                             max_leaf_nodes=None,\n",
       "                                             min_impurity_decrease=0.0,\n",
       "                                             min_impurity_split=None,\n",
       "                                             min_samples_leaf=1,\n",
       "                                             min_samples_split=2,\n",
       "                                             min_weight_fraction_leaf=0.0,\n",
       "                                             n_estimators='warn', n_jobs=None,\n",
       "                                             oob_score=False, random_state=None,\n",
       "                                             verbose=0, warm_start=False),\n",
       "             iid='warn', n_jobs=-1,\n",
       "             param_grid={'max_depth': [100, 110], 'max_features': [40],\n",
       "                         'min_samples_leaf': [5], 'min_samples_split': [15],\n",
       "                         'n_estimators': [500]},\n",
       "             pre_dispatch='2*n_jobs', refit=True, return_train_score=False,\n",
       "             scoring=None, verbose=0)"
      ]
     },
     "execution_count": 58,
     "metadata": {},
     "output_type": "execute_result"
    }
   ],
   "source": [
    "param_grid = {\n",
    "    'max_depth': [100],\n",
    "    'max_features': [40],\n",
    "    'min_samples_leaf': [5],\n",
    "    'min_samples_split': [15],\n",
    "    'n_estimators': [500]\n",
    "}\n",
    "\n",
    "rf = RandomForestRegressor(random_state = 20202020)\n",
    "\n",
    "grid_search_rf = GridSearchCV(estimator = rf, \n",
    "                              param_grid = param_grid, \n",
    "                              cv = 5, \n",
    "                              n_jobs = -1, \n",
    "                              verbose = 0)\n",
    "\n",
    "grid_search_rf.fit(X_train, y_train)"
   ]
  },
  {
   "cell_type": "code",
   "execution_count": 59,
   "metadata": {},
   "outputs": [
    {
     "data": {
      "text/plain": [
       "{'max_depth': 100,\n",
       " 'max_features': 40,\n",
       " 'min_samples_leaf': 5,\n",
       " 'min_samples_split': 15,\n",
       " 'n_estimators': 500}"
      ]
     },
     "execution_count": 59,
     "metadata": {},
     "output_type": "execute_result"
    }
   ],
   "source": [
    "grid_search_rf.best_params_"
   ]
  },
  {
   "cell_type": "code",
   "execution_count": 124,
   "metadata": {},
   "outputs": [
    {
     "name": "stdout",
     "output_type": "stream",
     "text": [
      "Random forest RMSE on the train dataset is: 0.1724035510294243\n"
     ]
    }
   ],
   "source": [
    "rf_pred = grid_search_rf.best_estimator_.predict(X_train)\n",
    "RF_MSE = mean_squared_error(y_train, rf_pred)\n",
    "RF_RMSE = np.sqrt(RF_MSE)\n",
    "\n",
    "r2_rf = r2_score(y_train, rf_pred)\n",
    "\n",
    "print(\"Random forest RMSE on the train dataset is: {}\".format(RF_RMSE))"
   ]
  },
  {
   "cell_type": "code",
   "execution_count": 61,
   "metadata": {},
   "outputs": [
    {
     "data": {
      "image/png": "[encoded data removed]",
      "text/plain": [
       "<Figure size 720x360 with 1 Axes>"
      ]
     },
     "metadata": {
      "needs_background": "light"
     },
     "output_type": "display_data"
    }
   ],
   "source": [
    "pd.Series(grid_search_rf.best_estimator_.feature_importances_, list(X_train)). \\\n",
    "sort_values(ascending=True). \\\n",
    "tail(20). \\\n",
    "plot(kind='barh', figsize = (10,5), title='Importance of Features, Random Forest model')\n",
    "\n",
    "plt.ylabel('Feature Importance Score')\n",
    "plt.show()"
   ]
  },
  {
   "cell_type": "markdown",
   "metadata": {},
   "source": [
    "##### Gradient Boosting Machine"
   ]
  },
  {
   "cell_type": "code",
   "execution_count": 185,
   "metadata": {
    "collapsed": true
   },
   "outputs": [
    {
     "data": {
      "text/plain": [
       "GridSearchCV(cv=5, error_score='raise-deprecating',\n",
       "             estimator=GradientBoostingRegressor(alpha=0.9,\n",
       "                                                 criterion='friedman_mse',\n",
       "                                                 init=None, learning_rate=0.1,\n",
       "                                                 loss='ls', max_depth=3,\n",
       "                                                 max_features=None,\n",
       "                                                 max_leaf_nodes=None,\n",
       "                                                 min_impurity_decrease=0.0,\n",
       "                                                 min_impurity_split=None,\n",
       "                                                 min_samples_leaf=1,\n",
       "                                                 min_samples_split=2,\n",
       "                                                 min_weight_fraction_leaf=0.0,\n",
       "                                                 n_estimators=100,\n",
       "                                                 n_iter...\n",
       "                                                 presort='auto',\n",
       "                                                 random_state=20202020,\n",
       "                                                 subsample=1.0, tol=0.0001,\n",
       "                                                 validation_fraction=0.1,\n",
       "                                                 verbose=0, warm_start=False),\n",
       "             iid='warn', n_jobs=-1,\n",
       "             param_grid={'learning_rate': [0.1], 'max_depth': [8],\n",
       "                         'max_features': [80], 'min_samples_split': [2],\n",
       "                         'n_estimators': [500]},\n",
       "             pre_dispatch='2*n_jobs', refit=True, return_train_score=False,\n",
       "             scoring='neg_mean_squared_error', verbose=0)"
      ]
     },
     "execution_count": 185,
     "metadata": {},
     "output_type": "execute_result"
    }
   ],
   "source": [
    "param_grid = {'learning_rate':[0.1], \n",
    "           'n_estimators': [500], \n",
    "           'max_features' : [80],\n",
    "           'max_depth' : [8],\n",
    "           'min_samples_split' : [2]}\n",
    "\n",
    "gbm = GradientBoostingRegressor(random_state = 20202020)\n",
    "\n",
    "grid_search_gbm = GridSearchCV(estimator = gbm,\n",
    "                               param_grid = param_grid, \n",
    "                               scoring = 'neg_mean_squared_error',\n",
    "                               n_jobs = -1,\n",
    "                               cv=5, \n",
    "                               verbose = 0)\n",
    "\n",
    "grid_search_gbm.fit(X_train,y_train)"
   ]
  },
  {
   "cell_type": "code",
   "execution_count": 186,
   "metadata": {},
   "outputs": [
    {
     "data": {
      "text/plain": [
       "{'learning_rate': 0.1,\n",
       " 'max_depth': 8,\n",
       " 'max_features': 80,\n",
       " 'min_samples_split': 2,\n",
       " 'n_estimators': 500}"
      ]
     },
     "execution_count": 186,
     "metadata": {},
     "output_type": "execute_result"
    }
   ],
   "source": [
    "grid_search_gbm.best_params_"
   ]
  },
  {
   "cell_type": "code",
   "execution_count": 187,
   "metadata": {},
   "outputs": [
    {
     "name": "stdout",
     "output_type": "stream",
     "text": [
      "Gradient boosting machine RMSE on the train dataset is: 0.12515740521569538\n"
     ]
    }
   ],
   "source": [
    "gbm_pred = grid_search_gbm.best_estimator_.predict(X_train)\n",
    "GBM_MSE = mean_squared_error(y_train, gbm_pred)\n",
    "GBM_RMSE = np.sqrt(GBM_MSE)\n",
    "\n",
    "r2_gbm = r2_score(y_train, gbm_pred)\n",
    "\n",
    "print(\"Gradient boosting machine RMSE on the train dataset is: {}\".format(GBM_RMSE))"
   ]
  },
  {
   "cell_type": "code",
   "execution_count": 188,
   "metadata": {},
   "outputs": [
    {
     "data": {
      "image/png": "[encoded data removed]",
      "text/plain": [
       "<Figure size 720x360 with 1 Axes>"
      ]
     },
     "metadata": {
      "needs_background": "light"
     },
     "output_type": "display_data"
    }
   ],
   "source": [
    "pd.Series(grid_search_gbm.best_estimator_.feature_importances_, list(X_train)). \\\n",
    "sort_values(ascending=True). \\\n",
    "tail(20). \\\n",
    "plot(kind='barh', figsize = (10,5), title='Importance of Features, Gradient Boosting Machine model')\n",
    "\n",
    "plt.ylabel('Feature Importance Score')\n",
    "plt.show()"
   ]
  },
  {
   "cell_type": "markdown",
   "metadata": {},
   "source": [
    "##### AdaBoost Regressor"
   ]
  },
  {
   "cell_type": "code",
   "execution_count": 194,
   "metadata": {
    "collapsed": true
   },
   "outputs": [
    {
     "data": {
      "text/plain": [
       "GridSearchCV(cv=5, error_score='raise-deprecating',\n",
       "             estimator=AdaBoostRegressor(base_estimator=None, learning_rate=1.0,\n",
       "                                         loss='linear', n_estimators=50,\n",
       "                                         random_state=20202020),\n",
       "             iid='warn', n_jobs=-1,\n",
       "             param_grid={'learning_rate': [0.01], 'loss': ['linear'],\n",
       "                         'n_estimators': [500]},\n",
       "             pre_dispatch='2*n_jobs', refit=True, return_train_score=False,\n",
       "             scoring='neg_mean_squared_error', verbose=0)"
      ]
     },
     "execution_count": 194,
     "metadata": {},
     "output_type": "execute_result"
    }
   ],
   "source": [
    "param_grid = {'learning_rate':[0.01], \n",
    "              'n_estimators': [500], \n",
    "              'loss' : ['linear']} # won't try exponential, linear was chosen over square\n",
    "\n",
    "ada = AdaBoostRegressor(random_state = 20202020)\n",
    "\n",
    "adab_search_gbm = GridSearchCV(estimator = ada,\n",
    "                               param_grid = param_grid, \n",
    "                               scoring = 'neg_mean_squared_error',\n",
    "                               n_jobs = -1,\n",
    "                               cv=5, \n",
    "                               verbose = 0)\n",
    "\n",
    "adab_search_gbm.fit(X_train,y_train)"
   ]
  },
  {
   "cell_type": "code",
   "execution_count": 195,
   "metadata": {},
   "outputs": [
    {
     "data": {
      "text/plain": [
       "{'learning_rate': 0.01, 'loss': 'linear', 'n_estimators': 500}"
      ]
     },
     "execution_count": 195,
     "metadata": {},
     "output_type": "execute_result"
    }
   ],
   "source": [
    "adab_search_gbm.best_params_"
   ]
  },
  {
   "cell_type": "code",
   "execution_count": 196,
   "metadata": {},
   "outputs": [
    {
     "name": "stdout",
     "output_type": "stream",
     "text": [
      "Adaptive boosting machine RMSE on the train dataset is: 0.3664213407046523\n"
     ]
    }
   ],
   "source": [
    "ada_pred = adab_search_gbm.best_estimator_.predict(X_train)\n",
    "ADA_MSE = mean_squared_error(y_train, ada_pred)\n",
    "ADA_RMSE = np.sqrt(ADA_MSE)\n",
    "\n",
    "r2_ada = r2_score(y_train, ada_pred)\n",
    "\n",
    "print(\"Adaptive boosting machine RMSE on the train dataset is: {}\".format(ADA_RMSE))"
   ]
  },
  {
   "cell_type": "code",
   "execution_count": 197,
   "metadata": {},
   "outputs": [
    {
     "data": {
      "image/png": "[encoded data removed]",
      "text/plain": [
       "<Figure size 720x360 with 1 Axes>"
      ]
     },
     "metadata": {
      "needs_background": "light"
     },
     "output_type": "display_data"
    }
   ],
   "source": [
    "pd.Series(adab_search_gbm.best_estimator_.feature_importances_, list(X_train)). \\\n",
    "sort_values(ascending=True). \\\n",
    "tail(20). \\\n",
    "plot(kind='barh', figsize = (10,5), title='Importance of Features, AdaBoost model')\n",
    "\n",
    "plt.ylabel('Feature Importance Score')\n",
    "plt.show()"
   ]
  },
  {
   "cell_type": "markdown",
   "metadata": {},
   "source": [
    "#### Performances, validation on test set"
   ]
  },
  {
   "cell_type": "code",
   "execution_count": 198,
   "metadata": {},
   "outputs": [
    {
     "data": {
      "text/html": [
       "<div>\n",
       "<style scoped>\n",
       "    .dataframe tbody tr th:only-of-type {\n",
       "        vertical-align: middle;\n",
       "    }\n",
       "\n",
       "    .dataframe tbody tr th {\n",
       "        vertical-align: top;\n",
       "    }\n",
       "\n",
       "    .dataframe thead th {\n",
       "        text-align: right;\n",
       "    }\n",
       "</style>\n",
       "<table border=\"1\" class=\"dataframe\">\n",
       "  <thead>\n",
       "    <tr style=\"text-align: right;\">\n",
       "      <th></th>\n",
       "      <th>Model</th>\n",
       "      <th>RMSE on train</th>\n",
       "      <th>R2 on train</th>\n",
       "      <th>RMSE rate on train</th>\n",
       "    </tr>\n",
       "  </thead>\n",
       "  <tbody>\n",
       "    <tr>\n",
       "      <th>4</th>\n",
       "      <td>GBM</td>\n",
       "      <td>0.125157</td>\n",
       "      <td>0.980002</td>\n",
       "      <td>0.011431</td>\n",
       "    </tr>\n",
       "    <tr>\n",
       "      <th>3</th>\n",
       "      <td>RF</td>\n",
       "      <td>0.172404</td>\n",
       "      <td>0.962055</td>\n",
       "      <td>0.015747</td>\n",
       "    </tr>\n",
       "    <tr>\n",
       "      <th>2</th>\n",
       "      <td>LASSO</td>\n",
       "      <td>0.241934</td>\n",
       "      <td>0.925276</td>\n",
       "      <td>0.022097</td>\n",
       "    </tr>\n",
       "    <tr>\n",
       "      <th>1</th>\n",
       "      <td>LinReg</td>\n",
       "      <td>0.245307</td>\n",
       "      <td>0.925563</td>\n",
       "      <td>0.022405</td>\n",
       "    </tr>\n",
       "    <tr>\n",
       "      <th>5</th>\n",
       "      <td>AdaBoost</td>\n",
       "      <td>0.366421</td>\n",
       "      <td>0.828594</td>\n",
       "      <td>0.033467</td>\n",
       "    </tr>\n",
       "    <tr>\n",
       "      <th>0</th>\n",
       "      <td>Dummy</td>\n",
       "      <td>0.885049</td>\n",
       "      <td>NaN</td>\n",
       "      <td>0.080836</td>\n",
       "    </tr>\n",
       "  </tbody>\n",
       "</table>\n",
       "</div>"
      ],
      "text/plain": [
       "      Model  RMSE on train  R2 on train  RMSE rate on train\n",
       "4       GBM       0.125157     0.980002            0.011431\n",
       "3        RF       0.172404     0.962055            0.015747\n",
       "2     LASSO       0.241934     0.925276            0.022097\n",
       "1    LinReg       0.245307     0.925563            0.022405\n",
       "5  AdaBoost       0.366421     0.828594            0.033467\n",
       "0     Dummy       0.885049          NaN            0.080836"
      ]
     },
     "execution_count": 198,
     "metadata": {},
     "output_type": "execute_result"
    }
   ],
   "source": [
    "perf = [['Dummy',dummy_rmse, float('NaN')], ['LinReg',np.mean(cvscores), r2_lr], ['LASSO',lasso_RMSE, r2_lasso], ['RF', RF_RMSE, r2_rf], ['GBM', GBM_RMSE, r2_gbm], ['AdaBoost', ADA_RMSE, r2_ada]]\n",
    "perf = pd.DataFrame(perf, columns = ['Model', 'RMSE on train', 'R2 on train'])\n",
    "perf = perf.sort_values(by=['RMSE on train'], ascending = True)\n",
    "perf['RMSE rate on train'] = perf['RMSE on train'].apply(lambda x: x / np.mean(y_train))\n",
    "perf"
   ]
  },
  {
   "cell_type": "markdown",
   "metadata": {},
   "source": [
    "The best performing model is the Gradient Boosting Machine - off by 1.1% on average, R2 is 98%"
   ]
  },
  {
   "cell_type": "markdown",
   "metadata": {},
   "source": [
    "Let's validate the best performing model on the test set:"
   ]
  },
  {
   "cell_type": "code",
   "execution_count": 199,
   "metadata": {},
   "outputs": [
    {
     "data": {
      "text/html": [
       "<div>\n",
       "<style scoped>\n",
       "    .dataframe tbody tr th:only-of-type {\n",
       "        vertical-align: middle;\n",
       "    }\n",
       "\n",
       "    .dataframe tbody tr th {\n",
       "        vertical-align: top;\n",
       "    }\n",
       "\n",
       "    .dataframe thead th {\n",
       "        text-align: right;\n",
       "    }\n",
       "</style>\n",
       "<table border=\"1\" class=\"dataframe\">\n",
       "  <thead>\n",
       "    <tr style=\"text-align: right;\">\n",
       "      <th></th>\n",
       "      <th>Model</th>\n",
       "      <th>RMSE on test</th>\n",
       "      <th>R2 on test</th>\n",
       "      <th>RMSE rate on test</th>\n",
       "    </tr>\n",
       "  </thead>\n",
       "  <tbody>\n",
       "    <tr>\n",
       "      <th>0</th>\n",
       "      <td>GBM</td>\n",
       "      <td>0.170203</td>\n",
       "      <td>0.963067</td>\n",
       "      <td>0.015558</td>\n",
       "    </tr>\n",
       "  </tbody>\n",
       "</table>\n",
       "</div>"
      ],
      "text/plain": [
       "  Model  RMSE on test  R2 on test  RMSE rate on test\n",
       "0   GBM      0.170203    0.963067           0.015558"
      ]
     },
     "execution_count": 199,
     "metadata": {},
     "output_type": "execute_result"
    }
   ],
   "source": [
    "pred_test = grid_search_gbm.best_estimator_.predict(X_test)\n",
    "test_r2 = r2_score(y_test, pred_test)\n",
    "test_MSE = mean_squared_error(y_test, pred_test)\n",
    "test_RMSE = np.sqrt(test_MSE)\n",
    "test_RMSE_ratio = test_RMSE / np.mean(y_test)\n",
    "\n",
    "perf_test = [['GBM', test_RMSE, test_r2, test_RMSE_ratio]]\n",
    "perf_test = pd.DataFrame(perf_test, columns = ['Model', 'RMSE on test', 'R2 on test', 'RMSE rate on test'])\n",
    "perf_test"
   ]
  },
  {
   "cell_type": "markdown",
   "metadata": {},
   "source": [
    "GBM's performance: 1.1% off on train, 1.5% off on test, 98% r2 on train, 96.3% r2 on test --> GOOD JOB by GBM (minimal, marginal overfit)"
   ]
  },
  {
   "cell_type": "code",
   "execution_count": null,
   "metadata": {},
   "outputs": [],
   "source": []
  }
 ],
 "metadata": {
  "kernelspec": {
   "display_name": "Python 3",
   "language": "python",
   "name": "python3"
  },
  "language_info": {
   "codemirror_mode": {
    "name": "ipython",
    "version": 3
   },
   "file_extension": ".py",
   "mimetype": "text/x-python",
   "name": "python",
   "nbconvert_exporter": "python",
   "pygments_lexer": "ipython3",
   "version": "3.7.3"
  }
 },
 "nbformat": 4,
 "nbformat_minor": 2
}
